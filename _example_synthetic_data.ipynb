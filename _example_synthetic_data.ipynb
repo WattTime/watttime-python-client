{
 "cells": [
  {
   "cell_type": "markdown",
   "metadata": {},
   "source": [
    "# Synthetic Data for Testing"
   ]
  },
  {
   "cell_type": "code",
   "execution_count": 3,
   "metadata": {},
   "outputs": [],
   "source": [
    "from watttime.evaluator.sessions import SessionsGenerator"
   ]
  },
  {
   "cell_type": "markdown",
   "metadata": {},
   "source": [
    "## Example: At home EV charging\n",
    "\n",
    "- Covers a 5.5 - 8.5 hour variable length window\n",
    "- The vehicle has a BMW and has an average power draw of 42.5\n",
    "- Battery is usually typically 50% charged at plug in time.\n",
    "- Charging occurs during the workday"
   ]
  },
  {
   "cell_type": "code",
   "execution_count": 4,
   "metadata": {},
   "outputs": [],
   "source": [
    "ev_kwargs = {\n",
    "    \"max_power_output_rates\": [42.5],\n",
    "    \"max_percent_capacity\": 0.95,  # highest level of charge achieved by battery\n",
    "    \"power_output_efficiency\": 0.75,  # power loss. 1 = no power loss.\n",
    "    \"minimum_battery_starting_capacity\": 0.2,  # minimum starting percent charged\n",
    "    \"minimum_usage_window_start_time\": \"08:00:00\",  # session can start as early as 8am\n",
    "    \"maximum_usage_window_start_time\": \"22:00:00\",  # session can start as late as 9pm\n",
    "}"
   ]
  },
  {
   "cell_type": "code",
   "execution_count": 5,
   "metadata": {},
   "outputs": [],
   "source": [
    "s_ev = SessionsGenerator(**ev_kwargs)"
   ]
  },
  {
   "cell_type": "markdown",
   "metadata": {},
   "source": [
    "Now we can generate synthetic data for users and devices with the attributes set above. The synthetic data creates one example per day."
   ]
  },
  {
   "cell_type": "code",
   "execution_count": 6,
   "metadata": {},
   "outputs": [],
   "source": [
    "# the class has a helper function to generate a random list of unique dates\n",
    "distinct_date_list = s_ev.assign_random_dates(years=[2025])"
   ]
  },
  {
   "cell_type": "markdown",
   "metadata": {},
   "source": [
    "You can generate data from a single user."
   ]
  },
  {
   "cell_type": "code",
   "execution_count": 7,
   "metadata": {},
   "outputs": [
    {
     "data": {
      "text/html": [
       "<div>\n",
       "<style scoped>\n",
       "    .dataframe tbody tr th:only-of-type {\n",
       "        vertical-align: middle;\n",
       "    }\n",
       "\n",
       "    .dataframe tbody tr th {\n",
       "        vertical-align: top;\n",
       "    }\n",
       "\n",
       "    .dataframe thead th {\n",
       "        text-align: right;\n",
       "    }\n",
       "</style>\n",
       "<table border=\"1\" class=\"dataframe\">\n",
       "  <thead>\n",
       "    <tr style=\"text-align: right;\">\n",
       "      <th></th>\n",
       "      <th>0</th>\n",
       "    </tr>\n",
       "  </thead>\n",
       "  <tbody>\n",
       "    <tr>\n",
       "      <th>distinct_dates</th>\n",
       "      <td>2025-01-06</td>\n",
       "    </tr>\n",
       "    <tr>\n",
       "      <th>user_type</th>\n",
       "      <td>r27.7525_tc55_avglc25812_sdlc7930</td>\n",
       "    </tr>\n",
       "    <tr>\n",
       "      <th>usage_window_start</th>\n",
       "      <td>2025-01-06 19:15:00</td>\n",
       "    </tr>\n",
       "    <tr>\n",
       "      <th>usage_window_end</th>\n",
       "      <td>2025-01-07 03:30:00</td>\n",
       "    </tr>\n",
       "    <tr>\n",
       "      <th>initial_charge</th>\n",
       "      <td>0.607095</td>\n",
       "    </tr>\n",
       "    <tr>\n",
       "      <th>usage_time_required_in_minutes</th>\n",
       "      <td>40.774277</td>\n",
       "    </tr>\n",
       "    <tr>\n",
       "      <th>expected_baseline_charge_complete_timestamp</th>\n",
       "      <td>2025-01-06 19:55:46.456627530</td>\n",
       "    </tr>\n",
       "    <tr>\n",
       "      <th>window_length_in_minutes</th>\n",
       "      <td>495.0</td>\n",
       "    </tr>\n",
       "    <tr>\n",
       "      <th>final_charge_time</th>\n",
       "      <td>2025-01-06 19:55:46.456627530</td>\n",
       "    </tr>\n",
       "    <tr>\n",
       "      <th>total_capacity</th>\n",
       "      <td>55</td>\n",
       "    </tr>\n",
       "    <tr>\n",
       "      <th>usage_power_kw</th>\n",
       "      <td>27.7525</td>\n",
       "    </tr>\n",
       "    <tr>\n",
       "      <th>total_intervals_plugged_in</th>\n",
       "      <td>99.0</td>\n",
       "    </tr>\n",
       "    <tr>\n",
       "      <th>MWh_fraction</th>\n",
       "      <td>0.002313</td>\n",
       "    </tr>\n",
       "    <tr>\n",
       "      <th>early_session_stop</th>\n",
       "      <td>False</td>\n",
       "    </tr>\n",
       "  </tbody>\n",
       "</table>\n",
       "</div>"
      ],
      "text/plain": [
       "                                                                             0\n",
       "distinct_dates                                                      2025-01-06\n",
       "user_type                                    r27.7525_tc55_avglc25812_sdlc7930\n",
       "usage_window_start                                         2025-01-06 19:15:00\n",
       "usage_window_end                                           2025-01-07 03:30:00\n",
       "initial_charge                                                        0.607095\n",
       "usage_time_required_in_minutes                                       40.774277\n",
       "expected_baseline_charge_complete_timestamp      2025-01-06 19:55:46.456627530\n",
       "window_length_in_minutes                                                 495.0\n",
       "final_charge_time                                2025-01-06 19:55:46.456627530\n",
       "total_capacity                                                              55\n",
       "usage_power_kw                                                         27.7525\n",
       "total_intervals_plugged_in                                                99.0\n",
       "MWh_fraction                                                          0.002313\n",
       "early_session_stop                                                       False"
      ]
     },
     "execution_count": 7,
     "metadata": {},
     "output_type": "execute_result"
    }
   ],
   "source": [
    "s_ev.synthetic_user_data(distinct_date_list=[distinct_date_list[0]]).T"
   ]
  },
  {
   "cell_type": "markdown",
   "metadata": {},
   "source": [
    "Or for multiple users."
   ]
  },
  {
   "cell_type": "code",
   "execution_count": 8,
   "metadata": {},
   "outputs": [
    {
     "name": "stderr",
     "output_type": "stream",
     "text": [
      "100%|██████████| 10/10 [00:00<00:00, 344.44it/s]\n"
     ]
    },
    {
     "data": {
      "text/html": [
       "<div>\n",
       "<style scoped>\n",
       "    .dataframe tbody tr th:only-of-type {\n",
       "        vertical-align: middle;\n",
       "    }\n",
       "\n",
       "    .dataframe tbody tr th {\n",
       "        vertical-align: top;\n",
       "    }\n",
       "\n",
       "    .dataframe thead th {\n",
       "        text-align: right;\n",
       "    }\n",
       "</style>\n",
       "<table border=\"1\" class=\"dataframe\">\n",
       "  <thead>\n",
       "    <tr style=\"text-align: right;\">\n",
       "      <th></th>\n",
       "      <th>index</th>\n",
       "      <th>distinct_dates</th>\n",
       "      <th>user_type</th>\n",
       "      <th>usage_window_start</th>\n",
       "      <th>usage_window_end</th>\n",
       "      <th>initial_charge</th>\n",
       "      <th>usage_time_required_in_minutes</th>\n",
       "      <th>expected_baseline_charge_complete_timestamp</th>\n",
       "      <th>window_length_in_minutes</th>\n",
       "      <th>final_charge_time</th>\n",
       "      <th>total_capacity</th>\n",
       "      <th>usage_power_kw</th>\n",
       "      <th>total_intervals_plugged_in</th>\n",
       "      <th>MWh_fraction</th>\n",
       "      <th>early_session_stop</th>\n",
       "    </tr>\n",
       "  </thead>\n",
       "  <tbody>\n",
       "    <tr>\n",
       "      <th>0</th>\n",
       "      <td>0</td>\n",
       "      <td>2025-01-06</td>\n",
       "      <td>r28.05_tc74_avglc25436_sdlc7172</td>\n",
       "      <td>2025-01-06 09:35:00</td>\n",
       "      <td>2025-01-06 17:30:00</td>\n",
       "      <td>0.592768</td>\n",
       "      <td>56.545822</td>\n",
       "      <td>2025-01-06 10:31:32.749326972</td>\n",
       "      <td>475.0</td>\n",
       "      <td>2025-01-06 10:31:32.749326972</td>\n",
       "      <td>74</td>\n",
       "      <td>28.0500</td>\n",
       "      <td>95.0</td>\n",
       "      <td>0.002337</td>\n",
       "      <td>False</td>\n",
       "    </tr>\n",
       "    <tr>\n",
       "      <th>1</th>\n",
       "      <td>0</td>\n",
       "      <td>2025-01-06</td>\n",
       "      <td>r31.7475_tc22_avglc29817_sdlc7098</td>\n",
       "      <td>2025-01-06 14:35:00</td>\n",
       "      <td>2025-01-07 00:55:00</td>\n",
       "      <td>0.603506</td>\n",
       "      <td>14.406544</td>\n",
       "      <td>2025-01-06 14:49:24.392666208</td>\n",
       "      <td>620.0</td>\n",
       "      <td>2025-01-06 14:49:24.392666208</td>\n",
       "      <td>22</td>\n",
       "      <td>31.7475</td>\n",
       "      <td>124.0</td>\n",
       "      <td>0.002646</td>\n",
       "      <td>False</td>\n",
       "    </tr>\n",
       "    <tr>\n",
       "      <th>2</th>\n",
       "      <td>0</td>\n",
       "      <td>2025-01-06</td>\n",
       "      <td>r32.81_tc36_avglc27775_sdlc7141</td>\n",
       "      <td>2025-01-06 18:45:00</td>\n",
       "      <td>2025-01-07 03:35:00</td>\n",
       "      <td>0.482781</td>\n",
       "      <td>30.758670</td>\n",
       "      <td>2025-01-06 19:15:45.520208802</td>\n",
       "      <td>530.0</td>\n",
       "      <td>2025-01-06 19:15:45.520208802</td>\n",
       "      <td>36</td>\n",
       "      <td>32.8100</td>\n",
       "      <td>106.0</td>\n",
       "      <td>0.002734</td>\n",
       "      <td>False</td>\n",
       "    </tr>\n",
       "    <tr>\n",
       "      <th>3</th>\n",
       "      <td>0</td>\n",
       "      <td>2025-01-06</td>\n",
       "      <td>r27.37_tc32_avglc24666_sdlc7235</td>\n",
       "      <td>2025-01-06 14:00:00</td>\n",
       "      <td>2025-01-06 23:35:00</td>\n",
       "      <td>0.470005</td>\n",
       "      <td>33.671528</td>\n",
       "      <td>2025-01-06 14:33:40.291679670</td>\n",
       "      <td>575.0</td>\n",
       "      <td>2025-01-06 14:33:40.291679670</td>\n",
       "      <td>32</td>\n",
       "      <td>27.3700</td>\n",
       "      <td>115.0</td>\n",
       "      <td>0.002281</td>\n",
       "      <td>False</td>\n",
       "    </tr>\n",
       "    <tr>\n",
       "      <th>4</th>\n",
       "      <td>0</td>\n",
       "      <td>2025-01-06</td>\n",
       "      <td>r29.919999999999998_tc88_avglc29832_sdlc7032</td>\n",
       "      <td>2025-01-06 21:25:00</td>\n",
       "      <td>2025-01-07 09:55:00</td>\n",
       "      <td>0.320038</td>\n",
       "      <td>111.169706</td>\n",
       "      <td>2025-01-06 23:16:10.182363414</td>\n",
       "      <td>750.0</td>\n",
       "      <td>2025-01-06 23:16:10.182363414</td>\n",
       "      <td>88</td>\n",
       "      <td>29.9200</td>\n",
       "      <td>150.0</td>\n",
       "      <td>0.002493</td>\n",
       "      <td>False</td>\n",
       "    </tr>\n",
       "    <tr>\n",
       "      <th>5</th>\n",
       "      <td>0</td>\n",
       "      <td>2025-01-06</td>\n",
       "      <td>r25.5425_tc36_avglc28647_sdlc6820</td>\n",
       "      <td>2025-01-06 21:15:00</td>\n",
       "      <td>2025-01-07 07:15:00</td>\n",
       "      <td>0.554208</td>\n",
       "      <td>33.470132</td>\n",
       "      <td>2025-01-06 21:48:28.207902324</td>\n",
       "      <td>600.0</td>\n",
       "      <td>2025-01-06 21:48:28.207902324</td>\n",
       "      <td>36</td>\n",
       "      <td>25.5425</td>\n",
       "      <td>120.0</td>\n",
       "      <td>0.002129</td>\n",
       "      <td>False</td>\n",
       "    </tr>\n",
       "    <tr>\n",
       "      <th>6</th>\n",
       "      <td>0</td>\n",
       "      <td>2025-01-06</td>\n",
       "      <td>r30.09_tc77_avglc22791_sdlc7917</td>\n",
       "      <td>2025-01-06 19:30:00</td>\n",
       "      <td>2025-01-07 01:15:00</td>\n",
       "      <td>0.718115</td>\n",
       "      <td>35.603536</td>\n",
       "      <td>2025-01-06 20:05:36.212165958</td>\n",
       "      <td>345.0</td>\n",
       "      <td>2025-01-06 20:05:36.212165958</td>\n",
       "      <td>77</td>\n",
       "      <td>30.0900</td>\n",
       "      <td>69.0</td>\n",
       "      <td>0.002507</td>\n",
       "      <td>False</td>\n",
       "    </tr>\n",
       "    <tr>\n",
       "      <th>7</th>\n",
       "      <td>0</td>\n",
       "      <td>2025-01-06</td>\n",
       "      <td>r31.365_tc113_avglc26690_sdlc7426</td>\n",
       "      <td>2025-01-06 20:55:00</td>\n",
       "      <td>2025-01-07 02:35:00</td>\n",
       "      <td>0.462890</td>\n",
       "      <td>105.295837</td>\n",
       "      <td>2025-01-06 22:40:17.750211624</td>\n",
       "      <td>340.0</td>\n",
       "      <td>2025-01-06 22:40:17.750211624</td>\n",
       "      <td>113</td>\n",
       "      <td>31.3650</td>\n",
       "      <td>68.0</td>\n",
       "      <td>0.002614</td>\n",
       "      <td>False</td>\n",
       "    </tr>\n",
       "    <tr>\n",
       "      <th>8</th>\n",
       "      <td>0</td>\n",
       "      <td>2025-01-06</td>\n",
       "      <td>r31.28_tc116_avglc24040_sdlc7283</td>\n",
       "      <td>2025-01-06 19:40:00</td>\n",
       "      <td>2025-01-07 04:40:00</td>\n",
       "      <td>0.336079</td>\n",
       "      <td>136.601402</td>\n",
       "      <td>2025-01-06 21:56:36.084147294</td>\n",
       "      <td>540.0</td>\n",
       "      <td>2025-01-06 21:56:36.084147294</td>\n",
       "      <td>116</td>\n",
       "      <td>31.2800</td>\n",
       "      <td>108.0</td>\n",
       "      <td>0.002607</td>\n",
       "      <td>False</td>\n",
       "    </tr>\n",
       "    <tr>\n",
       "      <th>9</th>\n",
       "      <td>0</td>\n",
       "      <td>2025-01-06</td>\n",
       "      <td>r36.975_tc32_avglc23053_sdlc7599</td>\n",
       "      <td>2025-01-06 21:05:00</td>\n",
       "      <td>2025-01-07 05:30:00</td>\n",
       "      <td>0.672352</td>\n",
       "      <td>14.417431</td>\n",
       "      <td>2025-01-06 21:19:25.045830924</td>\n",
       "      <td>505.0</td>\n",
       "      <td>2025-01-06 21:19:25.045830924</td>\n",
       "      <td>32</td>\n",
       "      <td>36.9750</td>\n",
       "      <td>101.0</td>\n",
       "      <td>0.003081</td>\n",
       "      <td>False</td>\n",
       "    </tr>\n",
       "  </tbody>\n",
       "</table>\n",
       "</div>"
      ],
      "text/plain": [
       "   index distinct_dates                                     user_type  \\\n",
       "0      0     2025-01-06               r28.05_tc74_avglc25436_sdlc7172   \n",
       "1      0     2025-01-06             r31.7475_tc22_avglc29817_sdlc7098   \n",
       "2      0     2025-01-06               r32.81_tc36_avglc27775_sdlc7141   \n",
       "3      0     2025-01-06               r27.37_tc32_avglc24666_sdlc7235   \n",
       "4      0     2025-01-06  r29.919999999999998_tc88_avglc29832_sdlc7032   \n",
       "5      0     2025-01-06             r25.5425_tc36_avglc28647_sdlc6820   \n",
       "6      0     2025-01-06               r30.09_tc77_avglc22791_sdlc7917   \n",
       "7      0     2025-01-06             r31.365_tc113_avglc26690_sdlc7426   \n",
       "8      0     2025-01-06              r31.28_tc116_avglc24040_sdlc7283   \n",
       "9      0     2025-01-06              r36.975_tc32_avglc23053_sdlc7599   \n",
       "\n",
       "   usage_window_start    usage_window_end  initial_charge  \\\n",
       "0 2025-01-06 09:35:00 2025-01-06 17:30:00        0.592768   \n",
       "1 2025-01-06 14:35:00 2025-01-07 00:55:00        0.603506   \n",
       "2 2025-01-06 18:45:00 2025-01-07 03:35:00        0.482781   \n",
       "3 2025-01-06 14:00:00 2025-01-06 23:35:00        0.470005   \n",
       "4 2025-01-06 21:25:00 2025-01-07 09:55:00        0.320038   \n",
       "5 2025-01-06 21:15:00 2025-01-07 07:15:00        0.554208   \n",
       "6 2025-01-06 19:30:00 2025-01-07 01:15:00        0.718115   \n",
       "7 2025-01-06 20:55:00 2025-01-07 02:35:00        0.462890   \n",
       "8 2025-01-06 19:40:00 2025-01-07 04:40:00        0.336079   \n",
       "9 2025-01-06 21:05:00 2025-01-07 05:30:00        0.672352   \n",
       "\n",
       "   usage_time_required_in_minutes expected_baseline_charge_complete_timestamp  \\\n",
       "0                       56.545822               2025-01-06 10:31:32.749326972   \n",
       "1                       14.406544               2025-01-06 14:49:24.392666208   \n",
       "2                       30.758670               2025-01-06 19:15:45.520208802   \n",
       "3                       33.671528               2025-01-06 14:33:40.291679670   \n",
       "4                      111.169706               2025-01-06 23:16:10.182363414   \n",
       "5                       33.470132               2025-01-06 21:48:28.207902324   \n",
       "6                       35.603536               2025-01-06 20:05:36.212165958   \n",
       "7                      105.295837               2025-01-06 22:40:17.750211624   \n",
       "8                      136.601402               2025-01-06 21:56:36.084147294   \n",
       "9                       14.417431               2025-01-06 21:19:25.045830924   \n",
       "\n",
       "   window_length_in_minutes             final_charge_time  total_capacity  \\\n",
       "0                     475.0 2025-01-06 10:31:32.749326972              74   \n",
       "1                     620.0 2025-01-06 14:49:24.392666208              22   \n",
       "2                     530.0 2025-01-06 19:15:45.520208802              36   \n",
       "3                     575.0 2025-01-06 14:33:40.291679670              32   \n",
       "4                     750.0 2025-01-06 23:16:10.182363414              88   \n",
       "5                     600.0 2025-01-06 21:48:28.207902324              36   \n",
       "6                     345.0 2025-01-06 20:05:36.212165958              77   \n",
       "7                     340.0 2025-01-06 22:40:17.750211624             113   \n",
       "8                     540.0 2025-01-06 21:56:36.084147294             116   \n",
       "9                     505.0 2025-01-06 21:19:25.045830924              32   \n",
       "\n",
       "   usage_power_kw  total_intervals_plugged_in  MWh_fraction  \\\n",
       "0         28.0500                        95.0      0.002337   \n",
       "1         31.7475                       124.0      0.002646   \n",
       "2         32.8100                       106.0      0.002734   \n",
       "3         27.3700                       115.0      0.002281   \n",
       "4         29.9200                       150.0      0.002493   \n",
       "5         25.5425                       120.0      0.002129   \n",
       "6         30.0900                        69.0      0.002507   \n",
       "7         31.3650                        68.0      0.002614   \n",
       "8         31.2800                       108.0      0.002607   \n",
       "9         36.9750                       101.0      0.003081   \n",
       "\n",
       "   early_session_stop  \n",
       "0               False  \n",
       "1               False  \n",
       "2               False  \n",
       "3               False  \n",
       "4               False  \n",
       "5               False  \n",
       "6               False  \n",
       "7               False  \n",
       "8               False  \n",
       "9               False  "
      ]
     },
     "execution_count": 8,
     "metadata": {},
     "output_type": "execute_result"
    }
   ],
   "source": [
    "s_ev.generate_synthetic_dataset(distinct_date_list=[distinct_date_list[0]], number_of_users=10)"
   ]
  },
  {
   "cell_type": "markdown",
   "metadata": {},
   "source": [
    "## Example: AI Model Training\n",
    "- Model training can occur at any time of day\n",
    "- There are 3 server models that consume 240, 310, and 640 watt-hour on average\n",
    "- Early stopping is not an option"
   ]
  },
  {
   "cell_type": "code",
   "execution_count": 9,
   "metadata": {},
   "outputs": [],
   "source": [
    "ai_kwargs = {\n",
    "    \"max_percent_capacity\":1.0, # job must run to completion\n",
    "    \"max_power_output_rates\": [24,31,64], # assuming a bare metal usecase, k8s or vm rescale to vCPU\n",
    "    \"minimum_usage_window_start_time\": \"00:00:00\",  # earliest session can start\n",
    "    \"maximum_usage_window_start_time\": \"23:59:00\",  # latest session can start\n",
    "}"
   ]
  },
  {
   "cell_type": "code",
   "execution_count": 10,
   "metadata": {},
   "outputs": [],
   "source": [
    "s_ai = SessionsGenerator(**ai_kwargs)"
   ]
  },
  {
   "cell_type": "code",
   "execution_count": 11,
   "metadata": {},
   "outputs": [
    {
     "name": "stderr",
     "output_type": "stream",
     "text": [
      "100%|██████████| 10/10 [00:00<00:00, 272.29it/s]\n"
     ]
    }
   ],
   "source": [
    "df_ai = s_ai.generate_synthetic_dataset(distinct_date_list=distinct_date_list, number_of_users=10)"
   ]
  },
  {
   "cell_type": "markdown",
   "metadata": {},
   "source": [
    "# Optimization"
   ]
  },
  {
   "cell_type": "code",
   "execution_count": 12,
   "metadata": {},
   "outputs": [],
   "source": [
    "import os\n",
    "import numpy as np\n",
    "from watttime.evaluator.evaluator import OptChargeEvaluator\n",
    "from watttime.evaluator.evaluator import ImpactEvaluator\n",
    "from watttime.evaluator.evaluator import RecalculationOptChargeEvaluator"
   ]
  },
  {
   "cell_type": "code",
   "execution_count": null,
   "metadata": {},
   "outputs": [],
   "source": [
    "username = os.getenv(\"WATTTIME_USER\")\n",
    "password = os.getenv(\"WATTTIME_PASSWORD\")\n",
    "region = \"CAISO_NORTH\"\n",
    "oce = OptChargeEvaluator(username=username,password=password)\n",
    "roce = RecalculationOptChargeEvaluator(username,password)\n",
    "\n",
    "# single instance\n",
    "df_ev_sample = s_ev.synthetic_user_data(distinct_date_list=[distinct_date_list[0]])\n",
    "df_ev_sample = df_ev_sample.rename({\"usage_time_required_in_minutes\":\"time_needed\"},axis=1)"
   ]
  },
  {
   "cell_type": "code",
   "execution_count": 15,
   "metadata": {},
   "outputs": [],
   "source": [
    "%%capture\n",
    "input_dict = df_ev_sample[['usage_window_start',\n",
    "                    'usage_window_end',\n",
    "                    'time_needed',\n",
    "                    'usage_power_kw'\n",
    "                    ]].T.to_dict()\n",
    "\n",
    "value = input_dict[0]\n",
    "value.update({'region':region,'tz_convert':True, \"verbose\":False})"
   ]
  },
  {
   "cell_type": "code",
   "execution_count": 16,
   "metadata": {},
   "outputs": [
    {
     "data": {
      "text/plain": [
       "{'usage_window_start': Timestamp('2025-01-06 19:15:00'),\n",
       " 'usage_window_end': Timestamp('2025-01-07 02:55:00'),\n",
       " 'time_needed': 51.67684008874637,\n",
       " 'usage_power_kw': 37.4425,\n",
       " 'region': 'CAISO_NORTH',\n",
       " 'tz_convert': True,\n",
       " 'verbose': False}"
      ]
     },
     "execution_count": 16,
     "metadata": {},
     "output_type": "execute_result"
    }
   ],
   "source": [
    "value"
   ]
  },
  {
   "cell_type": "code",
   "execution_count": 17,
   "metadata": {},
   "outputs": [],
   "source": [
    "df = oce.get_schedule_and_cost_api(**value)\n",
    "r = ImpactEvaluator(username,password,df).get_all_emissions_values(region=region)"
   ]
  },
  {
   "cell_type": "code",
   "execution_count": 18,
   "metadata": {},
   "outputs": [
    {
     "data": {
      "text/plain": [
       "{'baseline': 31.979059944544282,\n",
       " 'forecast': 29.951449198552897,\n",
       " 'actual': 30.192892487355493}"
      ]
     },
     "execution_count": 18,
     "metadata": {},
     "output_type": "execute_result"
    }
   ],
   "source": [
    "r"
   ]
  },
  {
   "cell_type": "markdown",
   "metadata": {},
   "source": [
    "# Requery"
   ]
  },
  {
   "cell_type": "code",
   "execution_count": 19,
   "metadata": {},
   "outputs": [],
   "source": [
    "value.update({\"optimization_method\": \"simple\", \"interval\":15, \"charge_per_interval\":None})"
   ]
  },
  {
   "cell_type": "code",
   "execution_count": 20,
   "metadata": {},
   "outputs": [
    {
     "data": {
      "text/plain": [
       "{'usage_window_start': Timestamp('2025-01-06 19:15:00'),\n",
       " 'usage_window_end': Timestamp('2025-01-07 02:55:00'),\n",
       " 'time_needed': 51.67684008874637,\n",
       " 'usage_power_kw': 37.4425,\n",
       " 'region': 'CAISO_NORTH',\n",
       " 'tz_convert': True,\n",
       " 'verbose': False,\n",
       " 'optimization_method': 'simple',\n",
       " 'interval': 15,\n",
       " 'charge_per_interval': None}"
      ]
     },
     "execution_count": 20,
     "metadata": {},
     "output_type": "execute_result"
    }
   ],
   "source": [
    "value"
   ]
  },
  {
   "cell_type": "code",
   "execution_count": null,
   "metadata": {},
   "outputs": [],
   "source": [
    "%%timeit\n",
    "df_requery = roce.fit_recalculator(**value)\n",
    "r_requery = ImpactEvaluator(username,password,df_requery).get_all_emissions_values(region=region)"
   ]
  },
  {
   "cell_type": "markdown",
   "metadata": {},
   "source": [
    "# Helpful Functions"
   ]
  },
  {
   "cell_type": "code",
   "execution_count": null,
   "metadata": {},
   "outputs": [],
   "source": [
    "# 4 seconds per row, mostly API call\n",
    "def analysis_loop(region, input_dict):\n",
    "    results = {}\n",
    "    for key,value in input_dict.items():\n",
    "        value.update({'region':region,'tz_convert':True, \"verbose\":False})\n",
    "        df = oce.get_schedule_and_cost_api(**value)\n",
    "        m, b = np.polyfit(np.arange(len(df.pred_moer.values)),df.pred_moer.values, 1)\n",
    "        stddev = df.pred_moer.std()\n",
    "        r = ImpactEvaluator(username,password,df).get_all_emissions_values(region=region)\n",
    "        r.update({'m':m,'b':b,'stddev':stddev})\n",
    "        results.update({key:r})\n",
    "    return results\n",
    "\n",
    "# 4 seconds per row, mostly API call\n",
    "def analysis_loop_requery(region, input_dict, interval):\n",
    "    results = {}\n",
    "    for key,value in tqdm.tqdm(input_dict.items()):\n",
    "        value.update(\n",
    "            {'region':region,\n",
    "            'tz_convert':True, \n",
    "            \"optimization_method\": \"simple\", \n",
    "            \"verbose\":False,\n",
    "            \"interval\":interval,\n",
    "            \"charge_per_interval\":None}\n",
    "            )\n",
    "        df = roce.fit_recalculator(**value)\n",
    "        m, b = np.polyfit(np.arange(len(df.pred_moer.values)),df.pred_moer.values, 1)\n",
    "        stddev = df.pred_moer.std()\n",
    "        r = ImpactEvaluator(username,password,df).get_all_emissions_values(region=region)\n",
    "        r.update({'m':m,'b':b,'stddev':stddev})\n",
    "        results.update({key:r})\n",
    "    return results"
   ]
  },
  {
   "cell_type": "code",
   "execution_count": null,
   "metadata": {},
   "outputs": [],
   "source": [
    "df_many_sessions = s_ev.generate_synthetic_dataset(distinct_date_list=[distinct_date_list[0]], number_of_users=10)\n",
    "\n",
    "input_dict = df_many_sessions[['usage_window_start',\n",
    "                               'usage_window_end',\n",
    "                                'time_needed',\n",
    "                                'usage_power_kw'\n",
    "                                ]].T.to_dict()\n",
    "\n",
    "# no requery\n",
    "df_many_sessions_optimized = analysis_loop(region, input_dict)\n",
    "\n",
    "# requery\n",
    "df_many_sessions_optimized_requery = analysis_loop_requery(region, input_dict, 45)\n",
    "\n",
    "# pd.concat([df_many_sessions, df_many_sessions_optimized]) or pd.concat([df_many_sessions, df_many_sessions_optimized_requery])"
   ]
  }
 ],
 "metadata": {
  "kernelspec": {
   "display_name": "watttime",
   "language": "python",
   "name": "python3"
  },
  "language_info": {
   "codemirror_mode": {
    "name": "ipython",
    "version": 3
   },
   "file_extension": ".py",
   "mimetype": "text/x-python",
   "name": "python",
   "nbconvert_exporter": "python",
   "pygments_lexer": "ipython3",
   "version": "3.9.21"
  }
 },
 "nbformat": 4,
 "nbformat_minor": 2
}
