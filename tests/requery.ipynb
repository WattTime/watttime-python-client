{
 "cells": [
  {
   "cell_type": "markdown",
   "metadata": {},
   "source": [
    "# Demonstrate Use\n",
    "\n",
    "- get_initial_plan()\n",
    "- instantiate the recalculator object\n",
    "- calculate how many minutes of charge are still needed\n",
    "- after interval passes, get new plan with updated info\n",
    "- repeat\n",
    "- return combined schedule\n"
   ]
  },
  {
   "cell_type": "code",
   "execution_count": 14,
   "metadata": {},
   "outputs": [],
   "source": [
    "import os\n",
    "os.chdir(\"/Users/jen/watttime-python-client\")\n",
    "\n",
    "import watttime.api as wt\n",
    "import watttime.scratch as scratch\n",
    "from datetime import timedelta, datetime\n",
    "from pytz import UTC\n",
    "import pandas as pd"
   ]
  },
  {
   "cell_type": "code",
   "execution_count": 15,
   "metadata": {},
   "outputs": [],
   "source": [
    "def get_forecast_dataframe(\n",
    "          start_time: datetime = datetime(2025, 1, 1, hour=21, second=1, tzinfo=UTC),\n",
    "          end_time: datetime = datetime(2025, 1, 2, hour=8, second=1, tzinfo=UTC),\n",
    "          horizon_hours: int = 12,\n",
    "          region: str = 'CAISO_NORTH'\n",
    "        ) -> pd.DataFrame:\n",
    "        try:\n",
    "            username = os.getenv(\"WATTTIME_USER\")\n",
    "            password = os.getenv(\"WATTTIME_PASSWORD\")\n",
    "            \n",
    "            if not username or not password:\n",
    "                raise ValueError(\"WattTime credentials not found in environment variables\")\n",
    "                \n",
    "            wth = wt.WattTimeForecast(username=username, password=password)\n",
    "            \n",
    "            forecast_dataframe = wth.get_historical_forecast_pandas(\n",
    "                start=start_time + timedelta(minutes=5),\n",
    "                end=end_time,\n",
    "                region=region,\n",
    "                signal_type=\"co2_moer\",\n",
    "                horizon_hours=horizon_hours\n",
    "            )\n",
    "        except Exception as e:\n",
    "            raise RuntimeError(f\"Error retrieving forecast data: {str(e)}\")\n",
    "        \n",
    "        return forecast_dataframe"
   ]
  },
  {
   "cell_type": "code",
   "execution_count": 16,
   "metadata": {},
   "outputs": [],
   "source": [
    "start_time = datetime(2025, 1, 1, hour=21, second=1, tzinfo=UTC)\n",
    "end_time = datetime(2025, 1, 2, hour=8, second=1, tzinfo=UTC)\n",
    "region = 'CAISO_NORTH'\n",
    "\n",
    "moers = get_forecast_dataframe(start_time=start_time, end_time=end_time, region=region)\n",
    "requery_dates = moers.generated_at.unique()[0::4] #20 minute intervals\n",
    "\n",
    "moers_list = []\n",
    "for d in requery_dates:\n",
    "    temp = moers[moers.generated_at == d]\n",
    "    moers_list.append(temp)"
   ]
  },
  {
   "cell_type": "code",
   "execution_count": 17,
   "metadata": {},
   "outputs": [
    {
     "data": {
      "text/plain": [
       "<module 'watttime.api' from '/Users/jen/watttime-python-client/watttime/api.py'>"
      ]
     },
     "execution_count": 17,
     "metadata": {},
     "output_type": "execute_result"
    }
   ],
   "source": [
    "import importlib\n",
    "importlib.reload(wt)"
   ]
  },
  {
   "cell_type": "code",
   "execution_count": 18,
   "metadata": {},
   "outputs": [
    {
     "name": "stdout",
     "output_type": "stream",
     "text": [
      "None\n",
      "== Simple fit! ==\n",
      "1\n",
      "None\n",
      "== Simple fit! ==\n",
      "2\n",
      "None\n",
      "== Simple fit! ==\n",
      "3\n",
      "None\n",
      "== Simple fit! ==\n",
      "4\n",
      "None\n",
      "== Simple fit! ==\n",
      "5\n",
      "None\n",
      "== Simple fit! ==\n",
      "6\n",
      "None\n",
      "== Simple fit! ==\n",
      "7\n",
      "None\n",
      "== Simple fit! ==\n",
      "8\n",
      "None\n",
      "== Simple fit! ==\n",
      "9\n",
      "None\n",
      "== Simple fit! ==\n",
      "10\n",
      "None\n",
      "== Simple fit! ==\n",
      "11\n",
      "None\n",
      "== Simple fit! ==\n",
      "12\n",
      "None\n",
      "== Simple fit! ==\n",
      "13\n",
      "None\n",
      "== Simple fit! ==\n",
      "14\n",
      "None\n",
      "== Simple fit! ==\n",
      "15\n",
      "None\n",
      "== Simple fit! ==\n",
      "16\n",
      "None\n",
      "== Simple fit! ==\n",
      "17\n",
      "None\n",
      "== Simple fit! ==\n",
      "18\n",
      "None\n",
      "== Simple fit! ==\n",
      "19\n",
      "None\n",
      "== Simple fit! ==\n",
      "20\n",
      "None\n",
      "== Simple fit! ==\n",
      "21\n",
      "None\n",
      "== Simple fit! ==\n",
      "22\n",
      "None\n",
      "== Simple fit! ==\n",
      "23\n",
      "None\n",
      "== Simple fit! ==\n",
      "24\n",
      "None\n",
      "== Simple fit! ==\n",
      "25\n",
      "None\n",
      "== Simple fit! ==\n",
      "26\n",
      "None\n",
      "== Simple fit! ==\n",
      "27\n",
      "None\n",
      "== Simple fit! ==\n",
      "28\n",
      "None\n",
      "== Simple fit! ==\n",
      "29\n",
      "None\n",
      "== Simple fit! ==\n",
      "30\n",
      "None\n",
      "== Simple fit! ==\n",
      "31\n",
      "None\n",
      "== Simple fit! ==\n",
      "32\n",
      "None\n",
      "== Simple fit! ==\n"
     ]
    }
   ],
   "source": [
    "fitted_recalculator = wt.RequerySimulator(\n",
    "                                    moers_list,\n",
    "                                    requery_dates,\n",
    "                                    region = \"CAISO_NORTH\",\n",
    "                                    window_start = start_time,\n",
    "                                    window_end = end_time,\n",
    "                                    usage_time_required_minutes = 240,\n",
    "                                    usage_power_kw = 2\n",
    "                                    ).simulate()"
   ]
  },
  {
   "cell_type": "code",
   "execution_count": 28,
   "metadata": {},
   "outputs": [
    {
     "data": {
      "text/plain": [
       "<Axes: xlabel='point_time'>"
      ]
     },
     "execution_count": 28,
     "metadata": {},
     "output_type": "execute_result"
    },
    {
     "data": {
      "image/png": "[encoded data removed]",
      "text/plain": [
       "<Figure size 640x480 with 1 Axes>"
      ]
     },
     "metadata": {},
     "output_type": "display_data"
    }
   ],
   "source": [
    "fitted_recalculator.get_combined_schedule()[\"usage\"].plot(kind='line')"
   ]
  },
  {
   "cell_type": "code",
   "execution_count": 210,
   "metadata": {},
   "outputs": [],
   "source": [
    "from itertools import accumulate\n",
    "import bisect\n",
    "from watttime.api import WattTimeOptimizer\n",
    "\n",
    "import pandas as pd\n",
    "import matplotlib.pyplot as plt"
   ]
  },
  {
   "cell_type": "markdown",
   "metadata": {},
   "source": [
    "## Contiguity Test"
   ]
  },
  {
   "cell_type": "code",
   "execution_count": 348,
   "metadata": {},
   "outputs": [
    {
     "data": {
      "text/plain": [
       "<module 'watttime.scratch' from '/Users/jen/watttime-python-client/watttime/scratch.py'>"
      ]
     },
     "execution_count": 348,
     "metadata": {},
     "output_type": "execute_result"
    }
   ],
   "source": [
    "import importlib\n",
    "importlib.reload(scratch)"
   ]
  },
  {
   "cell_type": "code",
   "execution_count": 289,
   "metadata": {},
   "outputs": [],
   "source": [
    "username = os.getenv(\"WATTTIME_USER\")\n",
    "password = os.getenv(\"WATTTIME_PASSWORD\")\n",
    "region = \"SPP_SIOUX\"\n",
    "wt_opt = WattTimeOptimizer(username,password)\n",
    "#start_time = datetime(2025, 1, 1, hour=21, second=1, tzinfo=UTC)\n",
    "start_time = requery_dates[11]\n",
    "end_time = datetime(2025, 1, 2, hour=8, second=1, tzinfo=UTC)\n",
    "charge_per_interval=[300, 100]"
   ]
  },
  {
   "cell_type": "code",
   "execution_count": 290,
   "metadata": {},
   "outputs": [
    {
     "name": "stdout",
     "output_type": "stream",
     "text": [
      "[60, 20]\n",
      "== Fixed contiguous fit! ==\n"
     ]
    }
   ],
   "source": [
    "usage_plan = wt_opt.get_optimal_usage_plan(\n",
    "            region=region,\n",
    "            usage_window_start=start_time,\n",
    "            usage_window_end=end_time,\n",
    "            usage_time_required_minutes=400,\n",
    "            usage_power_kw=5,\n",
    "            charge_per_interval=charge_per_interval,\n",
    "            optimization_method=\"auto\",\n",
    "            moer_data_override= moers_list[0]\n",
    "        )"
   ]
  },
  {
   "cell_type": "code",
   "execution_count": 291,
   "metadata": {},
   "outputs": [
    {
     "data": {
      "text/plain": [
       "<Axes: xlabel='point_time'>"
      ]
     },
     "execution_count": 291,
     "metadata": {},
     "output_type": "execute_result"
    },
    {
     "data": {
      "image/png": "[encoded data removed]",
      "text/plain": [
       "<Figure size 640x480 with 1 Axes>"
      ]
     },
     "metadata": {},
     "output_type": "display_data"
    }
   ],
   "source": [
    "usage_plan.pred_moer.plot(kind='line')"
   ]
  },
  {
   "cell_type": "code",
   "execution_count": 292,
   "metadata": {},
   "outputs": [
    {
     "data": {
      "image/png": "[encoded data removed]",
      "text/plain": [
       "<Figure size 640x480 with 1 Axes>"
      ]
     },
     "metadata": {},
     "output_type": "display_data"
    }
   ],
   "source": [
    "ax = usage_plan.usage.plot()\n",
    "for d in requery_dates[11:15]:\n",
    "    plt.axvline(x=d, color='r', linestyle='--')\n",
    "\n",
    "plt.show()"
   ]
  },
  {
   "cell_type": "code",
   "execution_count": 349,
   "metadata": {},
   "outputs": [],
   "source": [
    "recalculator = scratch.Recalculator(\n",
    "    initial_schedule= usage_plan,\n",
    "    start_time = start_time,\n",
    "    end_time = end_time,\n",
    "    total_time_required = 400,\n",
    "    charge_per_interval=charge_per_interval\n",
    ")"
   ]
  },
  {
   "cell_type": "code",
   "execution_count": 350,
   "metadata": {},
   "outputs": [
    {
     "name": "stdout",
     "output_type": "stream",
     "text": [
      "False\n",
      "{'delay_usage_window_start': None, 'delay_in_minutes': None, 'delay_in_intervals': None, 'remaining_time_required': 400, 'num_segments_complete': 0}\n"
     ]
    }
   ],
   "source": [
    "next_next_start_time = requery_dates[12]\n",
    "print(recalculator.sleep_delay)\n",
    "recalculator.update_charging_schedule(next_query_time=start_time, next_new_schedule_start_time=next_next_start_time)\n",
    "print(recalculator.contiguity_values_dict)"
   ]
  },
  {
   "cell_type": "code",
   "execution_count": 351,
   "metadata": {},
   "outputs": [
    {
     "name": "stdout",
     "output_type": "stream",
     "text": [
      "[60, 20]\n",
      "== Fixed contiguous fit! ==\n"
     ]
    }
   ],
   "source": [
    "usage_plan_1 = wt_opt.get_optimal_usage_plan(\n",
    "            region=region,\n",
    "            usage_window_start=requery_dates[12], #updated\n",
    "            usage_window_end=end_time,\n",
    "            usage_time_required_minutes=recalculator.contiguity_values_dict[\"remaining_time_required\"],#updated\n",
    "            usage_power_kw=5,\n",
    "            charge_per_interval=charge_per_interval[recalculator.contiguity_values_dict[\"num_segments_complete\"]:], #updated\n",
    "            optimization_method=\"auto\",\n",
    "            moer_data_override= moers_list[12]\n",
    "        )"
   ]
  },
  {
   "cell_type": "code",
   "execution_count": 352,
   "metadata": {},
   "outputs": [
    {
     "data": {
      "image/png": "[encoded data removed]",
      "text/plain": [
       "<Figure size 640x480 with 1 Axes>"
      ]
     },
     "metadata": {},
     "output_type": "display_data"
    }
   ],
   "source": [
    "ax = usage_plan_1.usage.plot()\n",
    "for d in requery_dates[11:15]:\n",
    "    plt.axvline(x=d, color='r', linestyle='--')\n",
    "\n",
    "plt.show()"
   ]
  },
  {
   "cell_type": "code",
   "execution_count": 353,
   "metadata": {},
   "outputs": [
    {
     "name": "stdout",
     "output_type": "stream",
     "text": [
      "True\n",
      "{'delay_usage_window_start': datetime.datetime(2025, 1, 2, 8, 0, 1, tzinfo=<UTC>), 'delay_in_minutes': 395, 'delay_in_intervals': 79, 'remaining_time_required': 0, 'num_segments_complete': 1}\n"
     ]
    }
   ],
   "source": [
    "next_next_start_time = requery_dates[13]\n",
    "recalculator.update_charging_schedule(\n",
    "    new_schedule = usage_plan_1, \n",
    "    next_query_time=requery_dates[12], \n",
    "    next_new_schedule_start_time = next_next_start_time\n",
    ")\n",
    "print(recalculator.sleep_delay)\n",
    "print(recalculator.contiguity_values_dict)"
   ]
  },
  {
   "cell_type": "code",
   "execution_count": 146,
   "metadata": {},
   "outputs": [
    {
     "name": "stdout",
     "output_type": "stream",
     "text": [
      "[12, 20]\n",
      "== Fixed contiguous fit! ==\n"
     ]
    }
   ],
   "source": [
    "usage_plan_2 = wt_opt.get_optimal_usage_plan(\n",
    "            region=region,\n",
    "            usage_window_start=requery_dates[2], #updated\n",
    "            usage_window_end=end_time,\n",
    "            usage_time_required_minutes=recalculator.contiguity_values_dict[\"remaining_time_required\"],#updated\n",
    "            usage_power_kw=5,\n",
    "            charge_per_interval=charge_per_interval[recalculator.contiguity_values_dict[\"num_segments_complete\"]:], #updated\n",
    "            optimization_method=\"auto\",\n",
    "            moer_data_override= moers_list[2]\n",
    "        )"
   ]
  },
  {
   "cell_type": "code",
   "execution_count": 147,
   "metadata": {},
   "outputs": [
    {
     "data": {
      "image/png": "[encoded data removed]",
      "text/plain": [
       "<Figure size 640x480 with 1 Axes>"
      ]
     },
     "metadata": {},
     "output_type": "display_data"
    }
   ],
   "source": [
    "ax = usage_plan_2.usage.plot()\n",
    "for d in requery_dates[0:12]:\n",
    "    plt.axvline(x=d, color='b', linestyle='--')\n",
    "\n",
    "for d in requery_dates[2:10]:\n",
    "    plt.axvline(x=d, color='r', linestyle='--')\n",
    "\n",
    "plt.show()"
   ]
  },
  {
   "cell_type": "code",
   "execution_count": 148,
   "metadata": {},
   "outputs": [
    {
     "name": "stdout",
     "output_type": "stream",
     "text": [
      "True\n",
      "2025-01-01 21:30:00+00:00\n",
      "2025-01-01 21:50:00+00:00\n",
      "{'delay_usage_window_start': Timestamp('2025-01-02 00:30:00+0000', tz='UTC'), 'delay_in_minutes': 140, 'delay_in_intervals': 28, 'remaining_time_required': 0, 'num_segments_complete': 2}\n"
     ]
    }
   ],
   "source": [
    "next_usage_plan = usage_plan_2\n",
    "next_next_start_time = requery_dates[3]\n",
    "print(recalculator.check_if_contiguity_sleep_required(next_usage_plan, next_next_start_time))\n",
    "recalculator.update_charging_schedule(\n",
    "    new_schedule = next_usage_plan, \n",
    "    next_query_time=requery_dates[2],\n",
    "    next_new_schedule_start_time = next_next_start_time\n",
    ")\n",
    "print(recalculator.contiguity_values_dict)"
   ]
  },
  {
   "cell_type": "code",
   "execution_count": 238,
   "metadata": {},
   "outputs": [
    {
     "data": {
      "text/plain": [
       "Timestamp('2025-01-02 01:30:00+0000', tz='UTC')"
      ]
     },
     "execution_count": 238,
     "metadata": {},
     "output_type": "execute_result"
    }
   ],
   "source": [
    "s = recalculator.get_combined_schedule().loc[next_next_start_time:]['usage'] == 0\n",
    "s[s==False].index.min()"
   ]
  },
  {
   "cell_type": "code",
   "execution_count": null,
   "metadata": {},
   "outputs": [],
   "source": []
  }
 ],
 "metadata": {
  "kernelspec": {
   "display_name": "Python 3",
   "language": "python",
   "name": "python3"
  },
  "language_info": {
   "codemirror_mode": {
    "name": "ipython",
    "version": 3
   },
   "file_extension": ".py",
   "mimetype": "text/x-python",
   "name": "python",
   "nbconvert_exporter": "python",
   "pygments_lexer": "ipython3",
   "version": "3.9.21"
  }
 },
 "nbformat": 4,
 "nbformat_minor": 2
}
