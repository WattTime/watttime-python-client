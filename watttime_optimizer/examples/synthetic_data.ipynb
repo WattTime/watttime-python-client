{
 "cells": [
  {
   "cell_type": "markdown",
   "metadata": {},
   "source": [
    "# Generating Synthetic Data\n",
    "\n",
    "\n",
    "To validate the base model’s performance, we tested it on synthetic user data, an incredibly useful approach when device-level data is not yet available or too sensitive to share during early-stage development. Working with synthetic data, we can replicate device scope 2 emissions avoidance potential with and without an automated marginal emissions reduction solution.\n",
    "\n",
    "Ideally, the base solution’s short-term impact will be in shortening the product development lifecycle of custom software solutions designed to support AER features. To shape the base model, we worked with WattTime to isolate a common set of functional behaviors for potential low-carbon devices and translate these patterns and users’ behavior into mathematical functions that can be optimized. This first set is intended to serve as a base model for more complex solutions. \n",
    "\n",
    "We anticipate that different customers will want to build on the base model in various ways, further enhancing the efficiency of the base model. When extending the base model, it’s important that the energy transmission and customer behaviors are knowable and systematic. For example, battery charging is relatively straightforward. We can represent user behavior as numerical variables, and the power consumption patterns of batteries are relatively simple. On the other hand, accurate smart thermostat energy transmission modeling requires data inputs on space-specific thermodynamics — the physical characteristics of the room — and contextual user preferences for heating and cooling based on how they occupy each space. Optimizing this use case is possible, but the solution is not necessarily generalizable to other industries, nor is the data readily available. Expanding to this use case should be possible for customers with intimate knowledge of smart thermostat devices, because the base model can interact with a broad range of inputs and supplemental models."
   ]
  },
  {
   "cell_type": "code",
   "execution_count": 1,
   "metadata": {},
   "outputs": [],
   "source": [
    "import os\n",
    "os.chdir(path=os.path.dirname(os.path.dirname(os.path.abspath(os.curdir))))"
   ]
  },
  {
   "cell_type": "code",
   "execution_count": 2,
   "metadata": {},
   "outputs": [],
   "source": [
    "from watttime_optimizer.evaluator.sessions import SessionsGenerator"
   ]
  },
  {
   "cell_type": "markdown",
   "metadata": {},
   "source": [
    "## Example: At home EV charging\n",
    "\n",
    "Ideally, the base solution’s short-term impact will be in shortening the product development lifecycle of custom software solutions designed to support AER features. To shape the base model, we worked with WattTime to isolate a common set of functional behaviors for potential low-carbon devices and translate these patterns and users’ behavior into mathematical functions that can be optimized. This first set is intended to serve as a base model for more complex solutions. \n",
    "\n",
    "\n",
    "### Functional Behavior + Device Characteristics\n",
    "- Covers a 5.5 - 8.5 hour variable length window\n",
    "- The vehicle has a BMW and has an average power draw of 42.5\n",
    "- Battery is usually typically 50% charged at plug in time.\n",
    "- Charging occurs during the workdayz"
   ]
  },
  {
   "cell_type": "code",
   "execution_count": 3,
   "metadata": {},
   "outputs": [],
   "source": [
    "ev_kwargs = {\n",
    "    \"max_power_output_rates\": [42.5],\n",
    "    \"max_percent_capacity\": 0.95,  # highest level of charge achieved by battery\n",
    "    \"power_output_efficiency\": 0.75,  # power loss. 1 = no power loss.\n",
    "    \"minimum_battery_starting_capacity\": 0.2,  # minimum starting percent charged\n",
    "    \"minimum_usage_window_start_time\": \"08:00:00\",  # session can start as early as 8am\n",
    "    \"maximum_usage_window_start_time\": \"22:00:00\",  # session can start as late as 9pm\n",
    "}"
   ]
  },
  {
   "cell_type": "code",
   "execution_count": 4,
   "metadata": {},
   "outputs": [],
   "source": [
    "s_ev = SessionsGenerator(**ev_kwargs)"
   ]
  },
  {
   "cell_type": "markdown",
   "metadata": {},
   "source": [
    "Now we can generate synthetic data for users and devices with the attributes set above."
   ]
  },
  {
   "cell_type": "code",
   "execution_count": 5,
   "metadata": {},
   "outputs": [],
   "source": [
    "# the class has a helper function to generate a random list of unique dates\n",
    "distinct_date_list = s_ev.assign_random_dates(years=[2025])"
   ]
  },
  {
   "cell_type": "markdown",
   "metadata": {},
   "source": [
    "You can generate data for a *single* user for each distinct date"
   ]
  },
  {
   "cell_type": "code",
   "execution_count": 6,
   "metadata": {},
   "outputs": [
    {
     "data": {
      "text/html": [
       "<div>\n",
       "<style scoped>\n",
       "    .dataframe tbody tr th:only-of-type {\n",
       "        vertical-align: middle;\n",
       "    }\n",
       "\n",
       "    .dataframe tbody tr th {\n",
       "        vertical-align: top;\n",
       "    }\n",
       "\n",
       "    .dataframe thead th {\n",
       "        text-align: right;\n",
       "    }\n",
       "</style>\n",
       "<table border=\"1\" class=\"dataframe\">\n",
       "  <thead>\n",
       "    <tr style=\"text-align: right;\">\n",
       "      <th></th>\n",
       "      <th>0</th>\n",
       "    </tr>\n",
       "  </thead>\n",
       "  <tbody>\n",
       "    <tr>\n",
       "      <th>distinct_dates</th>\n",
       "      <td>2025-01-08</td>\n",
       "    </tr>\n",
       "    <tr>\n",
       "      <th>user_type</th>\n",
       "      <td>r30.685_tc119_avglc25355_sdlc7492</td>\n",
       "    </tr>\n",
       "    <tr>\n",
       "      <th>usage_window_start</th>\n",
       "      <td>2025-01-08 13:30:00</td>\n",
       "    </tr>\n",
       "    <tr>\n",
       "      <th>usage_window_end</th>\n",
       "      <td>2025-01-08 21:05:00</td>\n",
       "    </tr>\n",
       "    <tr>\n",
       "      <th>initial_charge</th>\n",
       "      <td>0.641924</td>\n",
       "    </tr>\n",
       "    <tr>\n",
       "      <th>time_needed</th>\n",
       "      <td>71.685273</td>\n",
       "    </tr>\n",
       "    <tr>\n",
       "      <th>expected_baseline_charge_complete_timestamp</th>\n",
       "      <td>2025-01-08 14:41:41.116373064</td>\n",
       "    </tr>\n",
       "    <tr>\n",
       "      <th>window_length_in_minutes</th>\n",
       "      <td>455.0</td>\n",
       "    </tr>\n",
       "    <tr>\n",
       "      <th>final_charge_time</th>\n",
       "      <td>2025-01-08 14:41:41.116373064</td>\n",
       "    </tr>\n",
       "    <tr>\n",
       "      <th>total_capacity</th>\n",
       "      <td>119</td>\n",
       "    </tr>\n",
       "    <tr>\n",
       "      <th>usage_power_kw</th>\n",
       "      <td>30.685</td>\n",
       "    </tr>\n",
       "    <tr>\n",
       "      <th>total_intervals_plugged_in</th>\n",
       "      <td>91.0</td>\n",
       "    </tr>\n",
       "    <tr>\n",
       "      <th>MWh_fraction</th>\n",
       "      <td>0.002557</td>\n",
       "    </tr>\n",
       "    <tr>\n",
       "      <th>early_session_stop</th>\n",
       "      <td>False</td>\n",
       "    </tr>\n",
       "  </tbody>\n",
       "</table>\n",
       "</div>"
      ],
      "text/plain": [
       "                                                                             0\n",
       "distinct_dates                                                      2025-01-08\n",
       "user_type                                    r30.685_tc119_avglc25355_sdlc7492\n",
       "usage_window_start                                         2025-01-08 13:30:00\n",
       "usage_window_end                                           2025-01-08 21:05:00\n",
       "initial_charge                                                        0.641924\n",
       "time_needed                                                          71.685273\n",
       "expected_baseline_charge_complete_timestamp      2025-01-08 14:41:41.116373064\n",
       "window_length_in_minutes                                                 455.0\n",
       "final_charge_time                                2025-01-08 14:41:41.116373064\n",
       "total_capacity                                                             119\n",
       "usage_power_kw                                                          30.685\n",
       "total_intervals_plugged_in                                                91.0\n",
       "MWh_fraction                                                          0.002557\n",
       "early_session_stop                                                       False"
      ]
     },
     "execution_count": 6,
     "metadata": {},
     "output_type": "execute_result"
    }
   ],
   "source": [
    "s_ev.synthetic_user_data(distinct_date_list=[distinct_date_list[0]]).T"
   ]
  },
  {
   "cell_type": "markdown",
   "metadata": {},
   "source": [
    "Or for *multiple* users."
   ]
  },
  {
   "cell_type": "code",
   "execution_count": 7,
   "metadata": {},
   "outputs": [
    {
     "name": "stderr",
     "output_type": "stream",
     "text": [
      "100%|██████████| 10/10 [00:00<00:00, 306.60it/s]\n"
     ]
    },
    {
     "data": {
      "text/html": [
       "<div>\n",
       "<style scoped>\n",
       "    .dataframe tbody tr th:only-of-type {\n",
       "        vertical-align: middle;\n",
       "    }\n",
       "\n",
       "    .dataframe tbody tr th {\n",
       "        vertical-align: top;\n",
       "    }\n",
       "\n",
       "    .dataframe thead th {\n",
       "        text-align: right;\n",
       "    }\n",
       "</style>\n",
       "<table border=\"1\" class=\"dataframe\">\n",
       "  <thead>\n",
       "    <tr style=\"text-align: right;\">\n",
       "      <th></th>\n",
       "      <th>index</th>\n",
       "      <th>distinct_dates</th>\n",
       "      <th>user_type</th>\n",
       "      <th>usage_window_start</th>\n",
       "      <th>usage_window_end</th>\n",
       "      <th>initial_charge</th>\n",
       "      <th>time_needed</th>\n",
       "      <th>expected_baseline_charge_complete_timestamp</th>\n",
       "      <th>window_length_in_minutes</th>\n",
       "      <th>final_charge_time</th>\n",
       "      <th>total_capacity</th>\n",
       "      <th>usage_power_kw</th>\n",
       "      <th>total_intervals_plugged_in</th>\n",
       "      <th>MWh_fraction</th>\n",
       "      <th>early_session_stop</th>\n",
       "    </tr>\n",
       "  </thead>\n",
       "  <tbody>\n",
       "    <tr>\n",
       "      <th>0</th>\n",
       "      <td>0</td>\n",
       "      <td>2025-01-08</td>\n",
       "      <td>r29.367499999999996_tc35_avglc26444_sdlc6919</td>\n",
       "      <td>2025-01-08 19:20:00</td>\n",
       "      <td>2025-01-09 03:55:00</td>\n",
       "      <td>0.274689</td>\n",
       "      <td>48.289854</td>\n",
       "      <td>2025-01-08 20:08:17.391226626</td>\n",
       "      <td>515.0</td>\n",
       "      <td>2025-01-08 20:08:17.391226626</td>\n",
       "      <td>35</td>\n",
       "      <td>29.3675</td>\n",
       "      <td>103.0</td>\n",
       "      <td>0.002447</td>\n",
       "      <td>False</td>\n",
       "    </tr>\n",
       "    <tr>\n",
       "      <th>1</th>\n",
       "      <td>0</td>\n",
       "      <td>2025-01-08</td>\n",
       "      <td>r24.0125_tc103_avglc24950_sdlc7383</td>\n",
       "      <td>2025-01-08 19:40:00</td>\n",
       "      <td>2025-01-09 03:50:00</td>\n",
       "      <td>0.381998</td>\n",
       "      <td>146.184329</td>\n",
       "      <td>2025-01-08 22:06:11.059764642</td>\n",
       "      <td>490.0</td>\n",
       "      <td>2025-01-08 22:06:11.059764642</td>\n",
       "      <td>103</td>\n",
       "      <td>24.0125</td>\n",
       "      <td>98.0</td>\n",
       "      <td>0.002001</td>\n",
       "      <td>False</td>\n",
       "    </tr>\n",
       "    <tr>\n",
       "      <th>2</th>\n",
       "      <td>0</td>\n",
       "      <td>2025-01-08</td>\n",
       "      <td>r36.7625_tc21_avglc27492_sdlc6913</td>\n",
       "      <td>2025-01-08 16:35:00</td>\n",
       "      <td>2025-01-09 01:40:00</td>\n",
       "      <td>0.525711</td>\n",
       "      <td>14.542111</td>\n",
       "      <td>2025-01-08 16:49:32.526643320</td>\n",
       "      <td>545.0</td>\n",
       "      <td>2025-01-08 16:49:32.526643320</td>\n",
       "      <td>21</td>\n",
       "      <td>36.7625</td>\n",
       "      <td>109.0</td>\n",
       "      <td>0.003064</td>\n",
       "      <td>False</td>\n",
       "    </tr>\n",
       "    <tr>\n",
       "      <th>3</th>\n",
       "      <td>0</td>\n",
       "      <td>2025-01-08</td>\n",
       "      <td>r23.46_tc61_avglc25809_sdlc6886</td>\n",
       "      <td>2025-01-08 10:35:00</td>\n",
       "      <td>2025-01-08 15:50:00</td>\n",
       "      <td>0.609764</td>\n",
       "      <td>53.080252</td>\n",
       "      <td>2025-01-08 11:28:04.815120102</td>\n",
       "      <td>315.0</td>\n",
       "      <td>2025-01-08 11:28:04.815120102</td>\n",
       "      <td>61</td>\n",
       "      <td>23.4600</td>\n",
       "      <td>63.0</td>\n",
       "      <td>0.001955</td>\n",
       "      <td>False</td>\n",
       "    </tr>\n",
       "    <tr>\n",
       "      <th>4</th>\n",
       "      <td>0</td>\n",
       "      <td>2025-01-08</td>\n",
       "      <td>r27.837500000000002_tc25_avglc25929_sdlc7815</td>\n",
       "      <td>2025-01-08 18:50:00</td>\n",
       "      <td>2025-01-09 00:30:00</td>\n",
       "      <td>0.242590</td>\n",
       "      <td>38.118160</td>\n",
       "      <td>2025-01-08 19:28:07.089588888</td>\n",
       "      <td>340.0</td>\n",
       "      <td>2025-01-08 19:28:07.089588888</td>\n",
       "      <td>25</td>\n",
       "      <td>27.8375</td>\n",
       "      <td>68.0</td>\n",
       "      <td>0.002320</td>\n",
       "      <td>False</td>\n",
       "    </tr>\n",
       "    <tr>\n",
       "      <th>5</th>\n",
       "      <td>0</td>\n",
       "      <td>2025-01-08</td>\n",
       "      <td>r29.1125_tc71_avglc25744_sdlc7728</td>\n",
       "      <td>2025-01-08 08:50:00</td>\n",
       "      <td>2025-01-08 14:45:00</td>\n",
       "      <td>0.337639</td>\n",
       "      <td>89.606148</td>\n",
       "      <td>2025-01-08 10:19:36.368864478</td>\n",
       "      <td>355.0</td>\n",
       "      <td>2025-01-08 10:19:36.368864478</td>\n",
       "      <td>71</td>\n",
       "      <td>29.1125</td>\n",
       "      <td>71.0</td>\n",
       "      <td>0.002426</td>\n",
       "      <td>False</td>\n",
       "    </tr>\n",
       "    <tr>\n",
       "      <th>6</th>\n",
       "      <td>0</td>\n",
       "      <td>2025-01-08</td>\n",
       "      <td>r28.7725_tc42_avglc29451_sdlc6947</td>\n",
       "      <td>2025-01-08 15:00:00</td>\n",
       "      <td>2025-01-08 23:55:00</td>\n",
       "      <td>0.502592</td>\n",
       "      <td>39.185661</td>\n",
       "      <td>2025-01-08 15:39:11.139635364</td>\n",
       "      <td>535.0</td>\n",
       "      <td>2025-01-08 15:39:11.139635364</td>\n",
       "      <td>42</td>\n",
       "      <td>28.7725</td>\n",
       "      <td>107.0</td>\n",
       "      <td>0.002398</td>\n",
       "      <td>False</td>\n",
       "    </tr>\n",
       "    <tr>\n",
       "      <th>7</th>\n",
       "      <td>0</td>\n",
       "      <td>2025-01-08</td>\n",
       "      <td>r32.0025_tc74_avglc29795_sdlc7962</td>\n",
       "      <td>2025-01-08 10:25:00</td>\n",
       "      <td>2025-01-08 17:00:00</td>\n",
       "      <td>0.474406</td>\n",
       "      <td>65.983562</td>\n",
       "      <td>2025-01-08 11:30:59.013696186</td>\n",
       "      <td>395.0</td>\n",
       "      <td>2025-01-08 11:30:59.013696186</td>\n",
       "      <td>74</td>\n",
       "      <td>32.0025</td>\n",
       "      <td>79.0</td>\n",
       "      <td>0.002667</td>\n",
       "      <td>False</td>\n",
       "    </tr>\n",
       "    <tr>\n",
       "      <th>8</th>\n",
       "      <td>0</td>\n",
       "      <td>2025-01-08</td>\n",
       "      <td>r25.84_tc49_avglc20281_sdlc7960</td>\n",
       "      <td>2025-01-08 11:40:00</td>\n",
       "      <td>2025-01-08 19:30:00</td>\n",
       "      <td>0.273532</td>\n",
       "      <td>76.966557</td>\n",
       "      <td>2025-01-08 12:56:57.993437946</td>\n",
       "      <td>470.0</td>\n",
       "      <td>2025-01-08 12:56:57.993437946</td>\n",
       "      <td>49</td>\n",
       "      <td>25.8400</td>\n",
       "      <td>94.0</td>\n",
       "      <td>0.002153</td>\n",
       "      <td>False</td>\n",
       "    </tr>\n",
       "    <tr>\n",
       "      <th>9</th>\n",
       "      <td>0</td>\n",
       "      <td>2025-01-08</td>\n",
       "      <td>r25.1175_tc81_avglc24481_sdlc7903</td>\n",
       "      <td>2025-01-08 19:10:00</td>\n",
       "      <td>2025-01-09 01:15:00</td>\n",
       "      <td>0.338141</td>\n",
       "      <td>118.388935</td>\n",
       "      <td>2025-01-08 21:08:23.336099208</td>\n",
       "      <td>365.0</td>\n",
       "      <td>2025-01-08 21:08:23.336099208</td>\n",
       "      <td>81</td>\n",
       "      <td>25.1175</td>\n",
       "      <td>73.0</td>\n",
       "      <td>0.002093</td>\n",
       "      <td>False</td>\n",
       "    </tr>\n",
       "  </tbody>\n",
       "</table>\n",
       "</div>"
      ],
      "text/plain": [
       "   index distinct_dates                                     user_type  \\\n",
       "0      0     2025-01-08  r29.367499999999996_tc35_avglc26444_sdlc6919   \n",
       "1      0     2025-01-08            r24.0125_tc103_avglc24950_sdlc7383   \n",
       "2      0     2025-01-08             r36.7625_tc21_avglc27492_sdlc6913   \n",
       "3      0     2025-01-08               r23.46_tc61_avglc25809_sdlc6886   \n",
       "4      0     2025-01-08  r27.837500000000002_tc25_avglc25929_sdlc7815   \n",
       "5      0     2025-01-08             r29.1125_tc71_avglc25744_sdlc7728   \n",
       "6      0     2025-01-08             r28.7725_tc42_avglc29451_sdlc6947   \n",
       "7      0     2025-01-08             r32.0025_tc74_avglc29795_sdlc7962   \n",
       "8      0     2025-01-08               r25.84_tc49_avglc20281_sdlc7960   \n",
       "9      0     2025-01-08             r25.1175_tc81_avglc24481_sdlc7903   \n",
       "\n",
       "   usage_window_start    usage_window_end  initial_charge  time_needed  \\\n",
       "0 2025-01-08 19:20:00 2025-01-09 03:55:00        0.274689    48.289854   \n",
       "1 2025-01-08 19:40:00 2025-01-09 03:50:00        0.381998   146.184329   \n",
       "2 2025-01-08 16:35:00 2025-01-09 01:40:00        0.525711    14.542111   \n",
       "3 2025-01-08 10:35:00 2025-01-08 15:50:00        0.609764    53.080252   \n",
       "4 2025-01-08 18:50:00 2025-01-09 00:30:00        0.242590    38.118160   \n",
       "5 2025-01-08 08:50:00 2025-01-08 14:45:00        0.337639    89.606148   \n",
       "6 2025-01-08 15:00:00 2025-01-08 23:55:00        0.502592    39.185661   \n",
       "7 2025-01-08 10:25:00 2025-01-08 17:00:00        0.474406    65.983562   \n",
       "8 2025-01-08 11:40:00 2025-01-08 19:30:00        0.273532    76.966557   \n",
       "9 2025-01-08 19:10:00 2025-01-09 01:15:00        0.338141   118.388935   \n",
       "\n",
       "  expected_baseline_charge_complete_timestamp  window_length_in_minutes  \\\n",
       "0               2025-01-08 20:08:17.391226626                     515.0   \n",
       "1               2025-01-08 22:06:11.059764642                     490.0   \n",
       "2               2025-01-08 16:49:32.526643320                     545.0   \n",
       "3               2025-01-08 11:28:04.815120102                     315.0   \n",
       "4               2025-01-08 19:28:07.089588888                     340.0   \n",
       "5               2025-01-08 10:19:36.368864478                     355.0   \n",
       "6               2025-01-08 15:39:11.139635364                     535.0   \n",
       "7               2025-01-08 11:30:59.013696186                     395.0   \n",
       "8               2025-01-08 12:56:57.993437946                     470.0   \n",
       "9               2025-01-08 21:08:23.336099208                     365.0   \n",
       "\n",
       "              final_charge_time  total_capacity  usage_power_kw  \\\n",
       "0 2025-01-08 20:08:17.391226626              35         29.3675   \n",
       "1 2025-01-08 22:06:11.059764642             103         24.0125   \n",
       "2 2025-01-08 16:49:32.526643320              21         36.7625   \n",
       "3 2025-01-08 11:28:04.815120102              61         23.4600   \n",
       "4 2025-01-08 19:28:07.089588888              25         27.8375   \n",
       "5 2025-01-08 10:19:36.368864478              71         29.1125   \n",
       "6 2025-01-08 15:39:11.139635364              42         28.7725   \n",
       "7 2025-01-08 11:30:59.013696186              74         32.0025   \n",
       "8 2025-01-08 12:56:57.993437946              49         25.8400   \n",
       "9 2025-01-08 21:08:23.336099208              81         25.1175   \n",
       "\n",
       "   total_intervals_plugged_in  MWh_fraction  early_session_stop  \n",
       "0                       103.0      0.002447               False  \n",
       "1                        98.0      0.002001               False  \n",
       "2                       109.0      0.003064               False  \n",
       "3                        63.0      0.001955               False  \n",
       "4                        68.0      0.002320               False  \n",
       "5                        71.0      0.002426               False  \n",
       "6                       107.0      0.002398               False  \n",
       "7                        79.0      0.002667               False  \n",
       "8                        94.0      0.002153               False  \n",
       "9                        73.0      0.002093               False  "
      ]
     },
     "execution_count": 7,
     "metadata": {},
     "output_type": "execute_result"
    }
   ],
   "source": [
    "s_ev.generate_synthetic_dataset(distinct_date_list=[distinct_date_list[0]], number_of_users=10)"
   ]
  },
  {
   "cell_type": "markdown",
   "metadata": {},
   "source": [
    "## Example: AI Model Training\n",
    "\n",
    "\n",
    "### Functional Behavior\n",
    "- Worloads can run at any time of day\n",
    "- Our 3 server models consume 24, 31, and 64 kWh on average\n"
   ]
  },
  {
   "cell_type": "code",
   "execution_count": 8,
   "metadata": {},
   "outputs": [],
   "source": [
    "ai_kwargs = {\n",
    "    \"max_percent_capacity\":1.0, # job must run to completion\n",
    "    \"max_power_output_rates\": [24,31,64],\n",
    "    \"minimum_usage_window_start_time\": \"00:00:00\",  # earliest session can start\n",
    "    \"maximum_usage_window_start_time\": \"23:59:00\",  # latest session can start\n",
    "}"
   ]
  },
  {
   "cell_type": "code",
   "execution_count": 9,
   "metadata": {},
   "outputs": [],
   "source": [
    "s_ai = SessionsGenerator(**ai_kwargs)"
   ]
  },
  {
   "cell_type": "code",
   "execution_count": 10,
   "metadata": {},
   "outputs": [
    {
     "name": "stderr",
     "output_type": "stream",
     "text": [
      "100%|██████████| 10/10 [00:00<00:00, 333.17it/s]\n"
     ]
    }
   ],
   "source": [
    "df_ai = s_ai.generate_synthetic_dataset(distinct_date_list=distinct_date_list, number_of_users=10)"
   ]
  },
  {
   "cell_type": "markdown",
   "metadata": {},
   "source": [
    "# Optimization"
   ]
  },
  {
   "cell_type": "code",
   "execution_count": 8,
   "metadata": {},
   "outputs": [],
   "source": [
    "import pandas as pd\n",
    "from watttime_optimizer.evaluator.evaluator import OptChargeEvaluator\n",
    "from watttime_optimizer.evaluator.evaluator import ImpactEvaluator"
   ]
  },
  {
   "cell_type": "markdown",
   "metadata": {},
   "source": [
    "### The WattTimeOptimizer class requires 4 things:\n",
    "\n",
    "- Watttime’s forecast of marginal emissions (MOER) - be ready to provide your username and password\n",
    "- device capacity and energy needs\n",
    "- region\n",
    "- window start\n",
    "- window end"
   ]
  },
  {
   "cell_type": "code",
   "execution_count": 9,
   "metadata": {},
   "outputs": [],
   "source": [
    "username = os.getenv(\"WATTTIME_USER\")\n",
    "password = os.getenv(\"WATTTIME_PASSWORD\")\n",
    "region = \"CAISO_NORTH\"\n",
    "oce = OptChargeEvaluator(username=username,password=password)\n",
    "\n",
    "# single instance\n",
    "df_ev_sample = s_ev.synthetic_user_data(distinct_date_list=[distinct_date_list[0]])"
   ]
  },
  {
   "cell_type": "code",
   "execution_count": 10,
   "metadata": {},
   "outputs": [],
   "source": [
    "input_dict = df_ev_sample[['usage_window_start',\n",
    "                    'usage_window_end',\n",
    "                    'time_needed',\n",
    "                    'usage_power_kw'\n",
    "                    ]].T.to_dict()\n",
    "\n",
    "value = input_dict[0]\n",
    "value.update({'region':region,'tz_convert':True, \"verbose\":False})"
   ]
  },
  {
   "cell_type": "code",
   "execution_count": 11,
   "metadata": {},
   "outputs": [
    {
     "data": {
      "text/plain": [
       "{'usage_window_start': Timestamp('2025-01-08 17:25:00'),\n",
       " 'usage_window_end': Timestamp('2025-01-08 23:00:00'),\n",
       " 'time_needed': 80.72348693742671,\n",
       " 'usage_power_kw': 24.182499999999997,\n",
       " 'region': 'CAISO_NORTH',\n",
       " 'tz_convert': True,\n",
       " 'verbose': False}"
      ]
     },
     "execution_count": 11,
     "metadata": {},
     "output_type": "execute_result"
    }
   ],
   "source": [
    "value"
   ]
  },
  {
   "cell_type": "code",
   "execution_count": 12,
   "metadata": {},
   "outputs": [],
   "source": [
    "df = oce.get_schedule_and_cost_api(**value)\n",
    "rr = ImpactEvaluator(username,password,df).get_all_emissions_values(region=region)"
   ]
  },
  {
   "cell_type": "code",
   "execution_count": 13,
   "metadata": {},
   "outputs": [
    {
     "data": {
      "text/plain": [
       "<Axes: xlabel='point_time'>"
      ]
     },
     "execution_count": 13,
     "metadata": {},
     "output_type": "execute_result"
    },
    {
     "data": {
      "image/png": "[encoded data removed]",
      "text/plain": [
       "<Figure size 640x480 with 1 Axes>"
      ]
     },
     "metadata": {},
     "output_type": "display_data"
    }
   ],
   "source": [
    "rr.cumsum().plot()"
   ]
  },
  {
   "cell_type": "markdown",
   "metadata": {},
   "source": [
    "# Requery\n",
    "\n",
    "The intuition behind requerying is that more recent forecasts more accurately reflect what is likely to happen on the grid within the session window. An extension of this assumption is that the higher the update frequency, the greater the improvement in overall results. "
   ]
  },
  {
   "cell_type": "code",
   "execution_count": 20,
   "metadata": {},
   "outputs": [],
   "source": [
    "from watttime_optimizer.evaluator.evaluator import RecalculationOptChargeEvaluator"
   ]
  },
  {
   "cell_type": "code",
   "execution_count": 21,
   "metadata": {},
   "outputs": [],
   "source": [
    "roce = RecalculationOptChargeEvaluator(username,password)"
   ]
  },
  {
   "cell_type": "code",
   "execution_count": 22,
   "metadata": {},
   "outputs": [],
   "source": [
    "value.update({\"optimization_method\": \"simple\", \"interval\":15, \"charge_per_segment\":None})"
   ]
  },
  {
   "cell_type": "code",
   "execution_count": 41,
   "metadata": {},
   "outputs": [
    {
     "name": "stdout",
     "output_type": "stream",
     "text": [
      "4.5 s ± 1.8 s per loop (mean ± std. dev. of 7 runs, 1 loop each)\n"
     ]
    }
   ],
   "source": [
    "%%timeit\n",
    "%%capture\n",
    "df_requery = roce.fit_recalculator(**value).get_combined_schedule()"
   ]
  },
  {
   "cell_type": "markdown",
   "metadata": {},
   "source": [
    "# Vizualizing Results"
   ]
  },
  {
   "cell_type": "code",
   "execution_count": 14,
   "metadata": {},
   "outputs": [],
   "source": [
    "impact_evaluator = ImpactEvaluator(username=username,password=password,obj=df)"
   ]
  },
  {
   "cell_type": "code",
   "execution_count": 15,
   "metadata": {},
   "outputs": [
    {
     "data": {
      "image/png": "[encoded data removed]",
      "text/plain": [
       "<Figure size 640x480 with 1 Axes>"
      ]
     },
     "metadata": {},
     "output_type": "display_data"
    }
   ],
   "source": [
    "impact_evaluator.plot_predicated_moer()"
   ]
  },
  {
   "cell_type": "code",
   "execution_count": 16,
   "metadata": {},
   "outputs": [
    {
     "data": {
      "image/png": "[encoded data removed]",
      "text/plain": [
       "<Figure size 640x480 with 1 Axes>"
      ]
     },
     "metadata": {},
     "output_type": "display_data"
    }
   ],
   "source": [
    "impact_evaluator.plot_usage_schedule()"
   ]
  },
  {
   "cell_type": "code",
   "execution_count": 18,
   "metadata": {},
   "outputs": [
    {
     "data": {
      "image/png": "[encoded data removed]",
      "text/plain": [
       "<Figure size 640x480 with 2 Axes>"
      ]
     },
     "metadata": {},
     "output_type": "display_data"
    }
   ],
   "source": [
    "impact_evaluator.plot_impact(region=region)"
   ]
  },
  {
   "cell_type": "code",
   "execution_count": 20,
   "metadata": {},
   "outputs": [
    {
     "data": {
      "text/plain": [
       "{'baseline': 32.283293308785595,\n",
       " 'forecast': 30.577797566641117,\n",
       " 'actual': 31.779439306783917}"
      ]
     },
     "execution_count": 20,
     "metadata": {},
     "output_type": "execute_result"
    }
   ],
   "source": [
    "impact_evaluator.get_all_emissions_metrics(region=region)"
   ]
  },
  {
   "cell_type": "markdown",
   "metadata": {},
   "source": [
    "# Iterate over multiple rows of data"
   ]
  },
  {
   "cell_type": "markdown",
   "metadata": {},
   "source": []
  },
  {
   "cell_type": "code",
   "execution_count": 39,
   "metadata": {},
   "outputs": [],
   "source": [
    "from watttime_optimizer.evaluator.analysis import analysis_loop"
   ]
  },
  {
   "cell_type": "code",
   "execution_count": 40,
   "metadata": {},
   "outputs": [
    {
     "name": "stderr",
     "output_type": "stream",
     "text": [
      "100%|██████████| 10/10 [00:00<00:00, 262.90it/s]\n"
     ]
    }
   ],
   "source": [
    "df_ev_samples = s_ev.generate_synthetic_dataset(distinct_date_list=distinct_date_list, number_of_users=10).sample(10)\n",
    "\n",
    "input_dict = df_ev_samples[['usage_window_start',\n",
    "                    'usage_window_end',\n",
    "                    'time_needed',\n",
    "                    'usage_power_kw'\n",
    "                    ]].T.to_dict()"
   ]
  },
  {
   "cell_type": "code",
   "execution_count": 41,
   "metadata": {},
   "outputs": [
    {
     "name": "stderr",
     "output_type": "stream",
     "text": [
      "100%|██████████| 10/10 [00:48<00:00,  4.87s/it]\n"
     ]
    }
   ],
   "source": [
    "results = analysis_loop(\n",
    "    region = \"CAISO_NORTH\",\n",
    "    input_dict = input_dict,\n",
    "    username=username,\n",
    "    password=password\n",
    ")"
   ]
  },
  {
   "cell_type": "code",
   "execution_count": 43,
   "metadata": {},
   "outputs": [],
   "source": [
    "results_loop = pd.DataFrame.from_dict(\n",
    "    results,\n",
    "    orient=\"index\"\n",
    "    )"
   ]
  },
  {
   "cell_type": "code",
   "execution_count": 49,
   "metadata": {},
   "outputs": [
    {
     "data": {
      "text/html": [
       "<div>\n",
       "<style scoped>\n",
       "    .dataframe tbody tr th:only-of-type {\n",
       "        vertical-align: middle;\n",
       "    }\n",
       "\n",
       "    .dataframe tbody tr th {\n",
       "        vertical-align: top;\n",
       "    }\n",
       "\n",
       "    .dataframe thead th {\n",
       "        text-align: right;\n",
       "    }\n",
       "</style>\n",
       "<table border=\"1\" class=\"dataframe\">\n",
       "  <thead>\n",
       "    <tr style=\"text-align: right;\">\n",
       "      <th></th>\n",
       "      <th>baseline</th>\n",
       "      <th>forecast</th>\n",
       "      <th>actual</th>\n",
       "      <th>m</th>\n",
       "      <th>b</th>\n",
       "      <th>stddev</th>\n",
       "    </tr>\n",
       "  </thead>\n",
       "  <tbody>\n",
       "    <tr>\n",
       "      <th>74</th>\n",
       "      <td>18.785587</td>\n",
       "      <td>17.989601</td>\n",
       "      <td>18.131132</td>\n",
       "      <td>-0.153361</td>\n",
       "      <td>958.348989</td>\n",
       "      <td>4.492026</td>\n",
       "    </tr>\n",
       "    <tr>\n",
       "      <th>87</th>\n",
       "      <td>7.239583</td>\n",
       "      <td>9.885909</td>\n",
       "      <td>7.149756</td>\n",
       "      <td>7.037200</td>\n",
       "      <td>-64.524592</td>\n",
       "      <td>306.813320</td>\n",
       "    </tr>\n",
       "    <tr>\n",
       "      <th>164</th>\n",
       "      <td>3.531891</td>\n",
       "      <td>4.478827</td>\n",
       "      <td>27.828149</td>\n",
       "      <td>-2.277382</td>\n",
       "      <td>350.811568</td>\n",
       "      <td>110.248641</td>\n",
       "    </tr>\n",
       "    <tr>\n",
       "      <th>36</th>\n",
       "      <td>51.959712</td>\n",
       "      <td>49.601364</td>\n",
       "      <td>51.277886</td>\n",
       "      <td>-0.850466</td>\n",
       "      <td>987.026339</td>\n",
       "      <td>16.902915</td>\n",
       "    </tr>\n",
       "    <tr>\n",
       "      <th>98</th>\n",
       "      <td>18.336274</td>\n",
       "      <td>11.711657</td>\n",
       "      <td>17.373445</td>\n",
       "      <td>6.201609</td>\n",
       "      <td>22.024319</td>\n",
       "      <td>214.884382</td>\n",
       "    </tr>\n",
       "    <tr>\n",
       "      <th>249</th>\n",
       "      <td>67.523255</td>\n",
       "      <td>64.249195</td>\n",
       "      <td>66.979611</td>\n",
       "      <td>-0.395036</td>\n",
       "      <td>978.947001</td>\n",
       "      <td>15.076282</td>\n",
       "    </tr>\n",
       "    <tr>\n",
       "      <th>81</th>\n",
       "      <td>55.829117</td>\n",
       "      <td>53.346816</td>\n",
       "      <td>53.685575</td>\n",
       "      <td>-0.475130</td>\n",
       "      <td>961.037489</td>\n",
       "      <td>10.587760</td>\n",
       "    </tr>\n",
       "    <tr>\n",
       "      <th>10</th>\n",
       "      <td>32.056373</td>\n",
       "      <td>30.638461</td>\n",
       "      <td>30.998585</td>\n",
       "      <td>-0.485953</td>\n",
       "      <td>964.179230</td>\n",
       "      <td>11.088391</td>\n",
       "    </tr>\n",
       "    <tr>\n",
       "      <th>27</th>\n",
       "      <td>6.885002</td>\n",
       "      <td>8.666217</td>\n",
       "      <td>7.030633</td>\n",
       "      <td>11.099877</td>\n",
       "      <td>-47.994144</td>\n",
       "      <td>399.276077</td>\n",
       "    </tr>\n",
       "    <tr>\n",
       "      <th>241</th>\n",
       "      <td>13.175851</td>\n",
       "      <td>12.180933</td>\n",
       "      <td>13.041130</td>\n",
       "      <td>-0.024084</td>\n",
       "      <td>947.862326</td>\n",
       "      <td>9.670335</td>\n",
       "    </tr>\n",
       "  </tbody>\n",
       "</table>\n",
       "</div>"
      ],
      "text/plain": [
       "      baseline   forecast     actual          m           b      stddev\n",
       "74   18.785587  17.989601  18.131132  -0.153361  958.348989    4.492026\n",
       "87    7.239583   9.885909   7.149756   7.037200  -64.524592  306.813320\n",
       "164   3.531891   4.478827  27.828149  -2.277382  350.811568  110.248641\n",
       "36   51.959712  49.601364  51.277886  -0.850466  987.026339   16.902915\n",
       "98   18.336274  11.711657  17.373445   6.201609   22.024319  214.884382\n",
       "249  67.523255  64.249195  66.979611  -0.395036  978.947001   15.076282\n",
       "81   55.829117  53.346816  53.685575  -0.475130  961.037489   10.587760\n",
       "10   32.056373  30.638461  30.998585  -0.485953  964.179230   11.088391\n",
       "27    6.885002   8.666217   7.030633  11.099877  -47.994144  399.276077\n",
       "241  13.175851  12.180933  13.041130  -0.024084  947.862326    9.670335"
      ]
     },
     "execution_count": 49,
     "metadata": {},
     "output_type": "execute_result"
    }
   ],
   "source": [
    "results_loop"
   ]
  }
 ],
 "metadata": {
  "kernelspec": {
   "display_name": "watttime",
   "language": "python",
   "name": "python3"
  },
  "language_info": {
   "codemirror_mode": {
    "name": "ipython",
    "version": 3
   },
   "file_extension": ".py",
   "mimetype": "text/x-python",
   "name": "python",
   "nbconvert_exporter": "python",
   "pygments_lexer": "ipython3",
   "version": "3.9.21"
  }
 },
 "nbformat": 4,
 "nbformat_minor": 2
}
