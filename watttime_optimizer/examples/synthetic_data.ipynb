{
 "cells": [
  {
   "cell_type": "markdown",
   "metadata": {},
   "source": [
    "# Synthetic Data for Testing"
   ]
  },
  {
   "cell_type": "code",
   "execution_count": 1,
   "metadata": {},
   "outputs": [],
   "source": [
    "import os\n",
    "os.chdir(path=os.path.dirname(os.path.dirname(os.path.abspath(os.curdir))))"
   ]
  },
  {
   "cell_type": "code",
   "execution_count": 2,
   "metadata": {},
   "outputs": [],
   "source": [
    "from watttime_optimizer.evaluator.sessions import SessionsGenerator"
   ]
  },
  {
   "cell_type": "markdown",
   "metadata": {},
   "source": [
    "## Example: At home EV charging\n",
    "\n",
    "- Covers a 5.5 - 8.5 hour variable length window\n",
    "- The vehicle has a BMW and has an average power draw of 42.5\n",
    "- Battery is usually typically 50% charged at plug in time.\n",
    "- Charging occurs during the workday"
   ]
  },
  {
   "cell_type": "code",
   "execution_count": 3,
   "metadata": {},
   "outputs": [],
   "source": [
    "ev_kwargs = {\n",
    "    \"max_power_output_rates\": [42.5],\n",
    "    \"max_percent_capacity\": 0.95,  # highest level of charge achieved by battery\n",
    "    \"power_output_efficiency\": 0.75,  # power loss. 1 = no power loss.\n",
    "    \"minimum_battery_starting_capacity\": 0.2,  # minimum starting percent charged\n",
    "    \"minimum_usage_window_start_time\": \"08:00:00\",  # session can start as early as 8am\n",
    "    \"maximum_usage_window_start_time\": \"22:00:00\",  # session can start as late as 9pm\n",
    "}"
   ]
  },
  {
   "cell_type": "code",
   "execution_count": 4,
   "metadata": {},
   "outputs": [],
   "source": [
    "s_ev = SessionsGenerator(**ev_kwargs)"
   ]
  },
  {
   "cell_type": "markdown",
   "metadata": {},
   "source": [
    "Now we can generate synthetic data for users and devices with the attributes set above. The synthetic data creates one example per day."
   ]
  },
  {
   "cell_type": "code",
   "execution_count": 5,
   "metadata": {},
   "outputs": [],
   "source": [
    "# the class has a helper function to generate a random list of unique dates\n",
    "distinct_date_list = s_ev.assign_random_dates(years=[2025])"
   ]
  },
  {
   "cell_type": "markdown",
   "metadata": {},
   "source": [
    "You can generate data from a single user."
   ]
  },
  {
   "cell_type": "code",
   "execution_count": 6,
   "metadata": {},
   "outputs": [
    {
     "data": {
      "text/html": [
       "<div>\n",
       "<style scoped>\n",
       "    .dataframe tbody tr th:only-of-type {\n",
       "        vertical-align: middle;\n",
       "    }\n",
       "\n",
       "    .dataframe tbody tr th {\n",
       "        vertical-align: top;\n",
       "    }\n",
       "\n",
       "    .dataframe thead th {\n",
       "        text-align: right;\n",
       "    }\n",
       "</style>\n",
       "<table border=\"1\" class=\"dataframe\">\n",
       "  <thead>\n",
       "    <tr style=\"text-align: right;\">\n",
       "      <th></th>\n",
       "      <th>0</th>\n",
       "    </tr>\n",
       "  </thead>\n",
       "  <tbody>\n",
       "    <tr>\n",
       "      <th>distinct_dates</th>\n",
       "      <td>2025-01-07</td>\n",
       "    </tr>\n",
       "    <tr>\n",
       "      <th>user_type</th>\n",
       "      <td>r26.945_tc71_avglc28763_sdlc7299</td>\n",
       "    </tr>\n",
       "    <tr>\n",
       "      <th>usage_window_start</th>\n",
       "      <td>2025-01-07 20:30:00</td>\n",
       "    </tr>\n",
       "    <tr>\n",
       "      <th>usage_window_end</th>\n",
       "      <td>2025-01-08 09:15:00</td>\n",
       "    </tr>\n",
       "    <tr>\n",
       "      <th>initial_charge</th>\n",
       "      <td>0.340737</td>\n",
       "    </tr>\n",
       "    <tr>\n",
       "      <th>time_needed</th>\n",
       "      <td>96.324327</td>\n",
       "    </tr>\n",
       "    <tr>\n",
       "      <th>expected_baseline_charge_complete_timestamp</th>\n",
       "      <td>2025-01-07 22:06:19.459590312</td>\n",
       "    </tr>\n",
       "    <tr>\n",
       "      <th>window_length_in_minutes</th>\n",
       "      <td>765.0</td>\n",
       "    </tr>\n",
       "    <tr>\n",
       "      <th>final_charge_time</th>\n",
       "      <td>2025-01-07 22:06:19.459590312</td>\n",
       "    </tr>\n",
       "    <tr>\n",
       "      <th>total_capacity</th>\n",
       "      <td>71</td>\n",
       "    </tr>\n",
       "    <tr>\n",
       "      <th>usage_power_kw</th>\n",
       "      <td>26.945</td>\n",
       "    </tr>\n",
       "    <tr>\n",
       "      <th>total_intervals_plugged_in</th>\n",
       "      <td>153.0</td>\n",
       "    </tr>\n",
       "    <tr>\n",
       "      <th>MWh_fraction</th>\n",
       "      <td>0.002245</td>\n",
       "    </tr>\n",
       "    <tr>\n",
       "      <th>early_session_stop</th>\n",
       "      <td>False</td>\n",
       "    </tr>\n",
       "  </tbody>\n",
       "</table>\n",
       "</div>"
      ],
      "text/plain": [
       "                                                                            0\n",
       "distinct_dates                                                     2025-01-07\n",
       "user_type                                    r26.945_tc71_avglc28763_sdlc7299\n",
       "usage_window_start                                        2025-01-07 20:30:00\n",
       "usage_window_end                                          2025-01-08 09:15:00\n",
       "initial_charge                                                       0.340737\n",
       "time_needed                                                         96.324327\n",
       "expected_baseline_charge_complete_timestamp     2025-01-07 22:06:19.459590312\n",
       "window_length_in_minutes                                                765.0\n",
       "final_charge_time                               2025-01-07 22:06:19.459590312\n",
       "total_capacity                                                             71\n",
       "usage_power_kw                                                         26.945\n",
       "total_intervals_plugged_in                                              153.0\n",
       "MWh_fraction                                                         0.002245\n",
       "early_session_stop                                                      False"
      ]
     },
     "execution_count": 6,
     "metadata": {},
     "output_type": "execute_result"
    }
   ],
   "source": [
    "s_ev.synthetic_user_data(distinct_date_list=[distinct_date_list[0]]).T"
   ]
  },
  {
   "cell_type": "markdown",
   "metadata": {},
   "source": [
    "Or for multiple users."
   ]
  },
  {
   "cell_type": "code",
   "execution_count": 7,
   "metadata": {},
   "outputs": [
    {
     "name": "stderr",
     "output_type": "stream",
     "text": [
      "100%|██████████| 10/10 [00:00<00:00, 345.29it/s]\n"
     ]
    },
    {
     "data": {
      "text/html": [
       "<div>\n",
       "<style scoped>\n",
       "    .dataframe tbody tr th:only-of-type {\n",
       "        vertical-align: middle;\n",
       "    }\n",
       "\n",
       "    .dataframe tbody tr th {\n",
       "        vertical-align: top;\n",
       "    }\n",
       "\n",
       "    .dataframe thead th {\n",
       "        text-align: right;\n",
       "    }\n",
       "</style>\n",
       "<table border=\"1\" class=\"dataframe\">\n",
       "  <thead>\n",
       "    <tr style=\"text-align: right;\">\n",
       "      <th></th>\n",
       "      <th>index</th>\n",
       "      <th>distinct_dates</th>\n",
       "      <th>user_type</th>\n",
       "      <th>usage_window_start</th>\n",
       "      <th>usage_window_end</th>\n",
       "      <th>initial_charge</th>\n",
       "      <th>time_needed</th>\n",
       "      <th>expected_baseline_charge_complete_timestamp</th>\n",
       "      <th>window_length_in_minutes</th>\n",
       "      <th>final_charge_time</th>\n",
       "      <th>total_capacity</th>\n",
       "      <th>usage_power_kw</th>\n",
       "      <th>total_intervals_plugged_in</th>\n",
       "      <th>MWh_fraction</th>\n",
       "      <th>early_session_stop</th>\n",
       "    </tr>\n",
       "  </thead>\n",
       "  <tbody>\n",
       "    <tr>\n",
       "      <th>0</th>\n",
       "      <td>0</td>\n",
       "      <td>2025-01-07</td>\n",
       "      <td>r31.2375_tc104_avglc29369_sdlc7128</td>\n",
       "      <td>2025-01-07 13:35:00</td>\n",
       "      <td>2025-01-07 20:10:00</td>\n",
       "      <td>0.476759</td>\n",
       "      <td>94.534494</td>\n",
       "      <td>2025-01-07 15:09:32.069628156</td>\n",
       "      <td>395.0</td>\n",
       "      <td>2025-01-07 15:09:32.069628156</td>\n",
       "      <td>104</td>\n",
       "      <td>31.2375</td>\n",
       "      <td>79.0</td>\n",
       "      <td>0.002603</td>\n",
       "      <td>False</td>\n",
       "    </tr>\n",
       "    <tr>\n",
       "      <th>1</th>\n",
       "      <td>0</td>\n",
       "      <td>2025-01-07</td>\n",
       "      <td>r25.415_tc27_avglc22738_sdlc7758</td>\n",
       "      <td>2025-01-07 09:25:00</td>\n",
       "      <td>2025-01-07 12:50:00</td>\n",
       "      <td>0.262952</td>\n",
       "      <td>43.793704</td>\n",
       "      <td>2025-01-07 10:08:47.622239934</td>\n",
       "      <td>205.0</td>\n",
       "      <td>2025-01-07 10:08:47.622239934</td>\n",
       "      <td>27</td>\n",
       "      <td>25.4150</td>\n",
       "      <td>41.0</td>\n",
       "      <td>0.002118</td>\n",
       "      <td>False</td>\n",
       "    </tr>\n",
       "    <tr>\n",
       "      <th>2</th>\n",
       "      <td>0</td>\n",
       "      <td>2025-01-07</td>\n",
       "      <td>r31.195_tc69_avglc28996_sdlc7437</td>\n",
       "      <td>2025-01-07 19:25:00</td>\n",
       "      <td>2025-01-08 02:15:00</td>\n",
       "      <td>0.268479</td>\n",
       "      <td>90.447105</td>\n",
       "      <td>2025-01-07 20:55:26.826279198</td>\n",
       "      <td>410.0</td>\n",
       "      <td>2025-01-07 20:55:26.826279198</td>\n",
       "      <td>69</td>\n",
       "      <td>31.1950</td>\n",
       "      <td>82.0</td>\n",
       "      <td>0.002600</td>\n",
       "      <td>False</td>\n",
       "    </tr>\n",
       "    <tr>\n",
       "      <th>3</th>\n",
       "      <td>0</td>\n",
       "      <td>2025-01-07</td>\n",
       "      <td>r28.687500000000004_tc29_avglc20434_sdlc6948</td>\n",
       "      <td>2025-01-07 13:55:00</td>\n",
       "      <td>2025-01-07 16:55:00</td>\n",
       "      <td>0.402831</td>\n",
       "      <td>33.187754</td>\n",
       "      <td>2025-01-07 14:28:11.265212730</td>\n",
       "      <td>180.0</td>\n",
       "      <td>2025-01-07 14:28:11.265212730</td>\n",
       "      <td>29</td>\n",
       "      <td>28.6875</td>\n",
       "      <td>36.0</td>\n",
       "      <td>0.002391</td>\n",
       "      <td>False</td>\n",
       "    </tr>\n",
       "    <tr>\n",
       "      <th>4</th>\n",
       "      <td>0</td>\n",
       "      <td>2025-01-07</td>\n",
       "      <td>r34.7225_tc102_avglc26861_sdlc7446</td>\n",
       "      <td>2025-01-07 19:40:00</td>\n",
       "      <td>2025-01-08 05:05:00</td>\n",
       "      <td>0.779481</td>\n",
       "      <td>30.054798</td>\n",
       "      <td>2025-01-07 20:10:03.287860500</td>\n",
       "      <td>565.0</td>\n",
       "      <td>2025-01-07 20:10:03.287860500</td>\n",
       "      <td>102</td>\n",
       "      <td>34.7225</td>\n",
       "      <td>113.0</td>\n",
       "      <td>0.002894</td>\n",
       "      <td>False</td>\n",
       "    </tr>\n",
       "    <tr>\n",
       "      <th>5</th>\n",
       "      <td>0</td>\n",
       "      <td>2025-01-07</td>\n",
       "      <td>r25.84_tc84_avglc26756_sdlc7776</td>\n",
       "      <td>2025-01-07 16:20:00</td>\n",
       "      <td>2025-01-08 02:30:00</td>\n",
       "      <td>0.401695</td>\n",
       "      <td>106.944858</td>\n",
       "      <td>2025-01-07 18:06:56.691487974</td>\n",
       "      <td>610.0</td>\n",
       "      <td>2025-01-07 18:06:56.691487974</td>\n",
       "      <td>84</td>\n",
       "      <td>25.8400</td>\n",
       "      <td>122.0</td>\n",
       "      <td>0.002153</td>\n",
       "      <td>False</td>\n",
       "    </tr>\n",
       "    <tr>\n",
       "      <th>6</th>\n",
       "      <td>0</td>\n",
       "      <td>2025-01-07</td>\n",
       "      <td>r32.1725_tc61_avglc25508_sdlc7508</td>\n",
       "      <td>2025-01-07 16:05:00</td>\n",
       "      <td>2025-01-08 01:25:00</td>\n",
       "      <td>0.461958</td>\n",
       "      <td>55.520505</td>\n",
       "      <td>2025-01-07 17:00:31.230272429</td>\n",
       "      <td>560.0</td>\n",
       "      <td>2025-01-07 17:00:31.230272429</td>\n",
       "      <td>61</td>\n",
       "      <td>32.1725</td>\n",
       "      <td>112.0</td>\n",
       "      <td>0.002681</td>\n",
       "      <td>False</td>\n",
       "    </tr>\n",
       "    <tr>\n",
       "      <th>7</th>\n",
       "      <td>0</td>\n",
       "      <td>2025-01-07</td>\n",
       "      <td>r33.1925_tc116_avglc28830_sdlc7740</td>\n",
       "      <td>2025-01-07 16:45:00</td>\n",
       "      <td>2025-01-07 22:40:00</td>\n",
       "      <td>0.510567</td>\n",
       "      <td>92.142966</td>\n",
       "      <td>2025-01-07 18:17:08.577960305</td>\n",
       "      <td>355.0</td>\n",
       "      <td>2025-01-07 18:17:08.577960305</td>\n",
       "      <td>116</td>\n",
       "      <td>33.1925</td>\n",
       "      <td>71.0</td>\n",
       "      <td>0.002766</td>\n",
       "      <td>False</td>\n",
       "    </tr>\n",
       "    <tr>\n",
       "      <th>8</th>\n",
       "      <td>0</td>\n",
       "      <td>2025-01-07</td>\n",
       "      <td>r29.2825_tc29_avglc23359_sdlc6996</td>\n",
       "      <td>2025-01-07 18:00:00</td>\n",
       "      <td>2025-01-07 22:35:00</td>\n",
       "      <td>0.314793</td>\n",
       "      <td>37.744748</td>\n",
       "      <td>2025-01-07 18:37:44.684857398</td>\n",
       "      <td>275.0</td>\n",
       "      <td>2025-01-07 18:37:44.684857398</td>\n",
       "      <td>29</td>\n",
       "      <td>29.2825</td>\n",
       "      <td>55.0</td>\n",
       "      <td>0.002440</td>\n",
       "      <td>False</td>\n",
       "    </tr>\n",
       "    <tr>\n",
       "      <th>9</th>\n",
       "      <td>0</td>\n",
       "      <td>2025-01-07</td>\n",
       "      <td>r36.082499999999996_tc121_avglc27590_sdlc6912</td>\n",
       "      <td>2025-01-07 11:20:00</td>\n",
       "      <td>2025-01-07 18:20:00</td>\n",
       "      <td>0.703789</td>\n",
       "      <td>49.538951</td>\n",
       "      <td>2025-01-07 12:09:32.337083280</td>\n",
       "      <td>420.0</td>\n",
       "      <td>2025-01-07 12:09:32.337083280</td>\n",
       "      <td>121</td>\n",
       "      <td>36.0825</td>\n",
       "      <td>84.0</td>\n",
       "      <td>0.003007</td>\n",
       "      <td>False</td>\n",
       "    </tr>\n",
       "  </tbody>\n",
       "</table>\n",
       "</div>"
      ],
      "text/plain": [
       "   index distinct_dates                                      user_type  \\\n",
       "0      0     2025-01-07             r31.2375_tc104_avglc29369_sdlc7128   \n",
       "1      0     2025-01-07               r25.415_tc27_avglc22738_sdlc7758   \n",
       "2      0     2025-01-07               r31.195_tc69_avglc28996_sdlc7437   \n",
       "3      0     2025-01-07   r28.687500000000004_tc29_avglc20434_sdlc6948   \n",
       "4      0     2025-01-07             r34.7225_tc102_avglc26861_sdlc7446   \n",
       "5      0     2025-01-07                r25.84_tc84_avglc26756_sdlc7776   \n",
       "6      0     2025-01-07              r32.1725_tc61_avglc25508_sdlc7508   \n",
       "7      0     2025-01-07             r33.1925_tc116_avglc28830_sdlc7740   \n",
       "8      0     2025-01-07              r29.2825_tc29_avglc23359_sdlc6996   \n",
       "9      0     2025-01-07  r36.082499999999996_tc121_avglc27590_sdlc6912   \n",
       "\n",
       "   usage_window_start    usage_window_end  initial_charge  time_needed  \\\n",
       "0 2025-01-07 13:35:00 2025-01-07 20:10:00        0.476759    94.534494   \n",
       "1 2025-01-07 09:25:00 2025-01-07 12:50:00        0.262952    43.793704   \n",
       "2 2025-01-07 19:25:00 2025-01-08 02:15:00        0.268479    90.447105   \n",
       "3 2025-01-07 13:55:00 2025-01-07 16:55:00        0.402831    33.187754   \n",
       "4 2025-01-07 19:40:00 2025-01-08 05:05:00        0.779481    30.054798   \n",
       "5 2025-01-07 16:20:00 2025-01-08 02:30:00        0.401695   106.944858   \n",
       "6 2025-01-07 16:05:00 2025-01-08 01:25:00        0.461958    55.520505   \n",
       "7 2025-01-07 16:45:00 2025-01-07 22:40:00        0.510567    92.142966   \n",
       "8 2025-01-07 18:00:00 2025-01-07 22:35:00        0.314793    37.744748   \n",
       "9 2025-01-07 11:20:00 2025-01-07 18:20:00        0.703789    49.538951   \n",
       "\n",
       "  expected_baseline_charge_complete_timestamp  window_length_in_minutes  \\\n",
       "0               2025-01-07 15:09:32.069628156                     395.0   \n",
       "1               2025-01-07 10:08:47.622239934                     205.0   \n",
       "2               2025-01-07 20:55:26.826279198                     410.0   \n",
       "3               2025-01-07 14:28:11.265212730                     180.0   \n",
       "4               2025-01-07 20:10:03.287860500                     565.0   \n",
       "5               2025-01-07 18:06:56.691487974                     610.0   \n",
       "6               2025-01-07 17:00:31.230272429                     560.0   \n",
       "7               2025-01-07 18:17:08.577960305                     355.0   \n",
       "8               2025-01-07 18:37:44.684857398                     275.0   \n",
       "9               2025-01-07 12:09:32.337083280                     420.0   \n",
       "\n",
       "              final_charge_time  total_capacity  usage_power_kw  \\\n",
       "0 2025-01-07 15:09:32.069628156             104         31.2375   \n",
       "1 2025-01-07 10:08:47.622239934              27         25.4150   \n",
       "2 2025-01-07 20:55:26.826279198              69         31.1950   \n",
       "3 2025-01-07 14:28:11.265212730              29         28.6875   \n",
       "4 2025-01-07 20:10:03.287860500             102         34.7225   \n",
       "5 2025-01-07 18:06:56.691487974              84         25.8400   \n",
       "6 2025-01-07 17:00:31.230272429              61         32.1725   \n",
       "7 2025-01-07 18:17:08.577960305             116         33.1925   \n",
       "8 2025-01-07 18:37:44.684857398              29         29.2825   \n",
       "9 2025-01-07 12:09:32.337083280             121         36.0825   \n",
       "\n",
       "   total_intervals_plugged_in  MWh_fraction  early_session_stop  \n",
       "0                        79.0      0.002603               False  \n",
       "1                        41.0      0.002118               False  \n",
       "2                        82.0      0.002600               False  \n",
       "3                        36.0      0.002391               False  \n",
       "4                       113.0      0.002894               False  \n",
       "5                       122.0      0.002153               False  \n",
       "6                       112.0      0.002681               False  \n",
       "7                        71.0      0.002766               False  \n",
       "8                        55.0      0.002440               False  \n",
       "9                        84.0      0.003007               False  "
      ]
     },
     "execution_count": 7,
     "metadata": {},
     "output_type": "execute_result"
    }
   ],
   "source": [
    "s_ev.generate_synthetic_dataset(distinct_date_list=[distinct_date_list[0]], number_of_users=10)"
   ]
  },
  {
   "cell_type": "markdown",
   "metadata": {},
   "source": [
    "## Example: AI Model Training\n",
    "- Model training can occur at any time of day\n",
    "- There are 3 server models that consume 240, 310, and 640 watt-hour on average\n",
    "- Early stopping is not an option"
   ]
  },
  {
   "cell_type": "code",
   "execution_count": 8,
   "metadata": {},
   "outputs": [],
   "source": [
    "ai_kwargs = {\n",
    "    \"max_percent_capacity\":1.0, # job must run to completion\n",
    "    \"max_power_output_rates\": [24,31,64], # assuming a bare metal usecase, k8s or vm rescale to vCPU\n",
    "    \"minimum_usage_window_start_time\": \"00:00:00\",  # earliest session can start\n",
    "    \"maximum_usage_window_start_time\": \"23:59:00\",  # latest session can start\n",
    "}"
   ]
  },
  {
   "cell_type": "code",
   "execution_count": 9,
   "metadata": {},
   "outputs": [],
   "source": [
    "s_ai = SessionsGenerator(**ai_kwargs)"
   ]
  },
  {
   "cell_type": "code",
   "execution_count": 10,
   "metadata": {},
   "outputs": [
    {
     "name": "stderr",
     "output_type": "stream",
     "text": [
      "100%|██████████| 10/10 [00:00<00:00, 259.96it/s]\n"
     ]
    }
   ],
   "source": [
    "df_ai = s_ai.generate_synthetic_dataset(distinct_date_list=distinct_date_list, number_of_users=10)"
   ]
  },
  {
   "cell_type": "markdown",
   "metadata": {},
   "source": [
    "# Optimization"
   ]
  },
  {
   "cell_type": "code",
   "execution_count": 11,
   "metadata": {},
   "outputs": [],
   "source": [
    "import os\n",
    "import pandas as pd\n",
    "from watttime_optimizer.evaluator.evaluator import OptChargeEvaluator\n",
    "from watttime_optimizer.evaluator.evaluator import ImpactEvaluator\n",
    "from watttime_optimizer.evaluator.evaluator import RecalculationOptChargeEvaluator"
   ]
  },
  {
   "cell_type": "code",
   "execution_count": 12,
   "metadata": {},
   "outputs": [],
   "source": [
    "username = os.getenv(\"WATTTIME_USER\")\n",
    "password = os.getenv(\"WATTTIME_PASSWORD\")\n",
    "region = \"CAISO_NORTH\"\n",
    "oce = OptChargeEvaluator(username=username,password=password)\n",
    "roce = RecalculationOptChargeEvaluator(username,password)\n",
    "\n",
    "# single instance\n",
    "df_ev_sample = s_ev.synthetic_user_data(distinct_date_list=[distinct_date_list[0]])\n",
    "df_ev_sample = df_ev_sample.rename({\"usage_time_required_in_minutes\":\"time_needed\"},axis=1)"
   ]
  },
  {
   "cell_type": "code",
   "execution_count": 20,
   "metadata": {},
   "outputs": [],
   "source": [
    "%%capture\n",
    "input_dict = df_ev_sample[['usage_window_start',\n",
    "                    'usage_window_end',\n",
    "                    'time_needed',\n",
    "                    'usage_power_kw'\n",
    "                    ]].T.to_dict()\n",
    "\n",
    "value = input_dict[0]\n",
    "value.update({'region':region,'tz_convert':True, \"verbose\":False})"
   ]
  },
  {
   "cell_type": "code",
   "execution_count": 21,
   "metadata": {},
   "outputs": [
    {
     "data": {
      "text/plain": [
       "{'usage_window_start': Timestamp('2025-01-07 12:30:00'),\n",
       " 'usage_window_end': Timestamp('2025-01-07 22:45:00'),\n",
       " 'time_needed': 87.57432605789094,\n",
       " 'usage_power_kw': 24.862499999999997,\n",
       " 'region': 'CAISO_NORTH',\n",
       " 'tz_convert': True,\n",
       " 'verbose': False}"
      ]
     },
     "execution_count": 21,
     "metadata": {},
     "output_type": "execute_result"
    }
   ],
   "source": [
    "value"
   ]
  },
  {
   "cell_type": "code",
   "execution_count": 22,
   "metadata": {},
   "outputs": [],
   "source": [
    "df = oce.get_schedule_and_cost_api(**value)\n",
    "r = ImpactEvaluator(username,password,df).get_all_emissions_values(region=region)"
   ]
  },
  {
   "cell_type": "code",
   "execution_count": 23,
   "metadata": {},
   "outputs": [
    {
     "data": {
      "text/plain": [
       "{'baseline': 24.462852599962222,\n",
       " 'forecast': 19.10658972072091,\n",
       " 'actual': 25.489088724775343}"
      ]
     },
     "execution_count": 23,
     "metadata": {},
     "output_type": "execute_result"
    }
   ],
   "source": [
    "r"
   ]
  },
  {
   "cell_type": "markdown",
   "metadata": {},
   "source": [
    "# Requery"
   ]
  },
  {
   "cell_type": "code",
   "execution_count": 24,
   "metadata": {},
   "outputs": [],
   "source": [
    "value.update({\"optimization_method\": \"simple\", \"interval\":15, \"charge_per_segment\":None})"
   ]
  },
  {
   "cell_type": "code",
   "execution_count": 37,
   "metadata": {},
   "outputs": [
    {
     "name": "stdout",
     "output_type": "stream",
     "text": [
      "tz converting...\n",
      "tz converting...\n",
      "tz converting...\n",
      "tz converting...\n",
      "tz converting...\n",
      "tz converting...\n",
      "tz converting...\n",
      "tz converting...\n",
      "7.92 s ± 2.39 s per loop (mean ± std. dev. of 7 runs, 1 loop each)\n"
     ]
    }
   ],
   "source": [
    "%%timeit\n",
    "df_requery = roce.fit_recalculator(**value).get_combined_schedule()\n",
    "r_requery = ImpactEvaluator(username,password,df_requery).get_all_emissions_values(region=region)"
   ]
  },
  {
   "cell_type": "code",
   "execution_count": 38,
   "metadata": {},
   "outputs": [
    {
     "data": {
      "text/plain": [
       "{'baseline': 24.462852599962222,\n",
       " 'forecast': 19.10658972072091,\n",
       " 'actual': 25.489088724775343}"
      ]
     },
     "execution_count": 38,
     "metadata": {},
     "output_type": "execute_result"
    }
   ],
   "source": [
    "r_requery"
   ]
  },
  {
   "cell_type": "markdown",
   "metadata": {},
   "source": [
    "# Iterate over multiple rows of data"
   ]
  },
  {
   "cell_type": "markdown",
   "metadata": {},
   "source": []
  },
  {
   "cell_type": "code",
   "execution_count": 39,
   "metadata": {},
   "outputs": [],
   "source": [
    "from watttime_optimizer.evaluator.analysis import analysis_loop"
   ]
  },
  {
   "cell_type": "code",
   "execution_count": 40,
   "metadata": {},
   "outputs": [
    {
     "name": "stderr",
     "output_type": "stream",
     "text": [
      "100%|██████████| 10/10 [00:00<00:00, 262.90it/s]\n"
     ]
    }
   ],
   "source": [
    "df_ev_samples = s_ev.generate_synthetic_dataset(distinct_date_list=distinct_date_list, number_of_users=10).sample(10)\n",
    "\n",
    "input_dict = df_ev_samples[['usage_window_start',\n",
    "                    'usage_window_end',\n",
    "                    'time_needed',\n",
    "                    'usage_power_kw'\n",
    "                    ]].T.to_dict()"
   ]
  },
  {
   "cell_type": "code",
   "execution_count": 41,
   "metadata": {},
   "outputs": [
    {
     "name": "stderr",
     "output_type": "stream",
     "text": [
      "100%|██████████| 10/10 [00:48<00:00,  4.87s/it]\n"
     ]
    }
   ],
   "source": [
    "results = analysis_loop(\n",
    "    region = \"CAISO_NORTH\",\n",
    "    input_dict = input_dict,\n",
    "    username=username,\n",
    "    password=password\n",
    ")"
   ]
  },
  {
   "cell_type": "code",
   "execution_count": 43,
   "metadata": {},
   "outputs": [],
   "source": [
    "results_loop = pd.DataFrame.from_dict(\n",
    "    results,\n",
    "    orient=\"index\"\n",
    "    )"
   ]
  },
  {
   "cell_type": "code",
   "execution_count": 49,
   "metadata": {},
   "outputs": [
    {
     "data": {
      "text/html": [
       "<div>\n",
       "<style scoped>\n",
       "    .dataframe tbody tr th:only-of-type {\n",
       "        vertical-align: middle;\n",
       "    }\n",
       "\n",
       "    .dataframe tbody tr th {\n",
       "        vertical-align: top;\n",
       "    }\n",
       "\n",
       "    .dataframe thead th {\n",
       "        text-align: right;\n",
       "    }\n",
       "</style>\n",
       "<table border=\"1\" class=\"dataframe\">\n",
       "  <thead>\n",
       "    <tr style=\"text-align: right;\">\n",
       "      <th></th>\n",
       "      <th>baseline</th>\n",
       "      <th>forecast</th>\n",
       "      <th>actual</th>\n",
       "      <th>m</th>\n",
       "      <th>b</th>\n",
       "      <th>stddev</th>\n",
       "    </tr>\n",
       "  </thead>\n",
       "  <tbody>\n",
       "    <tr>\n",
       "      <th>74</th>\n",
       "      <td>18.785587</td>\n",
       "      <td>17.989601</td>\n",
       "      <td>18.131132</td>\n",
       "      <td>-0.153361</td>\n",
       "      <td>958.348989</td>\n",
       "      <td>4.492026</td>\n",
       "    </tr>\n",
       "    <tr>\n",
       "      <th>87</th>\n",
       "      <td>7.239583</td>\n",
       "      <td>9.885909</td>\n",
       "      <td>7.149756</td>\n",
       "      <td>7.037200</td>\n",
       "      <td>-64.524592</td>\n",
       "      <td>306.813320</td>\n",
       "    </tr>\n",
       "    <tr>\n",
       "      <th>164</th>\n",
       "      <td>3.531891</td>\n",
       "      <td>4.478827</td>\n",
       "      <td>27.828149</td>\n",
       "      <td>-2.277382</td>\n",
       "      <td>350.811568</td>\n",
       "      <td>110.248641</td>\n",
       "    </tr>\n",
       "    <tr>\n",
       "      <th>36</th>\n",
       "      <td>51.959712</td>\n",
       "      <td>49.601364</td>\n",
       "      <td>51.277886</td>\n",
       "      <td>-0.850466</td>\n",
       "      <td>987.026339</td>\n",
       "      <td>16.902915</td>\n",
       "    </tr>\n",
       "    <tr>\n",
       "      <th>98</th>\n",
       "      <td>18.336274</td>\n",
       "      <td>11.711657</td>\n",
       "      <td>17.373445</td>\n",
       "      <td>6.201609</td>\n",
       "      <td>22.024319</td>\n",
       "      <td>214.884382</td>\n",
       "    </tr>\n",
       "    <tr>\n",
       "      <th>249</th>\n",
       "      <td>67.523255</td>\n",
       "      <td>64.249195</td>\n",
       "      <td>66.979611</td>\n",
       "      <td>-0.395036</td>\n",
       "      <td>978.947001</td>\n",
       "      <td>15.076282</td>\n",
       "    </tr>\n",
       "    <tr>\n",
       "      <th>81</th>\n",
       "      <td>55.829117</td>\n",
       "      <td>53.346816</td>\n",
       "      <td>53.685575</td>\n",
       "      <td>-0.475130</td>\n",
       "      <td>961.037489</td>\n",
       "      <td>10.587760</td>\n",
       "    </tr>\n",
       "    <tr>\n",
       "      <th>10</th>\n",
       "      <td>32.056373</td>\n",
       "      <td>30.638461</td>\n",
       "      <td>30.998585</td>\n",
       "      <td>-0.485953</td>\n",
       "      <td>964.179230</td>\n",
       "      <td>11.088391</td>\n",
       "    </tr>\n",
       "    <tr>\n",
       "      <th>27</th>\n",
       "      <td>6.885002</td>\n",
       "      <td>8.666217</td>\n",
       "      <td>7.030633</td>\n",
       "      <td>11.099877</td>\n",
       "      <td>-47.994144</td>\n",
       "      <td>399.276077</td>\n",
       "    </tr>\n",
       "    <tr>\n",
       "      <th>241</th>\n",
       "      <td>13.175851</td>\n",
       "      <td>12.180933</td>\n",
       "      <td>13.041130</td>\n",
       "      <td>-0.024084</td>\n",
       "      <td>947.862326</td>\n",
       "      <td>9.670335</td>\n",
       "    </tr>\n",
       "  </tbody>\n",
       "</table>\n",
       "</div>"
      ],
      "text/plain": [
       "      baseline   forecast     actual          m           b      stddev\n",
       "74   18.785587  17.989601  18.131132  -0.153361  958.348989    4.492026\n",
       "87    7.239583   9.885909   7.149756   7.037200  -64.524592  306.813320\n",
       "164   3.531891   4.478827  27.828149  -2.277382  350.811568  110.248641\n",
       "36   51.959712  49.601364  51.277886  -0.850466  987.026339   16.902915\n",
       "98   18.336274  11.711657  17.373445   6.201609   22.024319  214.884382\n",
       "249  67.523255  64.249195  66.979611  -0.395036  978.947001   15.076282\n",
       "81   55.829117  53.346816  53.685575  -0.475130  961.037489   10.587760\n",
       "10   32.056373  30.638461  30.998585  -0.485953  964.179230   11.088391\n",
       "27    6.885002   8.666217   7.030633  11.099877  -47.994144  399.276077\n",
       "241  13.175851  12.180933  13.041130  -0.024084  947.862326    9.670335"
      ]
     },
     "execution_count": 49,
     "metadata": {},
     "output_type": "execute_result"
    }
   ],
   "source": [
    "results_loop"
   ]
  },
  {
   "cell_type": "markdown",
   "metadata": {},
   "source": [
    "## Interate Over Multiple Rows of Data Using Requery"
   ]
  },
  {
   "cell_type": "code",
   "execution_count": 48,
   "metadata": {},
   "outputs": [],
   "source": [
    "#from watttime_optimizer.evaluator.analysis import analysis_loop_requery_contiguous"
   ]
  }
 ],
 "metadata": {
  "kernelspec": {
   "display_name": "watttime",
   "language": "python",
   "name": "python3"
  },
  "language_info": {
   "codemirror_mode": {
    "name": "ipython",
    "version": 3
   },
   "file_extension": ".py",
   "mimetype": "text/x-python",
   "name": "python",
   "nbconvert_exporter": "python",
   "pygments_lexer": "ipython3",
   "version": "3.9.21"
  }
 },
 "nbformat": 4,
 "nbformat_minor": 2
}
