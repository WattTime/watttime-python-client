{
 "cells": [
  {
   "cell_type": "markdown",
   "metadata": {},
   "source": [
    "# Generating Synthetic Data\n",
    "\n",
    "\n",
    "To validate the base model’s performance, we tested it on synthetic user data, an incredibly useful approach when device-level data is not yet available or too sensitive to share during early-stage development. Working with synthetic data, we can replicate device scope 2 emissions avoidance potential with and without an automated marginal emissions reduction solution.\n",
    "\n",
    "Ideally, the base solution’s short-term impact will be in shortening the product development lifecycle of custom software solutions designed to support AER features. To shape the base model, we worked with WattTime to isolate a common set of functional behaviors for potential low-carbon devices and translate these patterns and users’ behavior into mathematical functions that can be optimized. This first set is intended to serve as a base model for more complex solutions. \n",
    "\n",
    "We anticipate that different customers will want to build on the base model in various ways, further enhancing the efficiency of the base model. When extending the base model, it’s important that the energy transmission and customer behaviors are knowable and systematic. For example, battery charging is relatively straightforward. We can represent user behavior as numerical variables, and the power consumption patterns of batteries are relatively simple. On the other hand, accurate smart thermostat energy transmission modeling requires data inputs on space-specific thermodynamics — the physical characteristics of the room — and contextual user preferences for heating and cooling based on how they occupy each space. Optimizing this use case is possible, but the solution is not necessarily generalizable to other industries, nor is the data readily available. Expanding to this use case should be possible for customers with intimate knowledge of smart thermostat devices, because the base model can interact with a broad range of inputs and supplemental models."
   ]
  },
  {
   "cell_type": "code",
   "execution_count": 3,
   "metadata": {},
   "outputs": [],
   "source": [
    "import os\n",
    "os.chdir(path=os.path.dirname(os.path.dirname(os.path.abspath(os.curdir))))"
   ]
  },
  {
   "cell_type": "code",
   "execution_count": 4,
   "metadata": {},
   "outputs": [],
   "source": [
    "from watttime_optimizer.evaluator.sessions import SessionsGenerator"
   ]
  },
  {
   "cell_type": "markdown",
   "metadata": {},
   "source": [
    "## Example: At home EV charging\n",
    "\n",
    "Ideally, the base solution’s short-term impact will be in shortening the product development lifecycle of custom software solutions designed to support AER features. To shape the base model, we worked with WattTime to isolate a common set of functional behaviors for potential low-carbon devices and translate these patterns and users’ behavior into mathematical functions that can be optimized. This first set is intended to serve as a base model for more complex solutions. \n",
    "\n",
    "\n",
    "### Functional Behavior + Device Characteristics\n",
    "- Covers a 5.5 - 8.5 hour variable length window\n",
    "- The vehicle has a BMW and has an average power draw of 42.5\n",
    "- Battery is usually typically 50% charged at plug in time.\n",
    "- Charging occurs during the workdayz"
   ]
  },
  {
   "cell_type": "code",
   "execution_count": 5,
   "metadata": {},
   "outputs": [],
   "source": [
    "ev_kwargs = {\n",
    "    \"max_power_output_rates\": [42.5],\n",
    "    \"max_percent_capacity\": 0.95,  # highest level of charge achieved by battery\n",
    "    \"power_output_efficiency\": 0.75,  # power loss. 1 = no power loss.\n",
    "    \"minimum_battery_starting_capacity\": 0.2,  # minimum starting percent charged\n",
    "    \"minimum_usage_window_start_time\": \"08:00:00\",  # session can start as early as 8am\n",
    "    \"maximum_usage_window_start_time\": \"22:00:00\",  # session can start as late as 9pm\n",
    "}"
   ]
  },
  {
   "cell_type": "code",
   "execution_count": 6,
   "metadata": {},
   "outputs": [],
   "source": [
    "s_ev = SessionsGenerator(**ev_kwargs)"
   ]
  },
  {
   "cell_type": "markdown",
   "metadata": {},
   "source": [
    "Now we can generate synthetic data for users and devices with the attributes set above."
   ]
  },
  {
   "cell_type": "code",
   "execution_count": 8,
   "metadata": {},
   "outputs": [],
   "source": [
    "# the class has a helper function to generate a random list of unique dates\n",
    "distinct_date_list = s_ev.assign_random_dates(years=[2025])"
   ]
  },
  {
   "cell_type": "markdown",
   "metadata": {},
   "source": [
    "You can generate data for a *single* user for each distinct date"
   ]
  },
  {
   "cell_type": "code",
   "execution_count": 9,
   "metadata": {},
   "outputs": [
    {
     "data": {
      "text/html": [
       "<div>\n",
       "<style scoped>\n",
       "    .dataframe tbody tr th:only-of-type {\n",
       "        vertical-align: middle;\n",
       "    }\n",
       "\n",
       "    .dataframe tbody tr th {\n",
       "        vertical-align: top;\n",
       "    }\n",
       "\n",
       "    .dataframe thead th {\n",
       "        text-align: right;\n",
       "    }\n",
       "</style>\n",
       "<table border=\"1\" class=\"dataframe\">\n",
       "  <thead>\n",
       "    <tr style=\"text-align: right;\">\n",
       "      <th></th>\n",
       "      <th>0</th>\n",
       "    </tr>\n",
       "  </thead>\n",
       "  <tbody>\n",
       "    <tr>\n",
       "      <th>distinct_dates</th>\n",
       "      <td>2025-01-07</td>\n",
       "    </tr>\n",
       "    <tr>\n",
       "      <th>user_type</th>\n",
       "      <td>r29.7075_tc53_avglc24189_sdlc7534</td>\n",
       "    </tr>\n",
       "    <tr>\n",
       "      <th>usage_window_start</th>\n",
       "      <td>2025-01-07 18:10:00</td>\n",
       "    </tr>\n",
       "    <tr>\n",
       "      <th>usage_window_end</th>\n",
       "      <td>2025-01-07 23:35:00</td>\n",
       "    </tr>\n",
       "    <tr>\n",
       "      <th>initial_charge</th>\n",
       "      <td>0.693824</td>\n",
       "    </tr>\n",
       "    <tr>\n",
       "      <th>time_needed</th>\n",
       "      <td>27.422034</td>\n",
       "    </tr>\n",
       "    <tr>\n",
       "      <th>expected_baseline_charge_complete_timestamp</th>\n",
       "      <td>2025-01-07 18:37:25.322013216</td>\n",
       "    </tr>\n",
       "    <tr>\n",
       "      <th>window_length_in_minutes</th>\n",
       "      <td>325.0</td>\n",
       "    </tr>\n",
       "    <tr>\n",
       "      <th>final_charge_time</th>\n",
       "      <td>2025-01-07 18:37:25.322013216</td>\n",
       "    </tr>\n",
       "    <tr>\n",
       "      <th>total_capacity</th>\n",
       "      <td>53</td>\n",
       "    </tr>\n",
       "    <tr>\n",
       "      <th>usage_power_kw</th>\n",
       "      <td>29.7075</td>\n",
       "    </tr>\n",
       "    <tr>\n",
       "      <th>total_intervals_plugged_in</th>\n",
       "      <td>65.0</td>\n",
       "    </tr>\n",
       "    <tr>\n",
       "      <th>MWh_fraction</th>\n",
       "      <td>0.002476</td>\n",
       "    </tr>\n",
       "    <tr>\n",
       "      <th>early_session_stop</th>\n",
       "      <td>False</td>\n",
       "    </tr>\n",
       "  </tbody>\n",
       "</table>\n",
       "</div>"
      ],
      "text/plain": [
       "                                                                             0\n",
       "distinct_dates                                                      2025-01-07\n",
       "user_type                                    r29.7075_tc53_avglc24189_sdlc7534\n",
       "usage_window_start                                         2025-01-07 18:10:00\n",
       "usage_window_end                                           2025-01-07 23:35:00\n",
       "initial_charge                                                        0.693824\n",
       "time_needed                                                          27.422034\n",
       "expected_baseline_charge_complete_timestamp      2025-01-07 18:37:25.322013216\n",
       "window_length_in_minutes                                                 325.0\n",
       "final_charge_time                                2025-01-07 18:37:25.322013216\n",
       "total_capacity                                                              53\n",
       "usage_power_kw                                                         29.7075\n",
       "total_intervals_plugged_in                                                65.0\n",
       "MWh_fraction                                                          0.002476\n",
       "early_session_stop                                                       False"
      ]
     },
     "execution_count": 9,
     "metadata": {},
     "output_type": "execute_result"
    }
   ],
   "source": [
    "s_ev.synthetic_user_data(distinct_date_list=[distinct_date_list[0]]).T"
   ]
  },
  {
   "cell_type": "markdown",
   "metadata": {},
   "source": [
    "Or for *multiple* users."
   ]
  },
  {
   "cell_type": "code",
   "execution_count": 10,
   "metadata": {},
   "outputs": [
    {
     "name": "stderr",
     "output_type": "stream",
     "text": [
      "100%|██████████| 10/10 [00:00<00:00, 393.89it/s]\n"
     ]
    },
    {
     "data": {
      "text/html": [
       "<div>\n",
       "<style scoped>\n",
       "    .dataframe tbody tr th:only-of-type {\n",
       "        vertical-align: middle;\n",
       "    }\n",
       "\n",
       "    .dataframe tbody tr th {\n",
       "        vertical-align: top;\n",
       "    }\n",
       "\n",
       "    .dataframe thead th {\n",
       "        text-align: right;\n",
       "    }\n",
       "</style>\n",
       "<table border=\"1\" class=\"dataframe\">\n",
       "  <thead>\n",
       "    <tr style=\"text-align: right;\">\n",
       "      <th></th>\n",
       "      <th>index</th>\n",
       "      <th>distinct_dates</th>\n",
       "      <th>user_type</th>\n",
       "      <th>usage_window_start</th>\n",
       "      <th>usage_window_end</th>\n",
       "      <th>initial_charge</th>\n",
       "      <th>time_needed</th>\n",
       "      <th>expected_baseline_charge_complete_timestamp</th>\n",
       "      <th>window_length_in_minutes</th>\n",
       "      <th>final_charge_time</th>\n",
       "      <th>total_capacity</th>\n",
       "      <th>usage_power_kw</th>\n",
       "      <th>total_intervals_plugged_in</th>\n",
       "      <th>MWh_fraction</th>\n",
       "      <th>early_session_stop</th>\n",
       "    </tr>\n",
       "  </thead>\n",
       "  <tbody>\n",
       "    <tr>\n",
       "      <th>0</th>\n",
       "      <td>0</td>\n",
       "      <td>2025-01-07</td>\n",
       "      <td>r22.142500000000002_tc68_avglc29685_sdlc7352</td>\n",
       "      <td>2025-01-07 17:00:00</td>\n",
       "      <td>2025-01-07 23:30:00</td>\n",
       "      <td>0.698778</td>\n",
       "      <td>46.290438</td>\n",
       "      <td>2025-01-07 17:46:17.426258436</td>\n",
       "      <td>390.0</td>\n",
       "      <td>2025-01-07 17:46:17.426258436</td>\n",
       "      <td>68</td>\n",
       "      <td>22.1425</td>\n",
       "      <td>78.0</td>\n",
       "      <td>0.001845</td>\n",
       "      <td>False</td>\n",
       "    </tr>\n",
       "    <tr>\n",
       "      <th>1</th>\n",
       "      <td>0</td>\n",
       "      <td>2025-01-07</td>\n",
       "      <td>r26.2225_tc105_avglc21094_sdlc7841</td>\n",
       "      <td>2025-01-07 19:45:00</td>\n",
       "      <td>2025-01-08 05:00:00</td>\n",
       "      <td>0.386893</td>\n",
       "      <td>135.287437</td>\n",
       "      <td>2025-01-07 22:00:17.246191644</td>\n",
       "      <td>555.0</td>\n",
       "      <td>2025-01-07 22:00:17.246191644</td>\n",
       "      <td>105</td>\n",
       "      <td>26.2225</td>\n",
       "      <td>111.0</td>\n",
       "      <td>0.002185</td>\n",
       "      <td>False</td>\n",
       "    </tr>\n",
       "    <tr>\n",
       "      <th>2</th>\n",
       "      <td>0</td>\n",
       "      <td>2025-01-07</td>\n",
       "      <td>r34.85_tc77_avglc22322_sdlc7454</td>\n",
       "      <td>2025-01-07 10:15:00</td>\n",
       "      <td>2025-01-07 17:35:00</td>\n",
       "      <td>0.731440</td>\n",
       "      <td>28.974143</td>\n",
       "      <td>2025-01-07 10:43:58.448580306</td>\n",
       "      <td>440.0</td>\n",
       "      <td>2025-01-07 10:43:58.448580306</td>\n",
       "      <td>77</td>\n",
       "      <td>34.8500</td>\n",
       "      <td>88.0</td>\n",
       "      <td>0.002904</td>\n",
       "      <td>False</td>\n",
       "    </tr>\n",
       "    <tr>\n",
       "      <th>3</th>\n",
       "      <td>0</td>\n",
       "      <td>2025-01-07</td>\n",
       "      <td>r31.96_tc90_avglc28456_sdlc7191</td>\n",
       "      <td>2025-01-07 16:25:00</td>\n",
       "      <td>2025-01-08 02:35:00</td>\n",
       "      <td>0.270233</td>\n",
       "      <td>114.854309</td>\n",
       "      <td>2025-01-07 18:19:51.258526950</td>\n",
       "      <td>610.0</td>\n",
       "      <td>2025-01-07 18:19:51.258526950</td>\n",
       "      <td>90</td>\n",
       "      <td>31.9600</td>\n",
       "      <td>122.0</td>\n",
       "      <td>0.002663</td>\n",
       "      <td>False</td>\n",
       "    </tr>\n",
       "    <tr>\n",
       "      <th>4</th>\n",
       "      <td>0</td>\n",
       "      <td>2025-01-07</td>\n",
       "      <td>r36.1675_tc36_avglc29582_sdlc7767</td>\n",
       "      <td>2025-01-07 18:30:00</td>\n",
       "      <td>2025-01-08 04:00:00</td>\n",
       "      <td>0.270371</td>\n",
       "      <td>40.588899</td>\n",
       "      <td>2025-01-07 19:10:35.333956062</td>\n",
       "      <td>570.0</td>\n",
       "      <td>2025-01-07 19:10:35.333956062</td>\n",
       "      <td>36</td>\n",
       "      <td>36.1675</td>\n",
       "      <td>114.0</td>\n",
       "      <td>0.003014</td>\n",
       "      <td>False</td>\n",
       "    </tr>\n",
       "    <tr>\n",
       "      <th>5</th>\n",
       "      <td>0</td>\n",
       "      <td>2025-01-07</td>\n",
       "      <td>r22.61_tc80_avglc22140_sdlc7540</td>\n",
       "      <td>2025-01-07 10:30:00</td>\n",
       "      <td>2025-01-07 16:10:00</td>\n",
       "      <td>0.476458</td>\n",
       "      <td>100.530737</td>\n",
       "      <td>2025-01-07 12:10:31.844197253</td>\n",
       "      <td>340.0</td>\n",
       "      <td>2025-01-07 12:10:31.844197253</td>\n",
       "      <td>80</td>\n",
       "      <td>22.6100</td>\n",
       "      <td>68.0</td>\n",
       "      <td>0.001884</td>\n",
       "      <td>False</td>\n",
       "    </tr>\n",
       "    <tr>\n",
       "      <th>6</th>\n",
       "      <td>0</td>\n",
       "      <td>2025-01-07</td>\n",
       "      <td>r35.402499999999996_tc49_avglc23065_sdlc7227</td>\n",
       "      <td>2025-01-07 19:50:00</td>\n",
       "      <td>2025-01-08 04:00:00</td>\n",
       "      <td>0.749895</td>\n",
       "      <td>16.617745</td>\n",
       "      <td>2025-01-07 20:06:37.064696520</td>\n",
       "      <td>490.0</td>\n",
       "      <td>2025-01-07 20:06:37.064696520</td>\n",
       "      <td>49</td>\n",
       "      <td>35.4025</td>\n",
       "      <td>98.0</td>\n",
       "      <td>0.002950</td>\n",
       "      <td>False</td>\n",
       "    </tr>\n",
       "    <tr>\n",
       "      <th>7</th>\n",
       "      <td>0</td>\n",
       "      <td>2025-01-07</td>\n",
       "      <td>r28.687500000000004_tc67_avglc29598_sdlc6941</td>\n",
       "      <td>2025-01-07 11:45:00</td>\n",
       "      <td>2025-01-07 22:25:00</td>\n",
       "      <td>0.720450</td>\n",
       "      <td>32.167028</td>\n",
       "      <td>2025-01-07 12:17:10.021659492</td>\n",
       "      <td>640.0</td>\n",
       "      <td>2025-01-07 12:17:10.021659492</td>\n",
       "      <td>67</td>\n",
       "      <td>28.6875</td>\n",
       "      <td>128.0</td>\n",
       "      <td>0.002391</td>\n",
       "      <td>False</td>\n",
       "    </tr>\n",
       "    <tr>\n",
       "      <th>8</th>\n",
       "      <td>0</td>\n",
       "      <td>2025-01-07</td>\n",
       "      <td>r31.8325_tc41_avglc27725_sdlc7292</td>\n",
       "      <td>2025-01-07 19:40:00</td>\n",
       "      <td>2025-01-08 06:35:00</td>\n",
       "      <td>0.426594</td>\n",
       "      <td>40.448528</td>\n",
       "      <td>2025-01-07 20:20:26.911703658</td>\n",
       "      <td>655.0</td>\n",
       "      <td>2025-01-07 20:20:26.911703658</td>\n",
       "      <td>41</td>\n",
       "      <td>31.8325</td>\n",
       "      <td>131.0</td>\n",
       "      <td>0.002653</td>\n",
       "      <td>False</td>\n",
       "    </tr>\n",
       "    <tr>\n",
       "      <th>9</th>\n",
       "      <td>0</td>\n",
       "      <td>2025-01-07</td>\n",
       "      <td>r26.009999999999998_tc75_avglc24812_sdlc6804</td>\n",
       "      <td>2025-01-07 14:55:00</td>\n",
       "      <td>2025-01-07 23:50:00</td>\n",
       "      <td>0.522787</td>\n",
       "      <td>73.912262</td>\n",
       "      <td>2025-01-07 16:08:54.735737814</td>\n",
       "      <td>535.0</td>\n",
       "      <td>2025-01-07 16:08:54.735737814</td>\n",
       "      <td>75</td>\n",
       "      <td>26.0100</td>\n",
       "      <td>107.0</td>\n",
       "      <td>0.002168</td>\n",
       "      <td>False</td>\n",
       "    </tr>\n",
       "  </tbody>\n",
       "</table>\n",
       "</div>"
      ],
      "text/plain": [
       "   index distinct_dates                                     user_type  \\\n",
       "0      0     2025-01-07  r22.142500000000002_tc68_avglc29685_sdlc7352   \n",
       "1      0     2025-01-07            r26.2225_tc105_avglc21094_sdlc7841   \n",
       "2      0     2025-01-07               r34.85_tc77_avglc22322_sdlc7454   \n",
       "3      0     2025-01-07               r31.96_tc90_avglc28456_sdlc7191   \n",
       "4      0     2025-01-07             r36.1675_tc36_avglc29582_sdlc7767   \n",
       "5      0     2025-01-07               r22.61_tc80_avglc22140_sdlc7540   \n",
       "6      0     2025-01-07  r35.402499999999996_tc49_avglc23065_sdlc7227   \n",
       "7      0     2025-01-07  r28.687500000000004_tc67_avglc29598_sdlc6941   \n",
       "8      0     2025-01-07             r31.8325_tc41_avglc27725_sdlc7292   \n",
       "9      0     2025-01-07  r26.009999999999998_tc75_avglc24812_sdlc6804   \n",
       "\n",
       "   usage_window_start    usage_window_end  initial_charge  time_needed  \\\n",
       "0 2025-01-07 17:00:00 2025-01-07 23:30:00        0.698778    46.290438   \n",
       "1 2025-01-07 19:45:00 2025-01-08 05:00:00        0.386893   135.287437   \n",
       "2 2025-01-07 10:15:00 2025-01-07 17:35:00        0.731440    28.974143   \n",
       "3 2025-01-07 16:25:00 2025-01-08 02:35:00        0.270233   114.854309   \n",
       "4 2025-01-07 18:30:00 2025-01-08 04:00:00        0.270371    40.588899   \n",
       "5 2025-01-07 10:30:00 2025-01-07 16:10:00        0.476458   100.530737   \n",
       "6 2025-01-07 19:50:00 2025-01-08 04:00:00        0.749895    16.617745   \n",
       "7 2025-01-07 11:45:00 2025-01-07 22:25:00        0.720450    32.167028   \n",
       "8 2025-01-07 19:40:00 2025-01-08 06:35:00        0.426594    40.448528   \n",
       "9 2025-01-07 14:55:00 2025-01-07 23:50:00        0.522787    73.912262   \n",
       "\n",
       "  expected_baseline_charge_complete_timestamp  window_length_in_minutes  \\\n",
       "0               2025-01-07 17:46:17.426258436                     390.0   \n",
       "1               2025-01-07 22:00:17.246191644                     555.0   \n",
       "2               2025-01-07 10:43:58.448580306                     440.0   \n",
       "3               2025-01-07 18:19:51.258526950                     610.0   \n",
       "4               2025-01-07 19:10:35.333956062                     570.0   \n",
       "5               2025-01-07 12:10:31.844197253                     340.0   \n",
       "6               2025-01-07 20:06:37.064696520                     490.0   \n",
       "7               2025-01-07 12:17:10.021659492                     640.0   \n",
       "8               2025-01-07 20:20:26.911703658                     655.0   \n",
       "9               2025-01-07 16:08:54.735737814                     535.0   \n",
       "\n",
       "              final_charge_time  total_capacity  usage_power_kw  \\\n",
       "0 2025-01-07 17:46:17.426258436              68         22.1425   \n",
       "1 2025-01-07 22:00:17.246191644             105         26.2225   \n",
       "2 2025-01-07 10:43:58.448580306              77         34.8500   \n",
       "3 2025-01-07 18:19:51.258526950              90         31.9600   \n",
       "4 2025-01-07 19:10:35.333956062              36         36.1675   \n",
       "5 2025-01-07 12:10:31.844197253              80         22.6100   \n",
       "6 2025-01-07 20:06:37.064696520              49         35.4025   \n",
       "7 2025-01-07 12:17:10.021659492              67         28.6875   \n",
       "8 2025-01-07 20:20:26.911703658              41         31.8325   \n",
       "9 2025-01-07 16:08:54.735737814              75         26.0100   \n",
       "\n",
       "   total_intervals_plugged_in  MWh_fraction  early_session_stop  \n",
       "0                        78.0      0.001845               False  \n",
       "1                       111.0      0.002185               False  \n",
       "2                        88.0      0.002904               False  \n",
       "3                       122.0      0.002663               False  \n",
       "4                       114.0      0.003014               False  \n",
       "5                        68.0      0.001884               False  \n",
       "6                        98.0      0.002950               False  \n",
       "7                       128.0      0.002391               False  \n",
       "8                       131.0      0.002653               False  \n",
       "9                       107.0      0.002168               False  "
      ]
     },
     "execution_count": 10,
     "metadata": {},
     "output_type": "execute_result"
    }
   ],
   "source": [
    "s_ev.generate_synthetic_dataset(distinct_date_list=[distinct_date_list[0]], number_of_users=10)"
   ]
  },
  {
   "cell_type": "markdown",
   "metadata": {},
   "source": [
    "## Example: AI Model Training\n",
    "\n",
    "\n",
    "### Functional Behavior\n",
    "- Worloads can run at any time of day\n",
    "- Our 3 server models consume 24, 31, and 64 kWh on average\n"
   ]
  },
  {
   "cell_type": "code",
   "execution_count": 11,
   "metadata": {},
   "outputs": [],
   "source": [
    "ai_kwargs = {\n",
    "    \"max_percent_capacity\":1.0, # job must run to completion\n",
    "    \"max_power_output_rates\": [24,31,64],\n",
    "    \"minimum_usage_window_start_time\": \"00:00:00\",  # earliest session can start\n",
    "    \"maximum_usage_window_start_time\": \"23:59:00\",  # latest session can start\n",
    "}"
   ]
  },
  {
   "cell_type": "code",
   "execution_count": 12,
   "metadata": {},
   "outputs": [],
   "source": [
    "s_ai = SessionsGenerator(**ai_kwargs)"
   ]
  },
  {
   "cell_type": "code",
   "execution_count": 13,
   "metadata": {},
   "outputs": [
    {
     "name": "stderr",
     "output_type": "stream",
     "text": [
      "100%|██████████| 10/10 [00:00<00:00, 266.55it/s]\n"
     ]
    }
   ],
   "source": [
    "df_ai = s_ai.generate_synthetic_dataset(distinct_date_list=distinct_date_list, number_of_users=10)"
   ]
  },
  {
   "cell_type": "markdown",
   "metadata": {},
   "source": [
    "# Optimization"
   ]
  },
  {
   "cell_type": "code",
   "execution_count": 14,
   "metadata": {},
   "outputs": [],
   "source": [
    "import pandas as pd\n",
    "from watttime_optimizer.evaluator.evaluator import OptChargeEvaluator\n",
    "from watttime_optimizer.evaluator.evaluator import ImpactEvaluator"
   ]
  },
  {
   "cell_type": "markdown",
   "metadata": {},
   "source": [
    "### The WattTimeOptimizer class requires 4 things:\n",
    "\n",
    "- Watttime’s forecast of marginal emissions (MOER) - be ready to provide your username and password\n",
    "- device capacity and energy needs\n",
    "- region\n",
    "- window start\n",
    "- window end"
   ]
  },
  {
   "cell_type": "code",
   "execution_count": 16,
   "metadata": {},
   "outputs": [],
   "source": [
    "username = os.getenv(\"WATTTIME_USER\")\n",
    "password = os.getenv(\"WATTTIME_PASSWORD\")\n",
    "region = \"CAISO_NORTH\"\n",
    "oce = OptChargeEvaluator(username=username,password=password)\n",
    "\n",
    "# single instance\n",
    "df_ev_sample = s_ev.synthetic_user_data(distinct_date_list=[distinct_date_list[0]])"
   ]
  },
  {
   "cell_type": "code",
   "execution_count": 18,
   "metadata": {},
   "outputs": [],
   "source": [
    "input_dict = df_ev_sample[['usage_window_start',\n",
    "                    'usage_window_end',\n",
    "                    'time_needed',\n",
    "                    'usage_power_kw'\n",
    "                    ]].T.to_dict()\n",
    "\n",
    "value = input_dict[0]\n",
    "value.update({'region':region,'tz_convert':True, \"verbose\":False})"
   ]
  },
  {
   "cell_type": "code",
   "execution_count": 19,
   "metadata": {},
   "outputs": [
    {
     "data": {
      "text/plain": [
       "{'usage_window_start': Timestamp('2025-01-07 11:00:00'),\n",
       " 'usage_window_end': Timestamp('2025-01-07 18:15:00'),\n",
       " 'time_needed': 75.14382335865679,\n",
       " 'usage_power_kw': 33.5325,\n",
       " 'region': 'CAISO_NORTH',\n",
       " 'tz_convert': True,\n",
       " 'verbose': False}"
      ]
     },
     "execution_count": 19,
     "metadata": {},
     "output_type": "execute_result"
    }
   ],
   "source": [
    "value"
   ]
  },
  {
   "cell_type": "code",
   "execution_count": 20,
   "metadata": {},
   "outputs": [],
   "source": [
    "df = oce.get_schedule_and_cost_api(**value)\n",
    "r = ImpactEvaluator(username,password,df).get_all_emissions_values(region=region)"
   ]
  },
  {
   "cell_type": "code",
   "execution_count": 23,
   "metadata": {},
   "outputs": [
    {
     "data": {
      "text/plain": [
       "{'baseline': 24.462852599962222,\n",
       " 'forecast': 19.10658972072091,\n",
       " 'actual': 25.489088724775343}"
      ]
     },
     "execution_count": 23,
     "metadata": {},
     "output_type": "execute_result"
    }
   ],
   "source": [
    "r"
   ]
  },
  {
   "cell_type": "markdown",
   "metadata": {},
   "source": [
    "# Requery\n",
    "\n",
    "The intuition behind requerying is that more recent forecasts more accurately reflect what is likely to happen on the grid within the session window. An extension of this assumption is that the higher the update frequency, the greater the improvement in overall results. "
   ]
  },
  {
   "cell_type": "code",
   "execution_count": 105,
   "metadata": {},
   "outputs": [],
   "source": [
    "import importlib"
   ]
  },
  {
   "cell_type": "code",
   "execution_count": 106,
   "metadata": {},
   "outputs": [],
   "source": [
    "import watttime_optimizer.evaluator.evaluator as e"
   ]
  },
  {
   "cell_type": "code",
   "execution_count": 107,
   "metadata": {},
   "outputs": [
    {
     "data": {
      "text/plain": [
       "<module 'watttime_optimizer.evaluator.evaluator' from '/Users/jen/watttime-python-client/watttime_optimizer/evaluator/evaluator.py'>"
      ]
     },
     "execution_count": 107,
     "metadata": {},
     "output_type": "execute_result"
    }
   ],
   "source": [
    "importlib.reload(e)"
   ]
  },
  {
   "cell_type": "code",
   "execution_count": 25,
   "metadata": {},
   "outputs": [],
   "source": [
    "from watttime_optimizer.evaluator.evaluator import RecalculationOptChargeEvaluator"
   ]
  },
  {
   "cell_type": "code",
   "execution_count": 26,
   "metadata": {},
   "outputs": [],
   "source": [
    "roce = RecalculationOptChargeEvaluator(username,password)"
   ]
  },
  {
   "cell_type": "code",
   "execution_count": 27,
   "metadata": {},
   "outputs": [],
   "source": [
    "value.update({\"optimization_method\": \"simple\", \"interval\":15, \"charge_per_segment\":None})"
   ]
  },
  {
   "cell_type": "code",
   "execution_count": null,
   "metadata": {},
   "outputs": [
    {
     "name": "stdout",
     "output_type": "stream",
     "text": [
      "4.81 s ± 1.67 s per loop (mean ± std. dev. of 7 runs, 1 loop each)\n"
     ]
    }
   ],
   "source": [
    "%%timeit\n",
    "%%capture\n",
    "df_requery = roce.fit_recalculator(**value).get_combined_schedule()"
   ]
  },
  {
   "cell_type": "code",
   "execution_count": 99,
   "metadata": {},
   "outputs": [],
   "source": [
    "impact_evaluator = e.ImpactEvaluator(username,password,df_requery)"
   ]
  },
  {
   "cell_type": "code",
   "execution_count": 80,
   "metadata": {},
   "outputs": [
    {
     "data": {
      "image/png": "[encoded data removed]",
      "text/plain": [
       "<Figure size 640x480 with 1 Axes>"
      ]
     },
     "metadata": {},
     "output_type": "display_data"
    }
   ],
   "source": [
    "impact_evaluator.plot_predicated_moer()"
   ]
  },
  {
   "cell_type": "code",
   "execution_count": 81,
   "metadata": {},
   "outputs": [
    {
     "data": {
      "image/png": "[encoded data removed]",
      "text/plain": [
       "<Figure size 640x480 with 1 Axes>"
      ]
     },
     "metadata": {},
     "output_type": "display_data"
    }
   ],
   "source": [
    "impact_evaluator.plot_usage_schedule()"
   ]
  },
  {
   "cell_type": "code",
   "execution_count": 120,
   "metadata": {},
   "outputs": [
    {
     "data": {
      "text/html": [
       "<div>\n",
       "<style scoped>\n",
       "    .dataframe tbody tr th:only-of-type {\n",
       "        vertical-align: middle;\n",
       "    }\n",
       "\n",
       "    .dataframe tbody tr th {\n",
       "        vertical-align: top;\n",
       "    }\n",
       "\n",
       "    .dataframe thead th {\n",
       "        text-align: right;\n",
       "    }\n",
       "</style>\n",
       "<table border=\"1\" class=\"dataframe\">\n",
       "  <thead>\n",
       "    <tr style=\"text-align: right;\">\n",
       "      <th></th>\n",
       "      <th>emissions_co2_lb</th>\n",
       "      <th>baseline</th>\n",
       "      <th>actual</th>\n",
       "    </tr>\n",
       "    <tr>\n",
       "      <th>point_time</th>\n",
       "      <th></th>\n",
       "      <th></th>\n",
       "      <th></th>\n",
       "    </tr>\n",
       "  </thead>\n",
       "  <tbody>\n",
       "    <tr>\n",
       "      <th>2025-01-07 19:00:00+00:00</th>\n",
       "      <td>0.0</td>\n",
       "      <td>2.976009</td>\n",
       "      <td>0.0</td>\n",
       "    </tr>\n",
       "    <tr>\n",
       "      <th>2025-01-07 19:05:00+00:00</th>\n",
       "      <td>0.0</td>\n",
       "      <td>3.037486</td>\n",
       "      <td>0.0</td>\n",
       "    </tr>\n",
       "    <tr>\n",
       "      <th>2025-01-07 19:10:00+00:00</th>\n",
       "      <td>0.0</td>\n",
       "      <td>3.037486</td>\n",
       "      <td>0.0</td>\n",
       "    </tr>\n",
       "    <tr>\n",
       "      <th>2025-01-07 19:15:00+00:00</th>\n",
       "      <td>0.0</td>\n",
       "      <td>3.034691</td>\n",
       "      <td>0.0</td>\n",
       "    </tr>\n",
       "    <tr>\n",
       "      <th>2025-01-07 19:20:00+00:00</th>\n",
       "      <td>0.0</td>\n",
       "      <td>3.003953</td>\n",
       "      <td>0.0</td>\n",
       "    </tr>\n",
       "  </tbody>\n",
       "</table>\n",
       "</div>"
      ],
      "text/plain": [
       "                           emissions_co2_lb  baseline  actual\n",
       "point_time                                                   \n",
       "2025-01-07 19:00:00+00:00               0.0  2.976009     0.0\n",
       "2025-01-07 19:05:00+00:00               0.0  3.037486     0.0\n",
       "2025-01-07 19:10:00+00:00               0.0  3.037486     0.0\n",
       "2025-01-07 19:15:00+00:00               0.0  3.034691     0.0\n",
       "2025-01-07 19:20:00+00:00               0.0  3.003953     0.0"
      ]
     },
     "execution_count": 120,
     "metadata": {},
     "output_type": "execute_result"
    }
   ],
   "source": [
    "df.head()"
   ]
  },
  {
   "cell_type": "code",
   "execution_count": 122,
   "metadata": {},
   "outputs": [
    {
     "data": {
      "text/plain": [
       "<Axes: xlabel='point_time'>"
      ]
     },
     "execution_count": 122,
     "metadata": {},
     "output_type": "execute_result"
    },
    {
     "data": {
      "image/png": "[encoded data removed]",
      "text/plain": [
       "<Figure size 640x480 with 1 Axes>"
      ]
     },
     "metadata": {},
     "output_type": "display_data"
    }
   ],
   "source": [
    "df.cumsum().plot()"
   ]
  },
  {
   "cell_type": "code",
   "execution_count": 131,
   "metadata": {},
   "outputs": [],
   "source": [
    "act = impact_evaluator.get_historical_actual_data(region).set_index(\"point_time\")"
   ]
  },
  {
   "cell_type": "code",
   "execution_count": null,
   "metadata": {},
   "outputs": [
    {
     "data": {
      "text/plain": [
       "<Axes: xlabel='point_time'>"
      ]
     },
     "execution_count": 139,
     "metadata": {},
     "output_type": "execute_result"
    },
    {
     "data": {
      "image/png": "[encoded data removed]",
      "text/plain": [
       "<Figure size 640x480 with 1 Axes>"
      ]
     },
     "metadata": {},
     "output_type": "display_data"
    }
   ],
   "source": [
    "act.plot()"
   ]
  },
  {
   "cell_type": "code",
   "execution_count": 165,
   "metadata": {},
   "outputs": [],
   "source": [
    "fore = df_requery['pred_moer']"
   ]
  },
  {
   "cell_type": "code",
   "execution_count": 166,
   "metadata": {},
   "outputs": [
    {
     "name": "stderr",
     "output_type": "stream",
     "text": [
      "/var/folders/kf/cqbq1hkx74v5lt73jq2w60x40000gn/T/ipykernel_76843/3294987267.py:28: UserWarning: No artists with labels found to put in legend.  Note that artists whose label start with an underscore are ignored when legend() is called with no argument.\n",
      "  ax1.legend()\n"
     ]
    },
    {
     "data": {
      "image/png": "[encoded data removed]",
      "text/plain": [
       "<Figure size 640x480 with 2 Axes>"
      ]
     },
     "metadata": {},
     "output_type": "display_data"
    }
   ],
   "source": [
    "# Sample data\n",
    "x = df.index\n",
    "y0 = (df['actual'] > 0).astype(int).values\n",
    "y1 = (df['baseline'] > 0).astype(int).values\n",
    "y2 = fore.values\n",
    "\n",
    "# Create the main plot\n",
    "fig, ax1 = plt.subplots()\n",
    "\n",
    "# Plot the first data set\n",
    "ax1.plot(x, y1, 'b-', alpha=.2)\n",
    "ax1.plot(x,y0,'g-',alpha=.2)\n",
    "ax1.set_xlabel('Time')\n",
    "ax1.set_ylabel('Usage', color='blue')\n",
    "ax1.tick_params('y', colors='b')\n",
    "ax1.fill_between(x,y0,0, where=y0>0,color='green', alpha=.2)\n",
    "ax1.fill_between(x,y1,0, where=y1>0,color='blue', alpha=.2)\n",
    "\n",
    "# Create the second y-axis\n",
    "ax2 = ax1.twinx()\n",
    "\n",
    "# Plot the second data set\n",
    "ax2.plot(x, y2, 'r-')\n",
    "ax2.set_ylabel('MOER', color='r')\n",
    "ax2.tick_params('y', colors='r')\n",
    "\n",
    "# Display the plot\n",
    "ax1.legend()\n",
    "plt.show()"
   ]
  },
  {
   "cell_type": "code",
   "execution_count": 160,
   "metadata": {},
   "outputs": [
    {
     "name": "stderr",
     "output_type": "stream",
     "text": [
      "/var/folders/kf/cqbq1hkx74v5lt73jq2w60x40000gn/T/ipykernel_76843/1371636811.py:30: UserWarning: No artists with labels found to put in legend.  Note that artists whose label start with an underscore are ignored when legend() is called with no argument.\n",
      "  ax1.legend()\n"
     ]
    },
    {
     "data": {
      "image/png": "[encoded data removed]",
      "text/plain": [
       "<Figure size 640x480 with 2 Axes>"
      ]
     },
     "metadata": {},
     "output_type": "display_data"
    }
   ],
   "source": [
    "import matplotlib.pyplot as plt\n",
    "\n",
    "# Sample data\n",
    "x = df.index\n",
    "y0 = (df['actual'] > 0).astype(int).values\n",
    "y1 = (df['baseline'] > 0).astype(int).values\n",
    "y2 = act.value.values\n",
    "\n",
    "# Create the main plot\n",
    "fig, ax1 = plt.subplots()\n",
    "\n",
    "# Plot the first data set\n",
    "ax1.plot(x, y1, 'b-', alpha=.2)\n",
    "ax1.plot(x,y0,'g-',alpha=.2)\n",
    "ax1.set_xlabel('Time')\n",
    "ax1.set_ylabel('Usage', color='blue')\n",
    "ax1.tick_params('y', colors='b')\n",
    "ax1.fill_between(x,y0,0, where=y0>0,color='green', alpha=.2)\n",
    "ax1.fill_between(x,y1,0, where=y1>0,color='blue', alpha=.2)\n",
    "\n",
    "# Create the second y-axis\n",
    "ax2 = ax1.twinx()\n",
    "\n",
    "# Plot the second data set\n",
    "ax2.plot(x, y2, 'r-')\n",
    "ax2.set_ylabel('MOER', color='r')\n",
    "ax2.tick_params('y', colors='r')\n",
    "\n",
    "# Display the plot\n",
    "ax1.legend()\n",
    "plt.show()"
   ]
  },
  {
   "cell_type": "code",
   "execution_count": null,
   "metadata": {},
   "outputs": [
    {
     "data": {
      "text/plain": [
       "<Axes: xlabel='point_time'>"
      ]
     },
     "execution_count": 137,
     "metadata": {},
     "output_type": "execute_result"
    },
    {
     "data": {
      "image/png": "[encoded data removed]",
      "text/plain": [
       "<Figure size 640x480 with 1 Axes>"
      ]
     },
     "metadata": {},
     "output_type": "display_data"
    }
   ],
   "source": [
    "(df['baseline'] > 0).astype(int).plot(color=\"red\")"
   ]
  },
  {
   "cell_type": "code",
   "execution_count": 138,
   "metadata": {},
   "outputs": [
    {
     "data": {
      "text/plain": [
       "<Axes: xlabel='point_time'>"
      ]
     },
     "execution_count": 138,
     "metadata": {},
     "output_type": "execute_result"
    },
    {
     "data": {
      "image/png": "[encoded data removed]",
      "text/plain": [
       "<Figure size 640x480 with 1 Axes>"
      ]
     },
     "metadata": {},
     "output_type": "display_data"
    }
   ],
   "source": [
    "(df['actual'] > 0).astype(int).plot(color=\"purple\")"
   ]
  },
  {
   "cell_type": "markdown",
   "metadata": {},
   "source": [
    "# Iterate over multiple rows of data"
   ]
  },
  {
   "cell_type": "markdown",
   "metadata": {},
   "source": []
  },
  {
   "cell_type": "code",
   "execution_count": 39,
   "metadata": {},
   "outputs": [],
   "source": [
    "from watttime_optimizer.evaluator.analysis import analysis_loop"
   ]
  },
  {
   "cell_type": "code",
   "execution_count": 40,
   "metadata": {},
   "outputs": [
    {
     "name": "stderr",
     "output_type": "stream",
     "text": [
      "100%|██████████| 10/10 [00:00<00:00, 262.90it/s]\n"
     ]
    }
   ],
   "source": [
    "df_ev_samples = s_ev.generate_synthetic_dataset(distinct_date_list=distinct_date_list, number_of_users=10).sample(10)\n",
    "\n",
    "input_dict = df_ev_samples[['usage_window_start',\n",
    "                    'usage_window_end',\n",
    "                    'time_needed',\n",
    "                    'usage_power_kw'\n",
    "                    ]].T.to_dict()"
   ]
  },
  {
   "cell_type": "code",
   "execution_count": 41,
   "metadata": {},
   "outputs": [
    {
     "name": "stderr",
     "output_type": "stream",
     "text": [
      "100%|██████████| 10/10 [00:48<00:00,  4.87s/it]\n"
     ]
    }
   ],
   "source": [
    "results = analysis_loop(\n",
    "    region = \"CAISO_NORTH\",\n",
    "    input_dict = input_dict,\n",
    "    username=username,\n",
    "    password=password\n",
    ")"
   ]
  },
  {
   "cell_type": "code",
   "execution_count": 43,
   "metadata": {},
   "outputs": [],
   "source": [
    "results_loop = pd.DataFrame.from_dict(\n",
    "    results,\n",
    "    orient=\"index\"\n",
    "    )"
   ]
  },
  {
   "cell_type": "code",
   "execution_count": 49,
   "metadata": {},
   "outputs": [
    {
     "data": {
      "text/html": [
       "<div>\n",
       "<style scoped>\n",
       "    .dataframe tbody tr th:only-of-type {\n",
       "        vertical-align: middle;\n",
       "    }\n",
       "\n",
       "    .dataframe tbody tr th {\n",
       "        vertical-align: top;\n",
       "    }\n",
       "\n",
       "    .dataframe thead th {\n",
       "        text-align: right;\n",
       "    }\n",
       "</style>\n",
       "<table border=\"1\" class=\"dataframe\">\n",
       "  <thead>\n",
       "    <tr style=\"text-align: right;\">\n",
       "      <th></th>\n",
       "      <th>baseline</th>\n",
       "      <th>forecast</th>\n",
       "      <th>actual</th>\n",
       "      <th>m</th>\n",
       "      <th>b</th>\n",
       "      <th>stddev</th>\n",
       "    </tr>\n",
       "  </thead>\n",
       "  <tbody>\n",
       "    <tr>\n",
       "      <th>74</th>\n",
       "      <td>18.785587</td>\n",
       "      <td>17.989601</td>\n",
       "      <td>18.131132</td>\n",
       "      <td>-0.153361</td>\n",
       "      <td>958.348989</td>\n",
       "      <td>4.492026</td>\n",
       "    </tr>\n",
       "    <tr>\n",
       "      <th>87</th>\n",
       "      <td>7.239583</td>\n",
       "      <td>9.885909</td>\n",
       "      <td>7.149756</td>\n",
       "      <td>7.037200</td>\n",
       "      <td>-64.524592</td>\n",
       "      <td>306.813320</td>\n",
       "    </tr>\n",
       "    <tr>\n",
       "      <th>164</th>\n",
       "      <td>3.531891</td>\n",
       "      <td>4.478827</td>\n",
       "      <td>27.828149</td>\n",
       "      <td>-2.277382</td>\n",
       "      <td>350.811568</td>\n",
       "      <td>110.248641</td>\n",
       "    </tr>\n",
       "    <tr>\n",
       "      <th>36</th>\n",
       "      <td>51.959712</td>\n",
       "      <td>49.601364</td>\n",
       "      <td>51.277886</td>\n",
       "      <td>-0.850466</td>\n",
       "      <td>987.026339</td>\n",
       "      <td>16.902915</td>\n",
       "    </tr>\n",
       "    <tr>\n",
       "      <th>98</th>\n",
       "      <td>18.336274</td>\n",
       "      <td>11.711657</td>\n",
       "      <td>17.373445</td>\n",
       "      <td>6.201609</td>\n",
       "      <td>22.024319</td>\n",
       "      <td>214.884382</td>\n",
       "    </tr>\n",
       "    <tr>\n",
       "      <th>249</th>\n",
       "      <td>67.523255</td>\n",
       "      <td>64.249195</td>\n",
       "      <td>66.979611</td>\n",
       "      <td>-0.395036</td>\n",
       "      <td>978.947001</td>\n",
       "      <td>15.076282</td>\n",
       "    </tr>\n",
       "    <tr>\n",
       "      <th>81</th>\n",
       "      <td>55.829117</td>\n",
       "      <td>53.346816</td>\n",
       "      <td>53.685575</td>\n",
       "      <td>-0.475130</td>\n",
       "      <td>961.037489</td>\n",
       "      <td>10.587760</td>\n",
       "    </tr>\n",
       "    <tr>\n",
       "      <th>10</th>\n",
       "      <td>32.056373</td>\n",
       "      <td>30.638461</td>\n",
       "      <td>30.998585</td>\n",
       "      <td>-0.485953</td>\n",
       "      <td>964.179230</td>\n",
       "      <td>11.088391</td>\n",
       "    </tr>\n",
       "    <tr>\n",
       "      <th>27</th>\n",
       "      <td>6.885002</td>\n",
       "      <td>8.666217</td>\n",
       "      <td>7.030633</td>\n",
       "      <td>11.099877</td>\n",
       "      <td>-47.994144</td>\n",
       "      <td>399.276077</td>\n",
       "    </tr>\n",
       "    <tr>\n",
       "      <th>241</th>\n",
       "      <td>13.175851</td>\n",
       "      <td>12.180933</td>\n",
       "      <td>13.041130</td>\n",
       "      <td>-0.024084</td>\n",
       "      <td>947.862326</td>\n",
       "      <td>9.670335</td>\n",
       "    </tr>\n",
       "  </tbody>\n",
       "</table>\n",
       "</div>"
      ],
      "text/plain": [
       "      baseline   forecast     actual          m           b      stddev\n",
       "74   18.785587  17.989601  18.131132  -0.153361  958.348989    4.492026\n",
       "87    7.239583   9.885909   7.149756   7.037200  -64.524592  306.813320\n",
       "164   3.531891   4.478827  27.828149  -2.277382  350.811568  110.248641\n",
       "36   51.959712  49.601364  51.277886  -0.850466  987.026339   16.902915\n",
       "98   18.336274  11.711657  17.373445   6.201609   22.024319  214.884382\n",
       "249  67.523255  64.249195  66.979611  -0.395036  978.947001   15.076282\n",
       "81   55.829117  53.346816  53.685575  -0.475130  961.037489   10.587760\n",
       "10   32.056373  30.638461  30.998585  -0.485953  964.179230   11.088391\n",
       "27    6.885002   8.666217   7.030633  11.099877  -47.994144  399.276077\n",
       "241  13.175851  12.180933  13.041130  -0.024084  947.862326    9.670335"
      ]
     },
     "execution_count": 49,
     "metadata": {},
     "output_type": "execute_result"
    }
   ],
   "source": [
    "results_loop"
   ]
  },
  {
   "cell_type": "markdown",
   "metadata": {},
   "source": [
    "## Interate Over Multiple Rows of Data Using Requery"
   ]
  },
  {
   "cell_type": "code",
   "execution_count": 48,
   "metadata": {},
   "outputs": [],
   "source": [
    "#from watttime_optimizer.evaluator.analysis import analysis_loop_requery_contiguous"
   ]
  }
 ],
 "metadata": {
  "kernelspec": {
   "display_name": "watttime",
   "language": "python",
   "name": "python3"
  },
  "language_info": {
   "codemirror_mode": {
    "name": "ipython",
    "version": 3
   },
   "file_extension": ".py",
   "mimetype": "text/x-python",
   "name": "python",
   "nbconvert_exporter": "python",
   "pygments_lexer": "ipython3",
   "version": "3.9.21"
  }
 },
 "nbformat": 4,
 "nbformat_minor": 2
}
