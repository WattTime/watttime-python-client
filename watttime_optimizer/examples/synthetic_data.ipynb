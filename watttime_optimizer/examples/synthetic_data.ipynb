{wattwatttime_optimizer.izer.
 "cells": [
  {watttime_optimizer.
   "cwatttime_optimizer. "markdown",
   "mwatttime_optimizer.{},
   "source": [
    "# Synthetic Data for Testing"
   ]
  },
  {
   "cell_type": "code",
   "execution_count": 1,
   "metadata": {},
   "outputs": [],
   "source": [
    "import os\n",
    "os.chdir(path=os.path.dirname(os.path.dirname(os.path.abspath(os.curdir))))"
   ]
  },
  {
   "cell_type": "code",
   "execution_count": 2,
   "metadata": {},
   "outputs": [],
   "source": [
    "from optimizer.evaluator.sessions import SessionsGenerator"
   ]
  },
  {
   "cell_type": "markdown",
   "metadata": {},
   "source": [
    "## Example: At home EV charging\n",
    "\n",
    "- Covers a 5.5 - 8.5 hour variable length window\n",
    "- The vehicle has a BMW and has an average power draw of 42.5\n",
    "- Battery is usually typically 50% charged at plug in time.\n",
    "- Charging occurs during the workday"
   ]
  },
  {
   "cell_type": "code",
   "execution_count": 3,
   "metadata": {},
   "outputs": [],
   "source": [
    "ev_kwargs = {\n",
    "    \"max_power_output_rates\": [42.5],\n",
    "    \"max_percent_capacity\": 0.95,  # highest level of charge achieved by battery\n",
    "    \"power_output_efficiency\": 0.75,  # power loss. 1 = no power loss.\n",
    "    \"minimum_battery_starting_capacity\": 0.2,  # minimum starting percent charged\n",
    "    \"minimum_usage_window_start_time\": \"08:00:00\",  # session can start as early as 8am\n",
    "    \"maximum_usage_window_start_time\": \"22:00:00\",  # session can start as late as 9pm\n",
    "}"
   ]
  },
  {
   "cell_type": "code",
   "execution_count": 4,
   "metadata": {},
   "outputs": [],
   "source": [
    "s_ev = SessionsGenerator(**ev_kwargs)"
   ]
  },
  {
   "cell_type": "markdown",
   "metadata": {},
   "source": [
    "Now we can generate synthetic data for users and devices with the attributes set above. The synthetic data creates one example per day."
   ]
  },
  {
   "cell_type": "code",
   "execution_count": 5,
   "metadata": {},
   "outputs": [],
   "source": [
    "# the class has a helper function to generate a random list of unique dates\n",
    "distinct_date_list = s_ev.assign_random_dates(years=[2025])"
   ]
  },
  {
   "cell_type": "markdown",
   "metadata": {},
   "source": [
    "You can generate data from a single user."
   ]
  },
  {
   "cell_type": "code",
   "execution_count": 6,
   "metadata": {},
   "outputs": [
    {
     "data": {
      "text/html": [
       "<div>\n",
       "<style scoped>\n",
       "    .dataframe tbody tr th:only-of-type {\n",
       "        vertical-align: middle;\n",
       "    }\n",
       "\n",
       "    .dataframe tbody tr th {\n",
       "        vertical-align: top;\n",
       "    }\n",
       "\n",
       "    .dataframe thead th {\n",
       "        text-align: right;\n",
       "    }\n",
       "</style>\n",
       "<table border=\"1\" class=\"dataframe\">\n",
       "  <thead>\n",
       "    <tr style=\"text-align: right;\">\n",
       "      <th></th>\n",
       "      <th>0</th>\n",
       "    </tr>\n",
       "  </thead>\n",
       "  <tbody>\n",
       "    <tr>\n",
       "      <th>distinct_dates</th>\n",
       "      <td>2025-01-10</td>\n",
       "    </tr>\n",
       "    <tr>\n",
       "      <th>user_type</th>\n",
       "      <td>r27.37_tc28_avglc25631_sdlc6925</td>\n",
       "    </tr>\n",
       "    <tr>\n",
       "      <th>usage_window_start</th>\n",
       "      <td>2025-01-10 14:20:00</td>\n",
       "    </tr>\n",
       "    <tr>\n",
       "      <th>usage_window_end</th>\n",
       "      <td>2025-01-10 19:05:00</td>\n",
       "    </tr>\n",
       "    <tr>\n",
       "      <th>initial_charge</th>\n",
       "      <td>0.675072</td>\n",
       "    </tr>\n",
       "    <tr>\n",
       "      <th>time_needed</th>\n",
       "      <td>16.875384</td>\n",
       "    </tr>\n",
       "    <tr>\n",
       "      <th>expected_baseline_charge_complete_timestamp</th>\n",
       "      <td>2025-01-10 14:36:52.523068458</td>\n",
       "    </tr>\n",
       "    <tr>\n",
       "      <th>window_length_in_minutes</th>\n",
       "      <td>285.0</td>\n",
       "    </tr>\n",
       "    <tr>\n",
       "      <th>final_charge_time</th>\n",
       "      <td>2025-01-10 14:36:52.523068458</td>\n",
       "    </tr>\n",
       "    <tr>\n",
       "      <th>total_capacity</th>\n",
       "      <td>28</td>\n",
       "    </tr>\n",
       "    <tr>\n",
       "      <th>usage_power_kw</th>\n",
       "      <td>27.37</td>\n",
       "    </tr>\n",
       "    <tr>\n",
       "      <th>total_intervals_plugged_in</th>\n",
       "      <td>57.0</td>\n",
       "    </tr>\n",
       "    <tr>\n",
       "      <th>MWh_fraction</th>\n",
       "      <td>0.002281</td>\n",
       "    </tr>\n",
       "    <tr>\n",
       "      <th>early_session_stop</th>\n",
       "      <td>False</td>\n",
       "    </tr>\n",
       "  </tbody>\n",
       "</table>\n",
       "</div>"
      ],
      "text/plain": [
       "                                                                           0\n",
       "distinct_dates                                                    2025-01-10\n",
       "user_type                                    r27.37_tc28_avglc25631_sdlc6925\n",
       "usage_window_start                                       2025-01-10 14:20:00\n",
       "usage_window_end                                         2025-01-10 19:05:00\n",
       "initial_charge                                                      0.675072\n",
       "time_needed                                                        16.875384\n",
       "expected_baseline_charge_complete_timestamp    2025-01-10 14:36:52.523068458\n",
       "window_length_in_minutes                                               285.0\n",
       "final_charge_time                              2025-01-10 14:36:52.523068458\n",
       "total_capacity                                                            28\n",
       "usage_power_kw                                                         27.37\n",
       "total_intervals_plugged_in                                              57.0\n",
       "MWh_fraction                                                        0.002281\n",
       "early_session_stop                                                     False"
      ]
     },
     "execution_count": 6,
     "metadata": {},
     "output_type": "execute_result"
    }
   ],
   "source": [
    "s_ev.synthetic_user_data(distinct_date_list=[distinct_date_list[0]]).T"
   ]
  },
  {
   "cell_type": "markdown",
   "metadata": {},
   "source": [
    "Or for multiple users."
   ]
  },
  {
   "cell_type": "code",
   "execution_count": 7,
   "metadata": {},
   "outputs": [
    {
     "name": "stderr",
     "output_type": "stream",
     "text": [
      "100%|██████████| 10/10 [00:00<00:00, 318.49it/s]\n"
     ]
    },
    {
     "data": {
      "text/html": [
       "<div>\n",
       "<style scoped>\n",
       "    .dataframe tbody tr th:only-of-type {\n",
       "        vertical-align: middle;\n",
       "    }\n",
       "\n",
       "    .dataframe tbody tr th {\n",
       "        vertical-align: top;\n",
       "    }\n",
       "\n",
       "    .dataframe thead th {\n",
       "        text-align: right;\n",
       "    }\n",
       "</style>\n",
       "<table border=\"1\" class=\"dataframe\">\n",
       "  <thead>\n",
       "    <tr style=\"text-align: right;\">\n",
       "      <th></th>\n",
       "      <th>index</th>\n",
       "      <th>distinct_dates</th>\n",
       "      <th>user_type</th>\n",
       "      <th>usage_window_start</th>\n",
       "      <th>usage_window_end</th>\n",
       "      <th>initial_charge</th>\n",
       "      <th>time_needed</th>\n",
       "      <th>expected_baseline_charge_complete_timestamp</th>\n",
       "      <th>window_length_in_minutes</th>\n",
       "      <th>final_charge_time</th>\n",
       "      <th>total_capacity</th>\n",
       "      <th>usage_power_kw</th>\n",
       "      <th>total_intervals_plugged_in</th>\n",
       "      <th>MWh_fraction</th>\n",
       "      <th>early_session_stop</th>\n",
       "    </tr>\n",
       "  </thead>\n",
       "  <tbody>\n",
       "    <tr>\n",
       "      <th>0</th>\n",
       "      <td>0</td>\n",
       "      <td>2025-01-10</td>\n",
       "      <td>r29.1125_tc103_avglc20348_sdlc7622</td>\n",
       "      <td>2025-01-10 09:15:00</td>\n",
       "      <td>2025-01-10 18:40:00</td>\n",
       "      <td>0.539355</td>\n",
       "      <td>87.171649</td>\n",
       "      <td>2025-01-10 10:42:10.298935944</td>\n",
       "      <td>565.0</td>\n",
       "      <td>2025-01-10 10:42:10.298935944</td>\n",
       "      <td>103</td>\n",
       "      <td>29.1125</td>\n",
       "      <td>113.0</td>\n",
       "      <td>0.002426</td>\n",
       "      <td>False</td>\n",
       "    </tr>\n",
       "    <tr>\n",
       "      <th>1</th>\n",
       "      <td>0</td>\n",
       "      <td>2025-01-10</td>\n",
       "      <td>r21.42_tc91_avglc20436_sdlc6891</td>\n",
       "      <td>2025-01-10 19:00:00</td>\n",
       "      <td>2025-01-11 02:30:00</td>\n",
       "      <td>0.648065</td>\n",
       "      <td>76.963806</td>\n",
       "      <td>2025-01-10 20:16:57.828383058</td>\n",
       "      <td>450.0</td>\n",
       "      <td>2025-01-10 20:16:57.828383058</td>\n",
       "      <td>91</td>\n",
       "      <td>21.4200</td>\n",
       "      <td>90.0</td>\n",
       "      <td>0.001785</td>\n",
       "      <td>False</td>\n",
       "    </tr>\n",
       "    <tr>\n",
       "      <th>2</th>\n",
       "      <td>0</td>\n",
       "      <td>2025-01-10</td>\n",
       "      <td>r24.7775_tc112_avglc23284_sdlc6904</td>\n",
       "      <td>2025-01-10 17:25:00</td>\n",
       "      <td>2025-01-10 23:30:00</td>\n",
       "      <td>0.672858</td>\n",
       "      <td>75.164754</td>\n",
       "      <td>2025-01-10 18:40:09.885255132</td>\n",
       "      <td>365.0</td>\n",
       "      <td>2025-01-10 18:40:09.885255132</td>\n",
       "      <td>112</td>\n",
       "      <td>24.7775</td>\n",
       "      <td>73.0</td>\n",
       "      <td>0.002065</td>\n",
       "      <td>False</td>\n",
       "    </tr>\n",
       "    <tr>\n",
       "      <th>3</th>\n",
       "      <td>0</td>\n",
       "      <td>2025-01-10</td>\n",
       "      <td>r29.070000000000004_tc115_avglc23635_sdlc7379</td>\n",
       "      <td>2025-01-10 19:35:00</td>\n",
       "      <td>2025-01-11 01:55:00</td>\n",
       "      <td>0.303492</td>\n",
       "      <td>153.453952</td>\n",
       "      <td>2025-01-10 22:08:27.237103968</td>\n",
       "      <td>380.0</td>\n",
       "      <td>2025-01-10 22:08:27.237103968</td>\n",
       "      <td>115</td>\n",
       "      <td>29.0700</td>\n",
       "      <td>76.0</td>\n",
       "      <td>0.002423</td>\n",
       "      <td>False</td>\n",
       "    </tr>\n",
       "    <tr>\n",
       "      <th>4</th>\n",
       "      <td>0</td>\n",
       "      <td>2025-01-10</td>\n",
       "      <td>r21.93_tc22_avglc21043_sdlc6980</td>\n",
       "      <td>2025-01-10 18:05:00</td>\n",
       "      <td>2025-01-10 21:15:00</td>\n",
       "      <td>0.411656</td>\n",
       "      <td>32.403768</td>\n",
       "      <td>2025-01-10 18:37:24.226103616</td>\n",
       "      <td>190.0</td>\n",
       "      <td>2025-01-10 18:37:24.226103616</td>\n",
       "      <td>22</td>\n",
       "      <td>21.9300</td>\n",
       "      <td>38.0</td>\n",
       "      <td>0.001827</td>\n",
       "      <td>False</td>\n",
       "    </tr>\n",
       "    <tr>\n",
       "      <th>5</th>\n",
       "      <td>0</td>\n",
       "      <td>2025-01-10</td>\n",
       "      <td>r28.687500000000004_tc21_avglc22986_sdlc6943</td>\n",
       "      <td>2025-01-10 19:00:00</td>\n",
       "      <td>2025-01-11 00:35:00</td>\n",
       "      <td>0.298845</td>\n",
       "      <td>28.599761</td>\n",
       "      <td>2025-01-10 19:28:35.985664014</td>\n",
       "      <td>335.0</td>\n",
       "      <td>2025-01-10 19:28:35.985664014</td>\n",
       "      <td>21</td>\n",
       "      <td>28.6875</td>\n",
       "      <td>67.0</td>\n",
       "      <td>0.002391</td>\n",
       "      <td>False</td>\n",
       "    </tr>\n",
       "    <tr>\n",
       "      <th>6</th>\n",
       "      <td>0</td>\n",
       "      <td>2025-01-10</td>\n",
       "      <td>r32.215_tc109_avglc22829_sdlc7281</td>\n",
       "      <td>2025-01-10 21:40:00</td>\n",
       "      <td>2025-01-11 04:00:00</td>\n",
       "      <td>0.346887</td>\n",
       "      <td>122.438567</td>\n",
       "      <td>2025-01-10 23:42:26.314030590</td>\n",
       "      <td>380.0</td>\n",
       "      <td>2025-01-10 23:42:26.314030590</td>\n",
       "      <td>109</td>\n",
       "      <td>32.2150</td>\n",
       "      <td>76.0</td>\n",
       "      <td>0.002685</td>\n",
       "      <td>False</td>\n",
       "    </tr>\n",
       "    <tr>\n",
       "      <th>7</th>\n",
       "      <td>0</td>\n",
       "      <td>2025-01-10</td>\n",
       "      <td>r21.59_tc110_avglc26220_sdlc7421</td>\n",
       "      <td>2025-01-10 14:40:00</td>\n",
       "      <td>2025-01-10 21:30:00</td>\n",
       "      <td>0.725945</td>\n",
       "      <td>68.492855</td>\n",
       "      <td>2025-01-10 15:48:29.571296238</td>\n",
       "      <td>410.0</td>\n",
       "      <td>2025-01-10 15:48:29.571296238</td>\n",
       "      <td>110</td>\n",
       "      <td>21.5900</td>\n",
       "      <td>82.0</td>\n",
       "      <td>0.001799</td>\n",
       "      <td>False</td>\n",
       "    </tr>\n",
       "    <tr>\n",
       "      <th>8</th>\n",
       "      <td>0</td>\n",
       "      <td>2025-01-10</td>\n",
       "      <td>r33.9575_tc91_avglc23444_sdlc7908</td>\n",
       "      <td>2025-01-10 17:55:00</td>\n",
       "      <td>2025-01-11 01:00:00</td>\n",
       "      <td>0.777028</td>\n",
       "      <td>27.812101</td>\n",
       "      <td>2025-01-10 18:22:48.726031014</td>\n",
       "      <td>425.0</td>\n",
       "      <td>2025-01-10 18:22:48.726031014</td>\n",
       "      <td>91</td>\n",
       "      <td>33.9575</td>\n",
       "      <td>85.0</td>\n",
       "      <td>0.002830</td>\n",
       "      <td>False</td>\n",
       "    </tr>\n",
       "    <tr>\n",
       "      <th>9</th>\n",
       "      <td>0</td>\n",
       "      <td>2025-01-10</td>\n",
       "      <td>r35.7425_tc68_avglc20339_sdlc7710</td>\n",
       "      <td>2025-01-10 14:20:00</td>\n",
       "      <td>2025-01-10 21:45:00</td>\n",
       "      <td>0.736866</td>\n",
       "      <td>24.329243</td>\n",
       "      <td>2025-01-10 14:44:19.754600988</td>\n",
       "      <td>445.0</td>\n",
       "      <td>2025-01-10 14:44:19.754600988</td>\n",
       "      <td>68</td>\n",
       "      <td>35.7425</td>\n",
       "      <td>89.0</td>\n",
       "      <td>0.002979</td>\n",
       "      <td>False</td>\n",
       "    </tr>\n",
       "  </tbody>\n",
       "</table>\n",
       "</div>"
      ],
      "text/plain": [
       "   index distinct_dates                                      user_type  \\\n",
       "0      0     2025-01-10             r29.1125_tc103_avglc20348_sdlc7622   \n",
       "1      0     2025-01-10                r21.42_tc91_avglc20436_sdlc6891   \n",
       "2      0     2025-01-10             r24.7775_tc112_avglc23284_sdlc6904   \n",
       "3      0     2025-01-10  r29.070000000000004_tc115_avglc23635_sdlc7379   \n",
       "4      0     2025-01-10                r21.93_tc22_avglc21043_sdlc6980   \n",
       "5      0     2025-01-10   r28.687500000000004_tc21_avglc22986_sdlc6943   \n",
       "6      0     2025-01-10              r32.215_tc109_avglc22829_sdlc7281   \n",
       "7      0     2025-01-10               r21.59_tc110_avglc26220_sdlc7421   \n",
       "8      0     2025-01-10              r33.9575_tc91_avglc23444_sdlc7908   \n",
       "9      0     2025-01-10              r35.7425_tc68_avglc20339_sdlc7710   \n",
       "\n",
       "   usage_window_start    usage_window_end  initial_charge  time_needed  \\\n",
       "0 2025-01-10 09:15:00 2025-01-10 18:40:00        0.539355    87.171649   \n",
       "1 2025-01-10 19:00:00 2025-01-11 02:30:00        0.648065    76.963806   \n",
       "2 2025-01-10 17:25:00 2025-01-10 23:30:00        0.672858    75.164754   \n",
       "3 2025-01-10 19:35:00 2025-01-11 01:55:00        0.303492   153.453952   \n",
       "4 2025-01-10 18:05:00 2025-01-10 21:15:00        0.411656    32.403768   \n",
       "5 2025-01-10 19:00:00 2025-01-11 00:35:00        0.298845    28.599761   \n",
       "6 2025-01-10 21:40:00 2025-01-11 04:00:00        0.346887   122.438567   \n",
       "7 2025-01-10 14:40:00 2025-01-10 21:30:00        0.725945    68.492855   \n",
       "8 2025-01-10 17:55:00 2025-01-11 01:00:00        0.777028    27.812101   \n",
       "9 2025-01-10 14:20:00 2025-01-10 21:45:00        0.736866    24.329243   \n",
       "\n",
       "  expected_baseline_charge_complete_timestamp  window_length_in_minutes  \\\n",
       "0               2025-01-10 10:42:10.298935944                     565.0   \n",
       "1               2025-01-10 20:16:57.828383058                     450.0   \n",
       "2               2025-01-10 18:40:09.885255132                     365.0   \n",
       "3               2025-01-10 22:08:27.237103968                     380.0   \n",
       "4               2025-01-10 18:37:24.226103616                     190.0   \n",
       "5               2025-01-10 19:28:35.985664014                     335.0   \n",
       "6               2025-01-10 23:42:26.314030590                     380.0   \n",
       "7               2025-01-10 15:48:29.571296238                     410.0   \n",
       "8               2025-01-10 18:22:48.726031014                     425.0   \n",
       "9               2025-01-10 14:44:19.754600988                     445.0   \n",
       "\n",
       "              final_charge_time  total_capacity  usage_power_kw  \\\n",
       "0 2025-01-10 10:42:10.298935944             103         29.1125   \n",
       "1 2025-01-10 20:16:57.828383058              91         21.4200   \n",
       "2 2025-01-10 18:40:09.885255132             112         24.7775   \n",
       "3 2025-01-10 22:08:27.237103968             115         29.0700   \n",
       "4 2025-01-10 18:37:24.226103616              22         21.9300   \n",
       "5 2025-01-10 19:28:35.985664014              21         28.6875   \n",
       "6 2025-01-10 23:42:26.314030590             109         32.2150   \n",
       "7 2025-01-10 15:48:29.571296238             110         21.5900   \n",
       "8 2025-01-10 18:22:48.726031014              91         33.9575   \n",
       "9 2025-01-10 14:44:19.754600988              68         35.7425   \n",
       "\n",
       "   total_intervals_plugged_in  MWh_fraction  early_session_stop  \n",
       "0                       113.0      0.002426               False  \n",
       "1                        90.0      0.001785               False  \n",
       "2                        73.0      0.002065               False  \n",
       "3                        76.0      0.002423               False  \n",
       "4                        38.0      0.001827               False  \n",
       "5                        67.0      0.002391               False  \n",
       "6                        76.0      0.002685               False  \n",
       "7                        82.0      0.001799               False  \n",
       "8                        85.0      0.002830               False  \n",
       "9                        89.0      0.002979               False  "
      ]
     },
     "execution_count": 7,
     "metadata": {},
     "output_type": "execute_result"
    }
   ],
   "source": [
    "s_ev.generate_synthetic_dataset(distinct_date_list=[distinct_date_list[0]], number_of_users=10)"
   ]
  },
  {
   "cell_type": "markdown",
   "metadata": {},
   "source": [
    "## Example: AI Model Training\n",
    "- Model training can occur at any time of day\n",
    "- There are 3 server models that consume 240, 310, and 640 watt-hour on average\n",
    "- Early stopping is not an option"
   ]
  },
  {
   "cell_type": "code",
   "execution_count": 8,
   "metadata": {},
   "outputs": [],
   "source": [
    "ai_kwargs = {\n",
    "    \"max_percent_capacity\":1.0, # job must run to completion\n",
    "    \"max_power_output_rates\": [24,31,64], # assuming a bare metal usecase, k8s or vm rescale to vCPU\n",
    "    \"minimum_usage_window_start_time\": \"00:00:00\",  # earliest session can start\n",
    "    \"maximum_usage_window_start_time\": \"23:59:00\",  # latest session can start\n",
    "}"
   ]
  },
  {
   "cell_type": "code",
   "execution_count": 9,
   "metadata": {},
   "outputs": [],
   "source": [
    "s_ai = SessionsGenerator(**ai_kwargs)"
   ]
  },
  {
   "cell_type": "code",
   "execution_count": 10,
   "metadata": {},
   "outputs": [
    {
     "name": "stderr",
     "output_type": "stream",
     "text": [
      "100%|██████████| 10/10 [00:00<00:00, 334.45it/s]\n"
     ]
    }
   ],
   "source": [
    "df_ai = s_ai.generate_synthetic_dataset(distinct_date_list=distinct_date_list, number_of_users=10)"
   ]
  },
  {
   "cell_type": "markdown",
   "metadata": {},
   "source": [
    "# Optimization"
   ]
  },
  {
   "cell_type": "code",
   "execution_count": 34,
   "metadata": {},
   "outputs": [],
   "source": [
    "import os\n",
    "import pandas as pd\n",
    "from optimizer.evaluator.evaluator import OptChargeEvaluator\n",
    "from optimizer.evaluator.evaluator import ImpactEvaluator\n",
    "from optimizer.evaluator.evaluator import RecalculationOptChargeEvaluator"
   ]
  },
  {
   "cell_type": "code",
   "execution_count": 12,
   "metadata": {},
   "outputs": [],
   "source": [
    "username = os.getenv(\"WATTTIME_USER\")\n",
    "password = os.getenv(\"WATTTIME_PASSWORD\")\n",
    "region = \"CAISO_NORTH\"\n",
    "oce = OptChargeEvaluator(username=username,password=password)\n",
    "roce = RecalculationOptChargeEvaluator(username,password)\n",
    "\n",
    "# single instance\n",
    "df_ev_sample = s_ev.synthetic_user_data(distinct_date_list=[distinct_date_list[0]])\n",
    "df_ev_sample = df_ev_sample.rename({\"usage_time_required_in_minutes\":\"time_needed\"},axis=1)"
   ]
  },
  {
   "cell_type": "code",
   "execution_count": 13,
   "metadata": {},
   "outputs": [],
   "source": [
    "%%capture\n",
    "input_dict = df_ev_sample[['usage_window_start',\n",
    "                    'usage_window_end',\n",
    "                    'time_needed',\n",
    "                    'usage_power_kw'\n",
    "                    ]].T.to_dict()\n",
    "\n",
    "value = input_dict[0]\n",
    "value.update({'region':region,'tz_convert':True, \"verbose\":False})"
   ]
  },
  {
   "cell_type": "code",
   "execution_count": 14,
   "metadata": {},
   "outputs": [
    {
     "data": {
      "text/plain": [
       "{'usage_window_start': Timestamp('2025-01-10 15:25:00'),\n",
       " 'usage_window_end': Timestamp('2025-01-10 22:25:00'),\n",
       " 'time_needed': 15.131315076819533,\n",
       " 'usage_power_kw': 35.275,\n",
       " 'region': 'CAISO_NORTH',\n",
       " 'tz_convert': True,\n",
       " 'verbose': False}"
      ]
     },
     "execution_count": 14,
     "metadata": {},
     "output_type": "execute_result"
    }
   ],
   "source": [
    "value"
   ]
  },
  {
   "cell_type": "code",
   "execution_count": 15,
   "metadata": {},
   "outputs": [],
   "source": [
    "df = oce.get_schedule_and_cost_api(**value)\n",
    "r = ImpactEvaluator(username,password,df).get_all_emissions_values(region=region)"
   ]
  },
  {
   "cell_type": "code",
   "execution_count": 16,
   "metadata": {},
   "outputs": [
    {
     "data": {
      "text/plain": [
       "{'baseline': 5.38833458467993,\n",
       " 'forecast': 2.2544024516577843,\n",
       " 'actual': 5.38833458467993}"
      ]
     },
     "execution_count": 16,
     "metadata": {},
     "output_type": "execute_result"
    }
   ],
   "source": [
    "r"
   ]
  },
  {
   "cell_type": "markdown",
   "metadata": {},
   "source": [
    "# Requery"
   ]
  },
  {
   "cell_type": "code",
   "execution_count": 17,
   "metadata": {},
   "outputs": [],
   "source": [
    "value.update({\"optimization_method\": \"simple\", \"interval\":15, \"charge_per_interval\":None})"
   ]
  },
  {
   "cell_type": "code",
   "execution_count": 18,
   "metadata": {},
   "outputs": [
    {
     "data": {
      "text/plain": [
       "{'usage_window_start': Timestamp('2025-01-10 15:25:00'),\n",
       " 'usage_window_end': Timestamp('2025-01-10 22:25:00'),\n",
       " 'time_needed': 15.131315076819533,\n",
       " 'usage_power_kw': 35.275,\n",
       " 'region': 'CAISO_NORTH',\n",
       " 'tz_convert': True,\n",
       " 'verbose': False,\n",
       " 'optimization_method': 'simple',\n",
       " 'interval': 15,\n",
       " 'charge_per_interval': None}"
      ]
     },
     "execution_count": 18,
     "metadata": {},
     "output_type": "execute_result"
    }
   ],
   "source": [
    "value"
   ]
  },
  {
   "cell_type": "code",
   "execution_count": null,
   "metadata": {},
   "outputs": [
    {
     "name": "stdout",
     "output_type": "stream",
     "text": [
      "tz converting...\n"
     ]
    }
   ],
   "source": [
    "%%timeit\n",
    "df_requery = roce.fit_recalculator(**value)\n",
    "r_requery = ImpactEvaluator(username,password,df_requery).get_all_emissions_values(region=region)"
   ]
  },
  {
   "cell_type": "code",
   "execution_count": 25,
   "metadata": {},
   "outputs": [
    {
     "data": {
      "text/plain": [
       "{'baseline': 5.38833458467993,\n",
       " 'forecast': 2.2544024516577843,\n",
       " 'actual': 5.38833458467993}"
      ]
     },
     "execution_count": 25,
     "metadata": {},
     "output_type": "execute_result"
    }
   ],
   "source": [
    "r_requery"
   ]
  },
  {
   "cell_type": "markdown",
   "metadata": {},
   "source": [
    "# Iterate over multiple rows of data"
   ]
  },
  {
   "cell_type": "markdown",
   "metadata": {},
   "source": []
  },
  {
   "cell_type": "code",
   "execution_count": 26,
   "metadata": {},
   "outputs": [],
   "source": [
    "from optimizer.evaluator.analysis import analysis_loop, analysis_loop_requery, analysis_loop_requery_contiguous"
   ]
  },
  {
   "cell_type": "code",
   "execution_count": 32,
   "metadata": {},
   "outputs": [
    {
     "name": "stderr",
     "output_type": "stream",
     "text": [
      "100%|██████████| 10/10 [00:00<00:00, 285.20it/s]\n"
     ]
    }
   ],
   "source": [
    "df_ev_samples = s_ev.generate_synthetic_dataset(distinct_date_list=distinct_date_list, number_of_users=10).sample(10)\n",
    "\n",
    "input_dict = df_ev_samples[['usage_window_start',\n",
    "                    'usage_window_end',\n",
    "                    'time_needed',\n",
    "                    'usage_power_kw'\n",
    "                    ]].T.to_dict()"
   ]
  },
  {
   "cell_type": "code",
   "execution_count": 35,
   "metadata": {},
   "outputs": [
    {
     "name": "stderr",
     "output_type": "stream",
     "text": [
      "  0%|          | 0/10 [00:00<?, ?it/s]"
     ]
    }
   ],
   "source": [
    "results = analysis_loop(\n",
    "    region = \"CAISO_NORTH\",\n",
    "    input_dict = input_dict,\n",
    "    username=username,\n",
    "    password=password\n",
    ")"
   ]
  },
  {
   "cell_type": "code",
   "execution_count": 36,
   "metadata": {},
   "outputs": [
    {
     "data": {
      "text/html": [
       "<div>\n",
       "<style scoped>\n",
       "    .dataframe tbody tr th:only-of-type {\n",
       "        vertical-align: middle;\n",
       "    }\n",
       "\n",
       "    .dataframe tbody tr th {\n",
       "        vertical-align: top;\n",
       "    }\n",
       "\n",
       "    .dataframe thead th {\n",
       "        text-align: right;\n",
       "    }\n",
       "</style>\n",
       "<table border=\"1\" class=\"dataframe\">\n",
       "  <thead>\n",
       "    <tr style=\"text-align: right;\">\n",
       "      <th></th>\n",
       "      <th>baseline</th>\n",
       "      <th>forecast</th>\n",
       "      <th>actual</th>\n",
       "      <th>m</th>\n",
       "      <th>b</th>\n",
       "      <th>stddev</th>\n",
       "    </tr>\n",
       "  </thead>\n",
       "  <tbody>\n",
       "    <tr>\n",
       "      <th>190</th>\n",
       "      <td>0.512044</td>\n",
       "      <td>0.637870</td>\n",
       "      <td>0.512044</td>\n",
       "      <td>14.728153</td>\n",
       "      <td>-33.707037</td>\n",
       "      <td>362.355836</td>\n",
       "    </tr>\n",
       "    <tr>\n",
       "      <th>143</th>\n",
       "      <td>30.514304</td>\n",
       "      <td>29.142834</td>\n",
       "      <td>30.516092</td>\n",
       "      <td>2.399780</td>\n",
       "      <td>944.165714</td>\n",
       "      <td>13.217914</td>\n",
       "    </tr>\n",
       "    <tr>\n",
       "      <th>220</th>\n",
       "      <td>11.864413</td>\n",
       "      <td>10.847406</td>\n",
       "      <td>10.941964</td>\n",
       "      <td>-0.877926</td>\n",
       "      <td>987.697915</td>\n",
       "      <td>24.444685</td>\n",
       "    </tr>\n",
       "    <tr>\n",
       "      <th>223</th>\n",
       "      <td>2.950431</td>\n",
       "      <td>5.655465</td>\n",
       "      <td>2.748327</td>\n",
       "      <td>2.144935</td>\n",
       "      <td>243.187723</td>\n",
       "      <td>181.510740</td>\n",
       "    </tr>\n",
       "    <tr>\n",
       "      <th>50</th>\n",
       "      <td>4.086414</td>\n",
       "      <td>3.712371</td>\n",
       "      <td>3.758234</td>\n",
       "      <td>-0.934282</td>\n",
       "      <td>1010.356890</td>\n",
       "      <td>27.061581</td>\n",
       "    </tr>\n",
       "    <tr>\n",
       "      <th>333</th>\n",
       "      <td>12.415303</td>\n",
       "      <td>10.879924</td>\n",
       "      <td>11.971757</td>\n",
       "      <td>-1.006296</td>\n",
       "      <td>177.447957</td>\n",
       "      <td>22.169530</td>\n",
       "    </tr>\n",
       "    <tr>\n",
       "      <th>176</th>\n",
       "      <td>15.745897</td>\n",
       "      <td>14.960575</td>\n",
       "      <td>15.111659</td>\n",
       "      <td>-0.367786</td>\n",
       "      <td>988.718774</td>\n",
       "      <td>13.428916</td>\n",
       "    </tr>\n",
       "    <tr>\n",
       "      <th>28</th>\n",
       "      <td>11.896668</td>\n",
       "      <td>11.137360</td>\n",
       "      <td>11.772867</td>\n",
       "      <td>-0.855962</td>\n",
       "      <td>978.721012</td>\n",
       "      <td>23.713533</td>\n",
       "    </tr>\n",
       "    <tr>\n",
       "      <th>44</th>\n",
       "      <td>3.901864</td>\n",
       "      <td>3.654003</td>\n",
       "      <td>3.919042</td>\n",
       "      <td>0.341336</td>\n",
       "      <td>965.911572</td>\n",
       "      <td>15.653204</td>\n",
       "    </tr>\n",
       "    <tr>\n",
       "      <th>96</th>\n",
       "      <td>52.753606</td>\n",
       "      <td>29.878506</td>\n",
       "      <td>52.753606</td>\n",
       "      <td>6.135591</td>\n",
       "      <td>561.793558</td>\n",
       "      <td>233.229645</td>\n",
       "    </tr>\n",
       "  </tbody>\n",
       "</table>\n",
       "</div>"
      ],
      "text/plain": [
       "      baseline   forecast     actual          m            b      stddev\n",
       "190   0.512044   0.637870   0.512044  14.728153   -33.707037  362.355836\n",
       "143  30.514304  29.142834  30.516092   2.399780   944.165714   13.217914\n",
       "220  11.864413  10.847406  10.941964  -0.877926   987.697915   24.444685\n",
       "223   2.950431   5.655465   2.748327   2.144935   243.187723  181.510740\n",
       "50    4.086414   3.712371   3.758234  -0.934282  1010.356890   27.061581\n",
       "333  12.415303  10.879924  11.971757  -1.006296   177.447957   22.169530\n",
       "176  15.745897  14.960575  15.111659  -0.367786   988.718774   13.428916\n",
       "28   11.896668  11.137360  11.772867  -0.855962   978.721012   23.713533\n",
       "44    3.901864   3.654003   3.919042   0.341336   965.911572   15.653204\n",
       "96   52.753606  29.878506  52.753606   6.135591   561.793558  233.229645"
      ]
     },
     "execution_count": 36,
     "metadata": {},
     "output_type": "execute_result"
    }
   ],
   "source": [
    "pd.DataFrame.from_dict(\n",
    "    results,\n",
    "    orient=\"index\"\n",
    "    )"
   ]
  },
  {
   "cell_type": "code",
   "execution_count": 39,
   "metadata": {},
   "outputs": [],
   "source": [
    "#analysis_loop_requery(region=\"CAISO_NORTH\",interval = 15, input_dict=input_dict,username=username,password=password)\n",
    "#analysis_loop_requery_contiguous(region=\"CAISO_NORTH\",interval = 15, input_dict=input_dict,username=username,password=password)"
   ]
  }
 ],
 "metadata": {
  "kernelspec": {
   "display_name": "watttime",
   "language": "python",
   "name": "python3"
  },
  "language_info": {
   "codemirror_mode": {
    "name": "ipython",
    "version": 3
   },
   "file_extension": ".py",
   "mimetype": "text/x-python",
   "name": "python",
   "nbconvert_exporter": "python",
   "pygments_lexer": "ipython3",
   "version": "3.9.21"
  }
 },
 "nbformat": 4,
 "nbformat_minor": 2
}
