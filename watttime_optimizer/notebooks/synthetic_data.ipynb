{
 "cells": [
  {
   "cell_type": "markdown",
   "metadata": {},
   "source": [
    "# Generating Synthetic Data\n",
    "\n",
    "\n",
    "- To validate the base model’s performance, we tested it on synthetic user data, an incredibly useful approach when device-level data is not yet available or too sensitive to share during early-stage development. Working with synthetic data, we can replicate device scope 2 emissions avoidance potential with and without an automated marginal emissions reduction solution.\n",
    "\n",
    "- Ideally, the base solution’s short-term impact will be in shortening the product development lifecycle of custom software solutions designed to support AER features. To shape the base model, we worked with WattTime to isolate a common set of functional behaviors for potential low-carbon devices and translate these patterns and users’ behavior into mathematical functions that can be optimized. This first set is intended to serve as a base model for more complex solutions. \n",
    "\n",
    "- We anticipate that different customers will want to build on the base model in various ways, further enhancing the efficiency of the base model. When extending the base model, it’s important that the energy transmission and customer behaviors are knowable and systematic. For example, battery charging is relatively straightforward. We can represent user behavior as numerical variables, and the power consumption patterns of batteries are relatively simple. On the other hand, accurate smart thermostat energy transmission modeling requires data inputs on space-specific thermodynamics — the physical characteristics of the room — and contextual user preferences for heating and cooling based on how they occupy each space. Optimizing this use case is possible, but the solution is not necessarily generalizable to other industries, nor is the data readily available. Expanding to this use case should be possible for customers with intimate knowledge of smart thermostat devices, because the base model can interact with a broad range of inputs and supplemental models."
   ]
  },
  {
   "cell_type": "code",
   "execution_count": 1,
   "metadata": {},
   "outputs": [],
   "source": [
    "import os\n",
    "os.chdir(path=os.path.dirname(os.path.dirname(os.path.abspath(os.curdir))))"
   ]
  },
  {
   "cell_type": "code",
   "execution_count": 2,
   "metadata": {},
   "outputs": [],
   "source": [
    "from watttime_optimizer.evaluator.sessions import SessionsGenerator"
   ]
  },
  {
   "cell_type": "markdown",
   "metadata": {},
   "source": [
    "## Example: At home EV charging\n",
    "\n",
    "Ideally, the base solution’s short-term impact will be in shortening the product development lifecycle of custom software solutions designed to support AER features. To shape the base model, we worked with WattTime to isolate a common set of functional behaviors for potential low-carbon devices and translate these patterns and users’ behavior into mathematical functions that can be optimized. This first set is intended to serve as a base model for more complex solutions. \n",
    "\n",
    "\n",
    "### Functional Behavior + Device Characteristics\n",
    "- Covers a 5.5 - 8.5 hour variable length window\n",
    "- The vehicle has a BMW and has an average power draw of 42.5\n",
    "- Battery is usually typically 50% charged at plug in time.\n",
    "- Charging occurs during the workdayz"
   ]
  },
  {
   "cell_type": "code",
   "execution_count": 3,
   "metadata": {},
   "outputs": [],
   "source": [
    "ev_kwargs = {\n",
    "    \"max_power_output_rates\": [42.5],\n",
    "    \"max_percent_capacity\": 0.95,  # highest level of charge achieved by battery\n",
    "    \"power_output_efficiency\": 0.75,  # power loss. 1 = no power loss.\n",
    "    \"minimum_battery_starting_capacity\": 0.2,  # minimum starting percent charged\n",
    "    \"minimum_usage_window_start_time\": \"08:00:00\",  # session can start as early as 8am\n",
    "    \"maximum_usage_window_start_time\": \"22:00:00\",  # session can start as late as 9pm\n",
    "}"
   ]
  },
  {
   "cell_type": "code",
   "execution_count": 4,
   "metadata": {},
   "outputs": [],
   "source": [
    "s_ev = SessionsGenerator(**ev_kwargs)"
   ]
  },
  {
   "cell_type": "markdown",
   "metadata": {},
   "source": [
    "Now we can generate synthetic data for users and devices with the attributes set above."
   ]
  },
  {
   "cell_type": "code",
   "execution_count": 5,
   "metadata": {},
   "outputs": [],
   "source": [
    "# the class has a helper function to generate a random list of unique dates\n",
    "distinct_date_list = s_ev.assign_random_dates(years=[2025])"
   ]
  },
  {
   "cell_type": "markdown",
   "metadata": {},
   "source": [
    "You can generate data for a *single* user for each distinct date"
   ]
  },
  {
   "cell_type": "code",
   "execution_count": 6,
   "metadata": {},
   "outputs": [
    {
     "data": {
      "text/html": [
       "<div>\n",
       "<style scoped>\n",
       "    .dataframe tbody tr th:only-of-type {\n",
       "        vertical-align: middle;\n",
       "    }\n",
       "\n",
       "    .dataframe tbody tr th {\n",
       "        vertical-align: top;\n",
       "    }\n",
       "\n",
       "    .dataframe thead th {\n",
       "        text-align: right;\n",
       "    }\n",
       "</style>\n",
       "<table border=\"1\" class=\"dataframe\">\n",
       "  <thead>\n",
       "    <tr style=\"text-align: right;\">\n",
       "      <th></th>\n",
       "      <th>0</th>\n",
       "    </tr>\n",
       "  </thead>\n",
       "  <tbody>\n",
       "    <tr>\n",
       "      <th>distinct_dates</th>\n",
       "      <td>2025-01-06</td>\n",
       "    </tr>\n",
       "    <tr>\n",
       "      <th>user_type</th>\n",
       "      <td>r31.705_tc96_avglc24427_sdlc7826</td>\n",
       "    </tr>\n",
       "    <tr>\n",
       "      <th>usage_window_start</th>\n",
       "      <td>2025-01-06 08:05:00</td>\n",
       "    </tr>\n",
       "    <tr>\n",
       "      <th>usage_window_end</th>\n",
       "      <td>2025-01-06 15:25:00</td>\n",
       "    </tr>\n",
       "    <tr>\n",
       "      <th>initial_charge</th>\n",
       "      <td>0.240947</td>\n",
       "    </tr>\n",
       "    <tr>\n",
       "      <th>time_needed</th>\n",
       "      <td>128.817059</td>\n",
       "    </tr>\n",
       "    <tr>\n",
       "      <th>expected_baseline_charge_complete_timestamp</th>\n",
       "      <td>2025-01-06 10:13:49.023569754</td>\n",
       "    </tr>\n",
       "    <tr>\n",
       "      <th>window_length_in_minutes</th>\n",
       "      <td>440.0</td>\n",
       "    </tr>\n",
       "    <tr>\n",
       "      <th>final_charge_time</th>\n",
       "      <td>2025-01-06 10:13:49.023569754</td>\n",
       "    </tr>\n",
       "    <tr>\n",
       "      <th>total_capacity</th>\n",
       "      <td>96</td>\n",
       "    </tr>\n",
       "    <tr>\n",
       "      <th>usage_power_kw</th>\n",
       "      <td>31.705</td>\n",
       "    </tr>\n",
       "    <tr>\n",
       "      <th>total_intervals_plugged_in</th>\n",
       "      <td>88.0</td>\n",
       "    </tr>\n",
       "    <tr>\n",
       "      <th>MWh_fraction</th>\n",
       "      <td>0.002642</td>\n",
       "    </tr>\n",
       "    <tr>\n",
       "      <th>early_session_stop</th>\n",
       "      <td>False</td>\n",
       "    </tr>\n",
       "  </tbody>\n",
       "</table>\n",
       "</div>"
      ],
      "text/plain": [
       "                                                                            0\n",
       "distinct_dates                                                     2025-01-06\n",
       "user_type                                    r31.705_tc96_avglc24427_sdlc7826\n",
       "usage_window_start                                        2025-01-06 08:05:00\n",
       "usage_window_end                                          2025-01-06 15:25:00\n",
       "initial_charge                                                       0.240947\n",
       "time_needed                                                        128.817059\n",
       "expected_baseline_charge_complete_timestamp     2025-01-06 10:13:49.023569754\n",
       "window_length_in_minutes                                                440.0\n",
       "final_charge_time                               2025-01-06 10:13:49.023569754\n",
       "total_capacity                                                             96\n",
       "usage_power_kw                                                         31.705\n",
       "total_intervals_plugged_in                                               88.0\n",
       "MWh_fraction                                                         0.002642\n",
       "early_session_stop                                                      False"
      ]
     },
     "execution_count": 6,
     "metadata": {},
     "output_type": "execute_result"
    }
   ],
   "source": [
    "s_ev.synthetic_user_data(distinct_date_list=[distinct_date_list[0]]).T"
   ]
  },
  {
   "cell_type": "markdown",
   "metadata": {},
   "source": [
    "Or for *multiple* users."
   ]
  },
  {
   "cell_type": "code",
   "execution_count": 7,
   "metadata": {},
   "outputs": [
    {
     "name": "stderr",
     "output_type": "stream",
     "text": [
      "100%|██████████| 10/10 [00:00<00:00, 362.00it/s]\n"
     ]
    },
    {
     "data": {
      "text/html": [
       "<div>\n",
       "<style scoped>\n",
       "    .dataframe tbody tr th:only-of-type {\n",
       "        vertical-align: middle;\n",
       "    }\n",
       "\n",
       "    .dataframe tbody tr th {\n",
       "        vertical-align: top;\n",
       "    }\n",
       "\n",
       "    .dataframe thead th {\n",
       "        text-align: right;\n",
       "    }\n",
       "</style>\n",
       "<table border=\"1\" class=\"dataframe\">\n",
       "  <thead>\n",
       "    <tr style=\"text-align: right;\">\n",
       "      <th></th>\n",
       "      <th>index</th>\n",
       "      <th>distinct_dates</th>\n",
       "      <th>user_type</th>\n",
       "      <th>usage_window_start</th>\n",
       "      <th>usage_window_end</th>\n",
       "      <th>initial_charge</th>\n",
       "      <th>time_needed</th>\n",
       "      <th>expected_baseline_charge_complete_timestamp</th>\n",
       "      <th>window_length_in_minutes</th>\n",
       "      <th>final_charge_time</th>\n",
       "      <th>total_capacity</th>\n",
       "      <th>usage_power_kw</th>\n",
       "      <th>total_intervals_plugged_in</th>\n",
       "      <th>MWh_fraction</th>\n",
       "      <th>early_session_stop</th>\n",
       "    </tr>\n",
       "  </thead>\n",
       "  <tbody>\n",
       "    <tr>\n",
       "      <th>0</th>\n",
       "      <td>0</td>\n",
       "      <td>2025-01-06</td>\n",
       "      <td>r37.485_tc36_avglc21190_sdlc7497</td>\n",
       "      <td>2025-01-06 15:20:00</td>\n",
       "      <td>2025-01-06 21:15:00</td>\n",
       "      <td>0.560470</td>\n",
       "      <td>22.445910</td>\n",
       "      <td>2025-01-06 15:42:26.754583860</td>\n",
       "      <td>355.0</td>\n",
       "      <td>2025-01-06 15:42:26.754583860</td>\n",
       "      <td>36</td>\n",
       "      <td>37.4850</td>\n",
       "      <td>71.0</td>\n",
       "      <td>0.003124</td>\n",
       "      <td>False</td>\n",
       "    </tr>\n",
       "    <tr>\n",
       "      <th>1</th>\n",
       "      <td>0</td>\n",
       "      <td>2025-01-06</td>\n",
       "      <td>r24.395_tc66_avglc29664_sdlc7500</td>\n",
       "      <td>2025-01-06 15:05:00</td>\n",
       "      <td>2025-01-06 20:35:00</td>\n",
       "      <td>0.254400</td>\n",
       "      <td>112.915656</td>\n",
       "      <td>2025-01-06 16:57:54.939375156</td>\n",
       "      <td>330.0</td>\n",
       "      <td>2025-01-06 16:57:54.939375156</td>\n",
       "      <td>66</td>\n",
       "      <td>24.3950</td>\n",
       "      <td>66.0</td>\n",
       "      <td>0.002033</td>\n",
       "      <td>False</td>\n",
       "    </tr>\n",
       "    <tr>\n",
       "      <th>2</th>\n",
       "      <td>0</td>\n",
       "      <td>2025-01-06</td>\n",
       "      <td>r31.2375_tc48_avglc29915_sdlc7856</td>\n",
       "      <td>2025-01-06 15:15:00</td>\n",
       "      <td>2025-01-06 20:40:00</td>\n",
       "      <td>0.792696</td>\n",
       "      <td>14.502964</td>\n",
       "      <td>2025-01-06 15:29:30.177834714</td>\n",
       "      <td>325.0</td>\n",
       "      <td>2025-01-06 15:29:30.177834714</td>\n",
       "      <td>48</td>\n",
       "      <td>31.2375</td>\n",
       "      <td>65.0</td>\n",
       "      <td>0.002603</td>\n",
       "      <td>False</td>\n",
       "    </tr>\n",
       "    <tr>\n",
       "      <th>3</th>\n",
       "      <td>0</td>\n",
       "      <td>2025-01-06</td>\n",
       "      <td>r21.59_tc59_avglc22555_sdlc6810</td>\n",
       "      <td>2025-01-06 14:15:00</td>\n",
       "      <td>2025-01-06 21:20:00</td>\n",
       "      <td>0.458768</td>\n",
       "      <td>80.544776</td>\n",
       "      <td>2025-01-06 15:35:32.686536599</td>\n",
       "      <td>425.0</td>\n",
       "      <td>2025-01-06 15:35:32.686536599</td>\n",
       "      <td>59</td>\n",
       "      <td>21.5900</td>\n",
       "      <td>85.0</td>\n",
       "      <td>0.001799</td>\n",
       "      <td>False</td>\n",
       "    </tr>\n",
       "    <tr>\n",
       "      <th>4</th>\n",
       "      <td>0</td>\n",
       "      <td>2025-01-06</td>\n",
       "      <td>r31.11_tc73_avglc28939_sdlc7280</td>\n",
       "      <td>2025-01-06 19:30:00</td>\n",
       "      <td>2025-01-07 03:45:00</td>\n",
       "      <td>0.364781</td>\n",
       "      <td>82.393455</td>\n",
       "      <td>2025-01-06 20:52:23.607288558</td>\n",
       "      <td>495.0</td>\n",
       "      <td>2025-01-06 20:52:23.607288558</td>\n",
       "      <td>73</td>\n",
       "      <td>31.1100</td>\n",
       "      <td>99.0</td>\n",
       "      <td>0.002592</td>\n",
       "      <td>False</td>\n",
       "    </tr>\n",
       "    <tr>\n",
       "      <th>5</th>\n",
       "      <td>0</td>\n",
       "      <td>2025-01-06</td>\n",
       "      <td>r36.1675_tc112_avglc25191_sdlc7512</td>\n",
       "      <td>2025-01-06 19:00:00</td>\n",
       "      <td>2025-01-07 00:50:00</td>\n",
       "      <td>0.477643</td>\n",
       "      <td>87.764912</td>\n",
       "      <td>2025-01-06 20:27:45.894708936</td>\n",
       "      <td>350.0</td>\n",
       "      <td>2025-01-06 20:27:45.894708936</td>\n",
       "      <td>112</td>\n",
       "      <td>36.1675</td>\n",
       "      <td>70.0</td>\n",
       "      <td>0.003014</td>\n",
       "      <td>False</td>\n",
       "    </tr>\n",
       "    <tr>\n",
       "      <th>6</th>\n",
       "      <td>0</td>\n",
       "      <td>2025-01-06</td>\n",
       "      <td>r21.505_tc110_avglc21940_sdlc7984</td>\n",
       "      <td>2025-01-06 16:40:00</td>\n",
       "      <td>2025-01-06 20:10:00</td>\n",
       "      <td>0.537149</td>\n",
       "      <td>126.706265</td>\n",
       "      <td>2025-01-06 18:46:42.375878448</td>\n",
       "      <td>210.0</td>\n",
       "      <td>2025-01-06 18:46:42.375878448</td>\n",
       "      <td>110</td>\n",
       "      <td>21.5050</td>\n",
       "      <td>42.0</td>\n",
       "      <td>0.001792</td>\n",
       "      <td>False</td>\n",
       "    </tr>\n",
       "    <tr>\n",
       "      <th>7</th>\n",
       "      <td>0</td>\n",
       "      <td>2025-01-06</td>\n",
       "      <td>r34.7225_tc77_avglc27971_sdlc7471</td>\n",
       "      <td>2025-01-06 17:45:00</td>\n",
       "      <td>2025-01-07 02:40:00</td>\n",
       "      <td>0.668874</td>\n",
       "      <td>37.405217</td>\n",
       "      <td>2025-01-06 18:22:24.312999384</td>\n",
       "      <td>535.0</td>\n",
       "      <td>2025-01-06 18:22:24.312999384</td>\n",
       "      <td>77</td>\n",
       "      <td>34.7225</td>\n",
       "      <td>107.0</td>\n",
       "      <td>0.002894</td>\n",
       "      <td>False</td>\n",
       "    </tr>\n",
       "    <tr>\n",
       "      <th>8</th>\n",
       "      <td>0</td>\n",
       "      <td>2025-01-06</td>\n",
       "      <td>r22.4825_tc123_avglc20191_sdlc7069</td>\n",
       "      <td>2025-01-06 15:10:00</td>\n",
       "      <td>2025-01-06 18:25:00</td>\n",
       "      <td>0.781772</td>\n",
       "      <td>55.221685</td>\n",
       "      <td>2025-01-06 16:05:13.301113242</td>\n",
       "      <td>195.0</td>\n",
       "      <td>2025-01-06 16:05:13.301113242</td>\n",
       "      <td>123</td>\n",
       "      <td>22.4825</td>\n",
       "      <td>39.0</td>\n",
       "      <td>0.001874</td>\n",
       "      <td>False</td>\n",
       "    </tr>\n",
       "    <tr>\n",
       "      <th>9</th>\n",
       "      <td>0</td>\n",
       "      <td>2025-01-06</td>\n",
       "      <td>r25.1175_tc98_avglc27486_sdlc7270</td>\n",
       "      <td>2025-01-06 12:35:00</td>\n",
       "      <td>2025-01-06 18:05:00</td>\n",
       "      <td>0.451814</td>\n",
       "      <td>116.625231</td>\n",
       "      <td>2025-01-06 14:31:37.513875246</td>\n",
       "      <td>330.0</td>\n",
       "      <td>2025-01-06 14:31:37.513875246</td>\n",
       "      <td>98</td>\n",
       "      <td>25.1175</td>\n",
       "      <td>66.0</td>\n",
       "      <td>0.002093</td>\n",
       "      <td>False</td>\n",
       "    </tr>\n",
       "  </tbody>\n",
       "</table>\n",
       "</div>"
      ],
      "text/plain": [
       "   index distinct_dates                           user_type  \\\n",
       "0      0     2025-01-06    r37.485_tc36_avglc21190_sdlc7497   \n",
       "1      0     2025-01-06    r24.395_tc66_avglc29664_sdlc7500   \n",
       "2      0     2025-01-06   r31.2375_tc48_avglc29915_sdlc7856   \n",
       "3      0     2025-01-06     r21.59_tc59_avglc22555_sdlc6810   \n",
       "4      0     2025-01-06     r31.11_tc73_avglc28939_sdlc7280   \n",
       "5      0     2025-01-06  r36.1675_tc112_avglc25191_sdlc7512   \n",
       "6      0     2025-01-06   r21.505_tc110_avglc21940_sdlc7984   \n",
       "7      0     2025-01-06   r34.7225_tc77_avglc27971_sdlc7471   \n",
       "8      0     2025-01-06  r22.4825_tc123_avglc20191_sdlc7069   \n",
       "9      0     2025-01-06   r25.1175_tc98_avglc27486_sdlc7270   \n",
       "\n",
       "   usage_window_start    usage_window_end  initial_charge  time_needed  \\\n",
       "0 2025-01-06 15:20:00 2025-01-06 21:15:00        0.560470    22.445910   \n",
       "1 2025-01-06 15:05:00 2025-01-06 20:35:00        0.254400   112.915656   \n",
       "2 2025-01-06 15:15:00 2025-01-06 20:40:00        0.792696    14.502964   \n",
       "3 2025-01-06 14:15:00 2025-01-06 21:20:00        0.458768    80.544776   \n",
       "4 2025-01-06 19:30:00 2025-01-07 03:45:00        0.364781    82.393455   \n",
       "5 2025-01-06 19:00:00 2025-01-07 00:50:00        0.477643    87.764912   \n",
       "6 2025-01-06 16:40:00 2025-01-06 20:10:00        0.537149   126.706265   \n",
       "7 2025-01-06 17:45:00 2025-01-07 02:40:00        0.668874    37.405217   \n",
       "8 2025-01-06 15:10:00 2025-01-06 18:25:00        0.781772    55.221685   \n",
       "9 2025-01-06 12:35:00 2025-01-06 18:05:00        0.451814   116.625231   \n",
       "\n",
       "  expected_baseline_charge_complete_timestamp  window_length_in_minutes  \\\n",
       "0               2025-01-06 15:42:26.754583860                     355.0   \n",
       "1               2025-01-06 16:57:54.939375156                     330.0   \n",
       "2               2025-01-06 15:29:30.177834714                     325.0   \n",
       "3               2025-01-06 15:35:32.686536599                     425.0   \n",
       "4               2025-01-06 20:52:23.607288558                     495.0   \n",
       "5               2025-01-06 20:27:45.894708936                     350.0   \n",
       "6               2025-01-06 18:46:42.375878448                     210.0   \n",
       "7               2025-01-06 18:22:24.312999384                     535.0   \n",
       "8               2025-01-06 16:05:13.301113242                     195.0   \n",
       "9               2025-01-06 14:31:37.513875246                     330.0   \n",
       "\n",
       "              final_charge_time  total_capacity  usage_power_kw  \\\n",
       "0 2025-01-06 15:42:26.754583860              36         37.4850   \n",
       "1 2025-01-06 16:57:54.939375156              66         24.3950   \n",
       "2 2025-01-06 15:29:30.177834714              48         31.2375   \n",
       "3 2025-01-06 15:35:32.686536599              59         21.5900   \n",
       "4 2025-01-06 20:52:23.607288558              73         31.1100   \n",
       "5 2025-01-06 20:27:45.894708936             112         36.1675   \n",
       "6 2025-01-06 18:46:42.375878448             110         21.5050   \n",
       "7 2025-01-06 18:22:24.312999384              77         34.7225   \n",
       "8 2025-01-06 16:05:13.301113242             123         22.4825   \n",
       "9 2025-01-06 14:31:37.513875246              98         25.1175   \n",
       "\n",
       "   total_intervals_plugged_in  MWh_fraction  early_session_stop  \n",
       "0                        71.0      0.003124               False  \n",
       "1                        66.0      0.002033               False  \n",
       "2                        65.0      0.002603               False  \n",
       "3                        85.0      0.001799               False  \n",
       "4                        99.0      0.002592               False  \n",
       "5                        70.0      0.003014               False  \n",
       "6                        42.0      0.001792               False  \n",
       "7                       107.0      0.002894               False  \n",
       "8                        39.0      0.001874               False  \n",
       "9                        66.0      0.002093               False  "
      ]
     },
     "execution_count": 7,
     "metadata": {},
     "output_type": "execute_result"
    }
   ],
   "source": [
    "s_ev.generate_synthetic_dataset(distinct_date_list=[distinct_date_list[0]], number_of_users=10)"
   ]
  },
  {
   "cell_type": "markdown",
   "metadata": {},
   "source": [
    "## Example: AI Model Training\n",
    "\n",
    "\n",
    "### Functional Behavior\n",
    "- Worloads can run at any time of day\n",
    "- Our 3 server models consume 24, 31, and 64 kWh on average\n"
   ]
  },
  {
   "cell_type": "code",
   "execution_count": 8,
   "metadata": {},
   "outputs": [],
   "source": [
    "ai_kwargs = {\n",
    "    \"max_percent_capacity\":1.0, # job must run to completion\n",
    "    \"max_power_output_rates\": [24,31,64],\n",
    "    \"minimum_usage_window_start_time\": \"00:00:00\",  # earliest session can start\n",
    "    \"maximum_usage_window_start_time\": \"23:59:00\",  # latest session can start\n",
    "}"
   ]
  },
  {
   "cell_type": "code",
   "execution_count": 9,
   "metadata": {},
   "outputs": [],
   "source": [
    "s_ai = SessionsGenerator(**ai_kwargs)"
   ]
  },
  {
   "cell_type": "code",
   "execution_count": 10,
   "metadata": {},
   "outputs": [
    {
     "name": "stderr",
     "output_type": "stream",
     "text": [
      "100%|██████████| 10/10 [00:00<00:00, 254.05it/s]\n"
     ]
    }
   ],
   "source": [
    "df_ai = s_ai.generate_synthetic_dataset(distinct_date_list=distinct_date_list, number_of_users=10)"
   ]
  },
  {
   "cell_type": "markdown",
   "metadata": {},
   "source": [
    "# Optimization"
   ]
  },
  {
   "cell_type": "code",
   "execution_count": 11,
   "metadata": {},
   "outputs": [],
   "source": [
    "import pandas as pd\n",
    "from watttime_optimizer.evaluator.evaluator import OptChargeEvaluator\n",
    "from watttime_optimizer.evaluator.evaluator import ImpactEvaluator"
   ]
  },
  {
   "cell_type": "markdown",
   "metadata": {},
   "source": [
    "### The WattTimeOptimizer class requires 4 things:\n",
    "\n",
    "- Watttime’s forecast of marginal emissions (MOER) - be ready to provide your username and password\n",
    "- device capacity and energy needs\n",
    "- region\n",
    "- window start\n",
    "- window end"
   ]
  },
  {
   "cell_type": "code",
   "execution_count": 12,
   "metadata": {},
   "outputs": [],
   "source": [
    "username = os.getenv(\"WATTTIME_USER\")\n",
    "password = os.getenv(\"WATTTIME_PASSWORD\")\n",
    "region = \"PJM_CHICAGO\"\n",
    "oce = OptChargeEvaluator(username=username,password=password)\n",
    "\n",
    "# single instance\n",
    "df_ev_sample = s_ev.synthetic_user_data(distinct_date_list=[distinct_date_list[0]])"
   ]
  },
  {
   "cell_type": "code",
   "execution_count": 13,
   "metadata": {},
   "outputs": [],
   "source": [
    "input_dict = df_ev_sample[['usage_window_start',\n",
    "                    'usage_window_end',\n",
    "                    'time_needed',\n",
    "                    'usage_power_kw'\n",
    "                    ]].T.to_dict()\n",
    "\n",
    "value = input_dict[0]\n",
    "value.update({'region':region,'tz_convert':True, \"verbose\":False})"
   ]
  },
  {
   "cell_type": "code",
   "execution_count": 14,
   "metadata": {},
   "outputs": [],
   "source": [
    "df = oce.get_schedule_and_cost_api(**value)\n",
    "rr = ImpactEvaluator(username,password,df).get_all_emissions_values(region=region)"
   ]
  },
  {
   "cell_type": "code",
   "execution_count": 15,
   "metadata": {},
   "outputs": [
    {
     "data": {
      "text/plain": [
       "<Axes: xlabel='point_time'>"
      ]
     },
     "execution_count": 15,
     "metadata": {},
     "output_type": "execute_result"
    },
    {
     "data": {
      "image/png": "[encoded data removed]",
      "text/plain": [
       "<Figure size 640x480 with 1 Axes>"
      ]
     },
     "metadata": {},
     "output_type": "display_data"
    }
   ],
   "source": [
    "rr.cumsum().plot()"
   ]
  },
  {
   "cell_type": "code",
   "execution_count": 16,
   "metadata": {},
   "outputs": [
    {
     "data": {
      "text/plain": [
       "forecast    23.746337\n",
       "baseline    28.790176\n",
       "actual      27.768217\n",
       "dtype: float64"
      ]
     },
     "execution_count": 16,
     "metadata": {},
     "output_type": "execute_result"
    }
   ],
   "source": [
    "rr.sum()"
   ]
  },
  {
   "cell_type": "code",
   "execution_count": 17,
   "metadata": {},
   "outputs": [
    {
     "data": {
      "text/plain": [
       "pred_moer           69246.700000\n",
       "usage                  40.232381\n",
       "emissions_co2_lb       23.746337\n",
       "energy_usage_mwh        0.022456\n",
       "dtype: float64"
      ]
     },
     "execution_count": 17,
     "metadata": {},
     "output_type": "execute_result"
    }
   ],
   "source": [
    "df.sum()"
   ]
  },
  {
   "cell_type": "markdown",
   "metadata": {},
   "source": [
    "# Requery\n",
    "\n",
    "The intuition behind requerying is that more recent forecasts more accurately reflect what is likely to happen on the grid within the session window. An extension of this assumption is that the higher the update frequency, the greater the improvement in overall results. "
   ]
  },
  {
   "cell_type": "code",
   "execution_count": 18,
   "metadata": {},
   "outputs": [],
   "source": [
    "from watttime_optimizer.evaluator.evaluator import RecalculationOptChargeEvaluator"
   ]
  },
  {
   "cell_type": "code",
   "execution_count": 19,
   "metadata": {},
   "outputs": [],
   "source": [
    "roce = RecalculationOptChargeEvaluator(username,password)"
   ]
  },
  {
   "cell_type": "code",
   "execution_count": 20,
   "metadata": {},
   "outputs": [],
   "source": [
    "value.update({\"optimization_method\": \"simple\", \"interval\":15, \"charge_per_segment\":None})"
   ]
  },
  {
   "cell_type": "code",
   "execution_count": 57,
   "metadata": {},
   "outputs": [
    {
     "name": "stdout",
     "output_type": "stream",
     "text": [
      "3.2 s ± 249 ms per loop (mean ± std. dev. of 7 runs, 1 loop each)\n"
     ]
    }
   ],
   "source": [
    "%%timeit\n",
    "%%capture\n",
    "df_requery = roce.fit_recalculator(**value).get_combined_schedule()"
   ]
  },
  {
   "cell_type": "code",
   "execution_count": 55,
   "metadata": {},
   "outputs": [
    {
     "data": {
      "text/plain": [
       "pred_moer           69246.700000\n",
       "usage                  40.232381\n",
       "emissions_co2_lb       23.746337\n",
       "energy_usage_mwh        0.022456\n",
       "dtype: float64"
      ]
     },
     "execution_count": 55,
     "metadata": {},
     "output_type": "execute_result"
    }
   ],
   "source": [
    "df_requery.sum()"
   ]
  },
  {
   "cell_type": "markdown",
   "metadata": {},
   "source": [
    "# Vizualizing Results"
   ]
  },
  {
   "cell_type": "code",
   "execution_count": 23,
   "metadata": {},
   "outputs": [],
   "source": [
    "impact_evaluator = ImpactEvaluator(username=username,password=password,obj=df)"
   ]
  },
  {
   "cell_type": "code",
   "execution_count": 24,
   "metadata": {},
   "outputs": [
    {
     "data": {
      "image/png": "[encoded data removed]",
      "text/plain": [
       "<Figure size 640x480 with 1 Axes>"
      ]
     },
     "metadata": {},
     "output_type": "display_data"
    }
   ],
   "source": [
    "impact_evaluator.plot_predicated_moer()"
   ]
  },
  {
   "cell_type": "code",
   "execution_count": 25,
   "metadata": {},
   "outputs": [
    {
     "data": {
      "image/png": "[encoded data removed]",
      "text/plain": [
       "<Figure size 640x480 with 1 Axes>"
      ]
     },
     "metadata": {},
     "output_type": "display_data"
    }
   ],
   "source": [
    "impact_evaluator.plot_usage_schedule()"
   ]
  },
  {
   "cell_type": "code",
   "execution_count": 26,
   "metadata": {},
   "outputs": [
    {
     "data": {
      "image/png": "[encoded data removed]",
      "text/plain": [
       "<Figure size 640x480 with 2 Axes>"
      ]
     },
     "metadata": {},
     "output_type": "display_data"
    }
   ],
   "source": [
    "impact_evaluator.plot_impact(region=region)"
   ]
  },
  {
   "cell_type": "code",
   "execution_count": 27,
   "metadata": {},
   "outputs": [
    {
     "data": {
      "text/plain": [
       "{'baseline': 28.790176168781315,\n",
       " 'forecast': 23.746336877295622,\n",
       " 'actual': 27.76821658845608}"
      ]
     },
     "execution_count": 27,
     "metadata": {},
     "output_type": "execute_result"
    }
   ],
   "source": [
    "impact_evaluator.get_all_emissions_metrics(region=region)"
   ]
  },
  {
   "cell_type": "markdown",
   "metadata": {},
   "source": [
    "# Iterate over multiple rows of data"
   ]
  },
  {
   "cell_type": "markdown",
   "metadata": {},
   "source": []
  },
  {
   "cell_type": "code",
   "execution_count": 28,
   "metadata": {},
   "outputs": [],
   "source": [
    "from watttime_optimizer.evaluator.analysis import analysis_loop"
   ]
  },
  {
   "cell_type": "code",
   "execution_count": 29,
   "metadata": {},
   "outputs": [
    {
     "name": "stderr",
     "output_type": "stream",
     "text": [
      "100%|██████████| 10/10 [00:00<00:00, 250.34it/s]\n"
     ]
    }
   ],
   "source": [
    "df_ev_samples = s_ev.generate_synthetic_dataset(distinct_date_list=distinct_date_list, number_of_users=10).sample(10)\n",
    "\n",
    "input_dict = df_ev_samples[['usage_window_start',\n",
    "                    'usage_window_end',\n",
    "                    'time_needed',\n",
    "                    'usage_power_kw'\n",
    "                    ]].T.to_dict()"
   ]
  },
  {
   "cell_type": "code",
   "execution_count": null,
   "metadata": {},
   "outputs": [
    {
     "name": "stderr",
     "output_type": "stream",
     "text": [
      "100%|██████████| 10/10 [00:46<00:00,  4.61s/it]\n"
     ]
    }
   ],
   "source": [
    "results = analysis_loop(\n",
    "    region = \"PJM_CHICAGO\",\n",
    "    input_dict = input_dict,\n",
    "    username=username,\n",
    "    password=password\n",
    ")"
   ]
  },
  {
   "cell_type": "code",
   "execution_count": 43,
   "metadata": {},
   "outputs": [],
   "source": [
    "results_loop = pd.DataFrame.from_dict(\n",
    "    results,\n",
    "    orient=\"index\"\n",
    "    )"
   ]
  },
  {
   "cell_type": "code",
   "execution_count": 44,
   "metadata": {},
   "outputs": [
    {
     "data": {
      "text/html": [
       "<div>\n",
       "<style scoped>\n",
       "    .dataframe tbody tr th:only-of-type {\n",
       "        vertical-align: middle;\n",
       "    }\n",
       "\n",
       "    .dataframe tbody tr th {\n",
       "        vertical-align: top;\n",
       "    }\n",
       "\n",
       "    .dataframe thead th {\n",
       "        text-align: right;\n",
       "    }\n",
       "</style>\n",
       "<table border=\"1\" class=\"dataframe\">\n",
       "  <thead>\n",
       "    <tr style=\"text-align: right;\">\n",
       "      <th></th>\n",
       "      <th>baseline</th>\n",
       "      <th>forecast</th>\n",
       "      <th>actual</th>\n",
       "      <th>m</th>\n",
       "      <th>b</th>\n",
       "      <th>stddev</th>\n",
       "    </tr>\n",
       "  </thead>\n",
       "  <tbody>\n",
       "    <tr>\n",
       "      <th>206</th>\n",
       "      <td>58.348206</td>\n",
       "      <td>53.230751</td>\n",
       "      <td>57.992089</td>\n",
       "      <td>-0.437283</td>\n",
       "      <td>1205.631153</td>\n",
       "      <td>39.517623</td>\n",
       "    </tr>\n",
       "    <tr>\n",
       "      <th>150</th>\n",
       "      <td>39.535921</td>\n",
       "      <td>34.673365</td>\n",
       "      <td>23.957900</td>\n",
       "      <td>-0.282270</td>\n",
       "      <td>1277.608472</td>\n",
       "      <td>39.243250</td>\n",
       "    </tr>\n",
       "    <tr>\n",
       "      <th>402</th>\n",
       "      <td>29.665086</td>\n",
       "      <td>27.094104</td>\n",
       "      <td>28.205287</td>\n",
       "      <td>-1.435413</td>\n",
       "      <td>1297.372166</td>\n",
       "      <td>60.017398</td>\n",
       "    </tr>\n",
       "    <tr>\n",
       "      <th>32</th>\n",
       "      <td>72.886764</td>\n",
       "      <td>67.043648</td>\n",
       "      <td>69.771339</td>\n",
       "      <td>-1.685922</td>\n",
       "      <td>1317.630174</td>\n",
       "      <td>38.919117</td>\n",
       "    </tr>\n",
       "    <tr>\n",
       "      <th>352</th>\n",
       "      <td>80.737040</td>\n",
       "      <td>75.255415</td>\n",
       "      <td>78.758532</td>\n",
       "      <td>-2.584060</td>\n",
       "      <td>1243.209227</td>\n",
       "      <td>52.862252</td>\n",
       "    </tr>\n",
       "    <tr>\n",
       "      <th>346</th>\n",
       "      <td>53.573319</td>\n",
       "      <td>59.499675</td>\n",
       "      <td>54.732385</td>\n",
       "      <td>-3.177793</td>\n",
       "      <td>1242.096700</td>\n",
       "      <td>57.854216</td>\n",
       "    </tr>\n",
       "    <tr>\n",
       "      <th>190</th>\n",
       "      <td>30.808724</td>\n",
       "      <td>29.158111</td>\n",
       "      <td>30.766333</td>\n",
       "      <td>1.766764</td>\n",
       "      <td>1184.095610</td>\n",
       "      <td>23.066726</td>\n",
       "    </tr>\n",
       "    <tr>\n",
       "      <th>264</th>\n",
       "      <td>45.534757</td>\n",
       "      <td>43.981368</td>\n",
       "      <td>43.919363</td>\n",
       "      <td>-1.800958</td>\n",
       "      <td>1293.985017</td>\n",
       "      <td>24.848608</td>\n",
       "    </tr>\n",
       "    <tr>\n",
       "      <th>126</th>\n",
       "      <td>62.038800</td>\n",
       "      <td>61.667864</td>\n",
       "      <td>62.027587</td>\n",
       "      <td>1.403101</td>\n",
       "      <td>1211.696516</td>\n",
       "      <td>28.923347</td>\n",
       "    </tr>\n",
       "    <tr>\n",
       "      <th>388</th>\n",
       "      <td>40.607747</td>\n",
       "      <td>36.920779</td>\n",
       "      <td>31.638415</td>\n",
       "      <td>-1.327871</td>\n",
       "      <td>1156.652934</td>\n",
       "      <td>32.086905</td>\n",
       "    </tr>\n",
       "  </tbody>\n",
       "</table>\n",
       "</div>"
      ],
      "text/plain": [
       "      baseline   forecast     actual         m            b     stddev\n",
       "206  58.348206  53.230751  57.992089 -0.437283  1205.631153  39.517623\n",
       "150  39.535921  34.673365  23.957900 -0.282270  1277.608472  39.243250\n",
       "402  29.665086  27.094104  28.205287 -1.435413  1297.372166  60.017398\n",
       "32   72.886764  67.043648  69.771339 -1.685922  1317.630174  38.919117\n",
       "352  80.737040  75.255415  78.758532 -2.584060  1243.209227  52.862252\n",
       "346  53.573319  59.499675  54.732385 -3.177793  1242.096700  57.854216\n",
       "190  30.808724  29.158111  30.766333  1.766764  1184.095610  23.066726\n",
       "264  45.534757  43.981368  43.919363 -1.800958  1293.985017  24.848608\n",
       "126  62.038800  61.667864  62.027587  1.403101  1211.696516  28.923347\n",
       "388  40.607747  36.920779  31.638415 -1.327871  1156.652934  32.086905"
      ]
     },
     "execution_count": 44,
     "metadata": {},
     "output_type": "execute_result"
    }
   ],
   "source": [
    "results_loop"
   ]
  },
  {
   "cell_type": "markdown",
   "metadata": {},
   "source": [
    "## Requery"
   ]
  },
  {
   "cell_type": "code",
   "execution_count": null,
   "metadata": {},
   "outputs": [],
   "source": [
    "from watttime_optimizer.evaluator.analysis import analysis_loop_requery"
   ]
  },
  {
   "cell_type": "code",
   "execution_count": 51,
   "metadata": {},
   "outputs": [],
   "source": [
    "interval = 15\n",
    "region = \"PJM_CHICAGO\""
   ]
  },
  {
   "cell_type": "code",
   "execution_count": null,
   "metadata": {},
   "outputs": [
    {
     "name": "stderr",
     "output_type": "stream",
     "text": [
      "  0%|          | 0/10 [00:00<?, ?it/s]"
     ]
    },
    {
     "name": "stdout",
     "output_type": "stream",
     "text": [
      "tz converting...\n"
     ]
    },
    {
     "name": "stderr",
     "output_type": "stream",
     "text": [
      " 10%|█         | 1/10 [00:04<00:39,  4.34s/it]"
     ]
    },
    {
     "name": "stdout",
     "output_type": "stream",
     "text": [
      "tz converting...\n"
     ]
    },
    {
     "name": "stderr",
     "output_type": "stream",
     "text": [
      " 20%|██        | 2/10 [00:09<00:39,  4.99s/it]"
     ]
    },
    {
     "name": "stdout",
     "output_type": "stream",
     "text": [
      "tz converting...\n"
     ]
    },
    {
     "name": "stderr",
     "output_type": "stream",
     "text": [
      " 30%|███       | 3/10 [00:19<00:49,  7.04s/it]"
     ]
    },
    {
     "name": "stdout",
     "output_type": "stream",
     "text": [
      "tz converting...\n"
     ]
    },
    {
     "name": "stderr",
     "output_type": "stream",
     "text": [
      " 40%|████      | 4/10 [00:23<00:36,  6.08s/it]"
     ]
    },
    {
     "name": "stdout",
     "output_type": "stream",
     "text": [
      "tz converting...\n"
     ]
    },
    {
     "name": "stderr",
     "output_type": "stream",
     "text": [
      " 50%|█████     | 5/10 [00:27<00:26,  5.36s/it]"
     ]
    },
    {
     "name": "stdout",
     "output_type": "stream",
     "text": [
      "tz converting...\n"
     ]
    },
    {
     "name": "stderr",
     "output_type": "stream",
     "text": [
      " 60%|██████    | 6/10 [00:32<00:20,  5.16s/it]"
     ]
    },
    {
     "name": "stdout",
     "output_type": "stream",
     "text": [
      "tz converting...\n"
     ]
    },
    {
     "name": "stderr",
     "output_type": "stream",
     "text": [
      " 70%|███████   | 7/10 [00:37<00:14,  4.94s/it]"
     ]
    },
    {
     "name": "stdout",
     "output_type": "stream",
     "text": [
      "tz converting...\n"
     ]
    },
    {
     "name": "stderr",
     "output_type": "stream",
     "text": [
      " 80%|████████  | 8/10 [00:40<00:09,  4.53s/it]"
     ]
    },
    {
     "name": "stdout",
     "output_type": "stream",
     "text": [
      "tz converting...\n"
     ]
    },
    {
     "name": "stderr",
     "output_type": "stream",
     "text": [
      " 90%|█████████ | 9/10 [00:45<00:04,  4.53s/it]"
     ]
    },
    {
     "name": "stdout",
     "output_type": "stream",
     "text": [
      "tz converting...\n"
     ]
    },
    {
     "name": "stderr",
     "output_type": "stream",
     "text": [
      "100%|██████████| 10/10 [00:49<00:00,  4.97s/it]\n"
     ]
    }
   ],
   "source": [
    "%%capture\n",
    "results_requery = analysis_loop_requery(region=region, interval=interval, input_dict=input_dict, username=username, password=password)"
   ]
  },
  {
   "cell_type": "markdown",
   "metadata": {},
   "source": [
    "# Requery Contiguous"
   ]
  },
  {
   "cell_type": "code",
   "execution_count": 59,
   "metadata": {},
   "outputs": [],
   "source": [
    "#aa.analysis_loop_requery_contiguous(region=region, input_dict=input_dict,interval=interval, username=username, password=password)"
   ]
  },
  {
   "cell_type": "code",
   "execution_count": null,
   "metadata": {},
   "outputs": [],
   "source": [
    "from watttime_optimizer.evaluator.evaluator import RecalculationOptChargeEvaluator"
   ]
  }
 ],
 "metadata": {
  "kernelspec": {
   "display_name": "watttime",
   "language": "python",
   "name": "python3"
  },
  "language_info": {
   "codemirror_mode": {
    "name": "ipython",
    "version": 3
   },
   "file_extension": ".py",
   "mimetype": "text/x-python",
   "name": "python",
   "nbconvert_exporter": "python",
   "pygments_lexer": "ipython3",
   "version": "3.9.21"
  }
 },
 "nbformat": 4,
 "nbformat_minor": 2
}
