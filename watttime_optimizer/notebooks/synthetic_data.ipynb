{
 "cells": [
  {
   "cell_type": "markdown",
   "metadata": {},
   "source": [
    "# Testing the Optimizer with Synthetic Data\n",
    "\n",
    "\n",
    "- To validate the base model’s performance, we tested it on synthetic user data, an incredibly useful approach when device-level data is not yet available or too sensitive to share.\n",
    "- Working with synthetic data, we can replicate device scope 2 emissions avoidance potential with and without an automated marginal emissions reduction solution."
   ]
  },
  {
   "cell_type": "code",
   "execution_count": 1,
   "metadata": {},
   "outputs": [],
   "source": [
    "import os\n",
    "os.chdir(path=os.path.dirname(os.path.dirname(os.path.abspath(os.curdir))))"
   ]
  },
  {
   "cell_type": "code",
   "execution_count": 2,
   "metadata": {},
   "outputs": [],
   "source": [
    "from watttime_optimizer.evaluator.sessions import SessionsGenerator"
   ]
  },
  {
   "cell_type": "markdown",
   "metadata": {},
   "source": [
    "## Example: At home EV charging\n",
    "\n",
    "Ideally, the base solution’s short-term impact will be in shortening the product development lifecycle of custom software solutions designed to support AER features. To shape the base model, we worked with WattTime to isolate a common set of functional behaviors for potential low-carbon devices and translate these patterns and users’ behavior into mathematical functions that can be optimized. This first set is intended to serve as a base model for more complex solutions. \n",
    "\n",
    "\n",
    "### Functional Behavior + Device Characteristics\n",
    "- Covers a 5.5 - 8.5 hour variable length window\n",
    "- The vehicle has a BMW and has an average power draw of 42.5\n",
    "- Battery is usually typically 50% charged at plug in time.\n",
    "- Charging occurs during the workdayz"
   ]
  },
  {
   "cell_type": "code",
   "execution_count": 3,
   "metadata": {},
   "outputs": [],
   "source": [
    "ev_kwargs = {\n",
    "    \"max_power_output_rates\": [42.5],\n",
    "    \"max_percent_capacity\": 0.95,  # highest level of charge achieved by battery\n",
    "    \"power_output_efficiency\": 0.75,  # power loss. 1 = no power loss.\n",
    "    \"minimum_battery_starting_capacity\": 0.2,  # minimum starting percent charged\n",
    "    \"minimum_usage_window_start_time\": \"08:00:00\",  # session can start as early as 8am\n",
    "    \"maximum_usage_window_start_time\": \"22:00:00\",  # session can start as late as 9pm\n",
    "}"
   ]
  },
  {
   "cell_type": "code",
   "execution_count": 4,
   "metadata": {},
   "outputs": [],
   "source": [
    "s_ev = SessionsGenerator(**ev_kwargs)"
   ]
  },
  {
   "cell_type": "markdown",
   "metadata": {},
   "source": [
    "Now we can generate synthetic data for users and devices with the attributes set above."
   ]
  },
  {
   "cell_type": "code",
   "execution_count": 5,
   "metadata": {},
   "outputs": [],
   "source": [
    "# the class has a helper function to generate a random list of unique dates\n",
    "distinct_date_list = s_ev.assign_random_dates(years=[2025])"
   ]
  },
  {
   "cell_type": "markdown",
   "metadata": {},
   "source": [
    "You can generate data for a *single* user for each distinct date"
   ]
  },
  {
   "cell_type": "code",
   "execution_count": 6,
   "metadata": {},
   "outputs": [
    {
     "data": {
      "text/html": [
       "<div>\n",
       "<style scoped>\n",
       "    .dataframe tbody tr th:only-of-type {\n",
       "        vertical-align: middle;\n",
       "    }\n",
       "\n",
       "    .dataframe tbody tr th {\n",
       "        vertical-align: top;\n",
       "    }\n",
       "\n",
       "    .dataframe thead th {\n",
       "        text-align: right;\n",
       "    }\n",
       "</style>\n",
       "<table border=\"1\" class=\"dataframe\">\n",
       "  <thead>\n",
       "    <tr style=\"text-align: right;\">\n",
       "      <th></th>\n",
       "      <th>0</th>\n",
       "    </tr>\n",
       "  </thead>\n",
       "  <tbody>\n",
       "    <tr>\n",
       "      <th>distinct_dates</th>\n",
       "      <td>2025-01-10</td>\n",
       "    </tr>\n",
       "    <tr>\n",
       "      <th>user_type</th>\n",
       "      <td>r21.4625_tc91_avglc27109_sdlc7283</td>\n",
       "    </tr>\n",
       "    <tr>\n",
       "      <th>usage_window_start</th>\n",
       "      <td>2025-01-10 21:40:00</td>\n",
       "    </tr>\n",
       "    <tr>\n",
       "      <th>usage_window_end</th>\n",
       "      <td>2025-01-11 07:10:00</td>\n",
       "    </tr>\n",
       "    <tr>\n",
       "      <th>initial_charge</th>\n",
       "      <td>0.55324</td>\n",
       "    </tr>\n",
       "    <tr>\n",
       "      <th>time_needed</th>\n",
       "      <td>100</td>\n",
       "    </tr>\n",
       "    <tr>\n",
       "      <th>expected_baseline_charge_complete_timestamp</th>\n",
       "      <td>2025-01-10 23:20:00</td>\n",
       "    </tr>\n",
       "    <tr>\n",
       "      <th>window_length_in_minutes</th>\n",
       "      <td>570.0</td>\n",
       "    </tr>\n",
       "    <tr>\n",
       "      <th>final_charge_time</th>\n",
       "      <td>2025-01-10 23:20:00</td>\n",
       "    </tr>\n",
       "    <tr>\n",
       "      <th>total_capacity</th>\n",
       "      <td>91</td>\n",
       "    </tr>\n",
       "    <tr>\n",
       "      <th>usage_power_kw</th>\n",
       "      <td>21.4625</td>\n",
       "    </tr>\n",
       "    <tr>\n",
       "      <th>total_intervals_plugged_in</th>\n",
       "      <td>114.0</td>\n",
       "    </tr>\n",
       "    <tr>\n",
       "      <th>MWh_fraction</th>\n",
       "      <td>0.001789</td>\n",
       "    </tr>\n",
       "    <tr>\n",
       "      <th>early_session_stop</th>\n",
       "      <td>False</td>\n",
       "    </tr>\n",
       "  </tbody>\n",
       "</table>\n",
       "</div>"
      ],
      "text/plain": [
       "                                                                             0\n",
       "distinct_dates                                                      2025-01-10\n",
       "user_type                                    r21.4625_tc91_avglc27109_sdlc7283\n",
       "usage_window_start                                         2025-01-10 21:40:00\n",
       "usage_window_end                                           2025-01-11 07:10:00\n",
       "initial_charge                                                         0.55324\n",
       "time_needed                                                                100\n",
       "expected_baseline_charge_complete_timestamp                2025-01-10 23:20:00\n",
       "window_length_in_minutes                                                 570.0\n",
       "final_charge_time                                          2025-01-10 23:20:00\n",
       "total_capacity                                                              91\n",
       "usage_power_kw                                                         21.4625\n",
       "total_intervals_plugged_in                                               114.0\n",
       "MWh_fraction                                                          0.001789\n",
       "early_session_stop                                                       False"
      ]
     },
     "execution_count": 6,
     "metadata": {},
     "output_type": "execute_result"
    }
   ],
   "source": [
    "s_ev.synthetic_user_data(distinct_date_list=[distinct_date_list[0]]).T"
   ]
  },
  {
   "cell_type": "markdown",
   "metadata": {},
   "source": [
    "Or for *multiple* users."
   ]
  },
  {
   "cell_type": "code",
   "execution_count": 7,
   "metadata": {},
   "outputs": [
    {
     "name": "stderr",
     "output_type": "stream",
     "text": [
      "100%|██████████| 10/10 [00:00<00:00, 335.21it/s]\n"
     ]
    },
    {
     "data": {
      "text/html": [
       "<div>\n",
       "<style scoped>\n",
       "    .dataframe tbody tr th:only-of-type {\n",
       "        vertical-align: middle;\n",
       "    }\n",
       "\n",
       "    .dataframe tbody tr th {\n",
       "        vertical-align: top;\n",
       "    }\n",
       "\n",
       "    .dataframe thead th {\n",
       "        text-align: right;\n",
       "    }\n",
       "</style>\n",
       "<table border=\"1\" class=\"dataframe\">\n",
       "  <thead>\n",
       "    <tr style=\"text-align: right;\">\n",
       "      <th></th>\n",
       "      <th>index</th>\n",
       "      <th>distinct_dates</th>\n",
       "      <th>user_type</th>\n",
       "      <th>usage_window_start</th>\n",
       "      <th>usage_window_end</th>\n",
       "      <th>initial_charge</th>\n",
       "      <th>time_needed</th>\n",
       "      <th>expected_baseline_charge_complete_timestamp</th>\n",
       "      <th>window_length_in_minutes</th>\n",
       "      <th>final_charge_time</th>\n",
       "      <th>total_capacity</th>\n",
       "      <th>usage_power_kw</th>\n",
       "      <th>total_intervals_plugged_in</th>\n",
       "      <th>MWh_fraction</th>\n",
       "      <th>early_session_stop</th>\n",
       "    </tr>\n",
       "  </thead>\n",
       "  <tbody>\n",
       "    <tr>\n",
       "      <th>0</th>\n",
       "      <td>0</td>\n",
       "      <td>2025-01-10</td>\n",
       "      <td>r28.687500000000004_tc118_avglc20546_sdlc7920</td>\n",
       "      <td>2025-01-10 12:15:00</td>\n",
       "      <td>2025-01-10 18:10:00</td>\n",
       "      <td>0.380963</td>\n",
       "      <td>140</td>\n",
       "      <td>2025-01-10 14:35:00</td>\n",
       "      <td>355.0</td>\n",
       "      <td>2025-01-10 14:35:00</td>\n",
       "      <td>118</td>\n",
       "      <td>28.6875</td>\n",
       "      <td>71.0</td>\n",
       "      <td>0.002391</td>\n",
       "      <td>False</td>\n",
       "    </tr>\n",
       "    <tr>\n",
       "      <th>1</th>\n",
       "      <td>0</td>\n",
       "      <td>2025-01-10</td>\n",
       "      <td>r24.735_tc112_avglc24834_sdlc7708</td>\n",
       "      <td>2025-01-10 21:40:00</td>\n",
       "      <td>2025-01-11 05:50:00</td>\n",
       "      <td>0.535900</td>\n",
       "      <td>112</td>\n",
       "      <td>2025-01-10 23:32:00</td>\n",
       "      <td>490.0</td>\n",
       "      <td>2025-01-10 23:32:00</td>\n",
       "      <td>112</td>\n",
       "      <td>24.7350</td>\n",
       "      <td>98.0</td>\n",
       "      <td>0.002061</td>\n",
       "      <td>False</td>\n",
       "    </tr>\n",
       "    <tr>\n",
       "      <th>2</th>\n",
       "      <td>0</td>\n",
       "      <td>2025-01-10</td>\n",
       "      <td>r30.7275_tc45_avglc23403_sdlc7030</td>\n",
       "      <td>2025-01-10 08:55:00</td>\n",
       "      <td>2025-01-10 15:35:00</td>\n",
       "      <td>0.793005</td>\n",
       "      <td>13</td>\n",
       "      <td>2025-01-10 09:08:00</td>\n",
       "      <td>400.0</td>\n",
       "      <td>2025-01-10 09:08:00</td>\n",
       "      <td>45</td>\n",
       "      <td>30.7275</td>\n",
       "      <td>80.0</td>\n",
       "      <td>0.002561</td>\n",
       "      <td>False</td>\n",
       "    </tr>\n",
       "    <tr>\n",
       "      <th>3</th>\n",
       "      <td>0</td>\n",
       "      <td>2025-01-10</td>\n",
       "      <td>r34.765_tc38_avglc28725_sdlc7230</td>\n",
       "      <td>2025-01-10 08:55:00</td>\n",
       "      <td>2025-01-10 16:10:00</td>\n",
       "      <td>0.326142</td>\n",
       "      <td>40</td>\n",
       "      <td>2025-01-10 09:35:00</td>\n",
       "      <td>435.0</td>\n",
       "      <td>2025-01-10 09:35:00</td>\n",
       "      <td>38</td>\n",
       "      <td>34.7650</td>\n",
       "      <td>87.0</td>\n",
       "      <td>0.002897</td>\n",
       "      <td>False</td>\n",
       "    </tr>\n",
       "    <tr>\n",
       "      <th>4</th>\n",
       "      <td>0</td>\n",
       "      <td>2025-01-10</td>\n",
       "      <td>r33.32_tc34_avglc22081_sdlc7195</td>\n",
       "      <td>2025-01-10 10:05:00</td>\n",
       "      <td>2025-01-10 17:45:00</td>\n",
       "      <td>0.676138</td>\n",
       "      <td>16</td>\n",
       "      <td>2025-01-10 10:21:00</td>\n",
       "      <td>460.0</td>\n",
       "      <td>2025-01-10 10:21:00</td>\n",
       "      <td>34</td>\n",
       "      <td>33.3200</td>\n",
       "      <td>92.0</td>\n",
       "      <td>0.002777</td>\n",
       "      <td>False</td>\n",
       "    </tr>\n",
       "    <tr>\n",
       "      <th>5</th>\n",
       "      <td>0</td>\n",
       "      <td>2025-01-10</td>\n",
       "      <td>r24.735_tc32_avglc20715_sdlc6902</td>\n",
       "      <td>2025-01-10 08:05:00</td>\n",
       "      <td>2025-01-10 13:30:00</td>\n",
       "      <td>0.525689</td>\n",
       "      <td>32</td>\n",
       "      <td>2025-01-10 08:37:00</td>\n",
       "      <td>325.0</td>\n",
       "      <td>2025-01-10 08:37:00</td>\n",
       "      <td>32</td>\n",
       "      <td>24.7350</td>\n",
       "      <td>65.0</td>\n",
       "      <td>0.002061</td>\n",
       "      <td>False</td>\n",
       "    </tr>\n",
       "    <tr>\n",
       "      <th>6</th>\n",
       "      <td>0</td>\n",
       "      <td>2025-01-10</td>\n",
       "      <td>r32.8525_tc76_avglc29495_sdlc7274</td>\n",
       "      <td>2025-01-10 08:10:00</td>\n",
       "      <td>2025-01-10 16:25:00</td>\n",
       "      <td>0.647882</td>\n",
       "      <td>41</td>\n",
       "      <td>2025-01-10 08:51:00</td>\n",
       "      <td>495.0</td>\n",
       "      <td>2025-01-10 08:51:00</td>\n",
       "      <td>76</td>\n",
       "      <td>32.8525</td>\n",
       "      <td>99.0</td>\n",
       "      <td>0.002738</td>\n",
       "      <td>False</td>\n",
       "    </tr>\n",
       "    <tr>\n",
       "      <th>7</th>\n",
       "      <td>0</td>\n",
       "      <td>2025-01-10</td>\n",
       "      <td>r34.3825_tc107_avglc23121_sdlc7297</td>\n",
       "      <td>2025-01-10 19:15:00</td>\n",
       "      <td>2025-01-11 01:00:00</td>\n",
       "      <td>0.608428</td>\n",
       "      <td>63</td>\n",
       "      <td>2025-01-10 20:18:00</td>\n",
       "      <td>345.0</td>\n",
       "      <td>2025-01-10 20:18:00</td>\n",
       "      <td>107</td>\n",
       "      <td>34.3825</td>\n",
       "      <td>69.0</td>\n",
       "      <td>0.002865</td>\n",
       "      <td>False</td>\n",
       "    </tr>\n",
       "    <tr>\n",
       "      <th>8</th>\n",
       "      <td>0</td>\n",
       "      <td>2025-01-10</td>\n",
       "      <td>r35.2325_tc67_avglc24281_sdlc7101</td>\n",
       "      <td>2025-01-10 15:10:00</td>\n",
       "      <td>2025-01-10 23:45:00</td>\n",
       "      <td>0.628492</td>\n",
       "      <td>36</td>\n",
       "      <td>2025-01-10 15:46:00</td>\n",
       "      <td>515.0</td>\n",
       "      <td>2025-01-10 15:46:00</td>\n",
       "      <td>67</td>\n",
       "      <td>35.2325</td>\n",
       "      <td>103.0</td>\n",
       "      <td>0.002936</td>\n",
       "      <td>False</td>\n",
       "    </tr>\n",
       "    <tr>\n",
       "      <th>9</th>\n",
       "      <td>0</td>\n",
       "      <td>2025-01-10</td>\n",
       "      <td>r28.900000000000002_tc70_avglc24076_sdlc7798</td>\n",
       "      <td>2025-01-10 21:10:00</td>\n",
       "      <td>2025-01-11 02:35:00</td>\n",
       "      <td>0.659718</td>\n",
       "      <td>42</td>\n",
       "      <td>2025-01-10 21:52:00</td>\n",
       "      <td>325.0</td>\n",
       "      <td>2025-01-10 21:52:00</td>\n",
       "      <td>70</td>\n",
       "      <td>28.9000</td>\n",
       "      <td>65.0</td>\n",
       "      <td>0.002408</td>\n",
       "      <td>False</td>\n",
       "    </tr>\n",
       "  </tbody>\n",
       "</table>\n",
       "</div>"
      ],
      "text/plain": [
       "   index distinct_dates                                      user_type  \\\n",
       "0      0     2025-01-10  r28.687500000000004_tc118_avglc20546_sdlc7920   \n",
       "1      0     2025-01-10              r24.735_tc112_avglc24834_sdlc7708   \n",
       "2      0     2025-01-10              r30.7275_tc45_avglc23403_sdlc7030   \n",
       "3      0     2025-01-10               r34.765_tc38_avglc28725_sdlc7230   \n",
       "4      0     2025-01-10                r33.32_tc34_avglc22081_sdlc7195   \n",
       "5      0     2025-01-10               r24.735_tc32_avglc20715_sdlc6902   \n",
       "6      0     2025-01-10              r32.8525_tc76_avglc29495_sdlc7274   \n",
       "7      0     2025-01-10             r34.3825_tc107_avglc23121_sdlc7297   \n",
       "8      0     2025-01-10              r35.2325_tc67_avglc24281_sdlc7101   \n",
       "9      0     2025-01-10   r28.900000000000002_tc70_avglc24076_sdlc7798   \n",
       "\n",
       "   usage_window_start    usage_window_end  initial_charge  time_needed  \\\n",
       "0 2025-01-10 12:15:00 2025-01-10 18:10:00        0.380963          140   \n",
       "1 2025-01-10 21:40:00 2025-01-11 05:50:00        0.535900          112   \n",
       "2 2025-01-10 08:55:00 2025-01-10 15:35:00        0.793005           13   \n",
       "3 2025-01-10 08:55:00 2025-01-10 16:10:00        0.326142           40   \n",
       "4 2025-01-10 10:05:00 2025-01-10 17:45:00        0.676138           16   \n",
       "5 2025-01-10 08:05:00 2025-01-10 13:30:00        0.525689           32   \n",
       "6 2025-01-10 08:10:00 2025-01-10 16:25:00        0.647882           41   \n",
       "7 2025-01-10 19:15:00 2025-01-11 01:00:00        0.608428           63   \n",
       "8 2025-01-10 15:10:00 2025-01-10 23:45:00        0.628492           36   \n",
       "9 2025-01-10 21:10:00 2025-01-11 02:35:00        0.659718           42   \n",
       "\n",
       "  expected_baseline_charge_complete_timestamp  window_length_in_minutes  \\\n",
       "0                         2025-01-10 14:35:00                     355.0   \n",
       "1                         2025-01-10 23:32:00                     490.0   \n",
       "2                         2025-01-10 09:08:00                     400.0   \n",
       "3                         2025-01-10 09:35:00                     435.0   \n",
       "4                         2025-01-10 10:21:00                     460.0   \n",
       "5                         2025-01-10 08:37:00                     325.0   \n",
       "6                         2025-01-10 08:51:00                     495.0   \n",
       "7                         2025-01-10 20:18:00                     345.0   \n",
       "8                         2025-01-10 15:46:00                     515.0   \n",
       "9                         2025-01-10 21:52:00                     325.0   \n",
       "\n",
       "    final_charge_time  total_capacity  usage_power_kw  \\\n",
       "0 2025-01-10 14:35:00             118         28.6875   \n",
       "1 2025-01-10 23:32:00             112         24.7350   \n",
       "2 2025-01-10 09:08:00              45         30.7275   \n",
       "3 2025-01-10 09:35:00              38         34.7650   \n",
       "4 2025-01-10 10:21:00              34         33.3200   \n",
       "5 2025-01-10 08:37:00              32         24.7350   \n",
       "6 2025-01-10 08:51:00              76         32.8525   \n",
       "7 2025-01-10 20:18:00             107         34.3825   \n",
       "8 2025-01-10 15:46:00              67         35.2325   \n",
       "9 2025-01-10 21:52:00              70         28.9000   \n",
       "\n",
       "   total_intervals_plugged_in  MWh_fraction  early_session_stop  \n",
       "0                        71.0      0.002391               False  \n",
       "1                        98.0      0.002061               False  \n",
       "2                        80.0      0.002561               False  \n",
       "3                        87.0      0.002897               False  \n",
       "4                        92.0      0.002777               False  \n",
       "5                        65.0      0.002061               False  \n",
       "6                        99.0      0.002738               False  \n",
       "7                        69.0      0.002865               False  \n",
       "8                       103.0      0.002936               False  \n",
       "9                        65.0      0.002408               False  "
      ]
     },
     "execution_count": 7,
     "metadata": {},
     "output_type": "execute_result"
    }
   ],
   "source": [
    "s_ev.generate_synthetic_dataset(distinct_date_list=[distinct_date_list[0]], number_of_users=10)"
   ]
  },
  {
   "cell_type": "markdown",
   "metadata": {},
   "source": [
    "## Example: AI Model Training\n",
    "\n",
    "\n",
    "### Functional Behavior\n",
    "- Worloads can run at any time of day\n",
    "- Our 3 server models consume 24, 31, and 64 kWh on average\n"
   ]
  },
  {
   "cell_type": "code",
   "execution_count": 8,
   "metadata": {},
   "outputs": [],
   "source": [
    "ai_kwargs = {\n",
    "    \"max_percent_capacity\":1.0, # job must run to completion\n",
    "    \"max_power_output_rates\": [24,31,64],\n",
    "    \"minimum_usage_window_start_time\": \"00:00:00\",  # earliest session can start\n",
    "    \"maximum_usage_window_start_time\": \"23:59:00\",  # latest session can start\n",
    "}"
   ]
  },
  {
   "cell_type": "code",
   "execution_count": 9,
   "metadata": {},
   "outputs": [],
   "source": [
    "s_ai = SessionsGenerator(**ai_kwargs)"
   ]
  },
  {
   "cell_type": "code",
   "execution_count": 10,
   "metadata": {},
   "outputs": [
    {
     "name": "stderr",
     "output_type": "stream",
     "text": [
      "100%|██████████| 10/10 [00:00<00:00, 280.14it/s]\n"
     ]
    }
   ],
   "source": [
    "df_ai = s_ai.generate_synthetic_dataset(distinct_date_list=distinct_date_list, number_of_users=10)"
   ]
  },
  {
   "cell_type": "code",
   "execution_count": 11,
   "metadata": {},
   "outputs": [
    {
     "data": {
      "text/html": [
       "<div>\n",
       "<style scoped>\n",
       "    .dataframe tbody tr th:only-of-type {\n",
       "        vertical-align: middle;\n",
       "    }\n",
       "\n",
       "    .dataframe tbody tr th {\n",
       "        vertical-align: top;\n",
       "    }\n",
       "\n",
       "    .dataframe thead th {\n",
       "        text-align: right;\n",
       "    }\n",
       "</style>\n",
       "<table border=\"1\" class=\"dataframe\">\n",
       "  <thead>\n",
       "    <tr style=\"text-align: right;\">\n",
       "      <th></th>\n",
       "      <th>0</th>\n",
       "      <th>1</th>\n",
       "      <th>2</th>\n",
       "      <th>3</th>\n",
       "      <th>4</th>\n",
       "    </tr>\n",
       "  </thead>\n",
       "  <tbody>\n",
       "    <tr>\n",
       "      <th>index</th>\n",
       "      <td>0</td>\n",
       "      <td>1</td>\n",
       "      <td>2</td>\n",
       "      <td>3</td>\n",
       "      <td>4</td>\n",
       "    </tr>\n",
       "    <tr>\n",
       "      <th>distinct_dates</th>\n",
       "      <td>2025-01-10</td>\n",
       "      <td>2025-01-12</td>\n",
       "      <td>2025-01-17</td>\n",
       "      <td>2025-01-18</td>\n",
       "      <td>2025-01-23</td>\n",
       "    </tr>\n",
       "    <tr>\n",
       "      <th>user_type</th>\n",
       "      <td>r42.048_tc97_avglc23328_sdlc6978</td>\n",
       "      <td>r42.048_tc97_avglc23328_sdlc6978</td>\n",
       "      <td>r42.048_tc97_avglc23328_sdlc6978</td>\n",
       "      <td>r42.048_tc97_avglc23328_sdlc6978</td>\n",
       "      <td>r42.048_tc97_avglc23328_sdlc6978</td>\n",
       "    </tr>\n",
       "    <tr>\n",
       "      <th>usage_window_start</th>\n",
       "      <td>2025-01-10 01:10:00</td>\n",
       "      <td>2025-01-12 16:50:00</td>\n",
       "      <td>2025-01-17 17:35:00</td>\n",
       "      <td>2025-01-18 11:35:00</td>\n",
       "      <td>2025-01-23 22:45:00</td>\n",
       "    </tr>\n",
       "    <tr>\n",
       "      <th>usage_window_end</th>\n",
       "      <td>2025-01-10 05:45:00</td>\n",
       "      <td>2025-01-12 21:00:00</td>\n",
       "      <td>2025-01-18 00:35:00</td>\n",
       "      <td>2025-01-18 20:40:00</td>\n",
       "      <td>2025-01-24 05:10:00</td>\n",
       "    </tr>\n",
       "    <tr>\n",
       "      <th>initial_charge</th>\n",
       "      <td>0.713798</td>\n",
       "      <td>0.421567</td>\n",
       "      <td>0.28111</td>\n",
       "      <td>0.561354</td>\n",
       "      <td>0.706594</td>\n",
       "    </tr>\n",
       "    <tr>\n",
       "      <th>time_needed</th>\n",
       "      <td>39</td>\n",
       "      <td>80</td>\n",
       "      <td>99</td>\n",
       "      <td>60</td>\n",
       "      <td>40</td>\n",
       "    </tr>\n",
       "    <tr>\n",
       "      <th>expected_baseline_charge_complete_timestamp</th>\n",
       "      <td>2025-01-10 01:49:00</td>\n",
       "      <td>2025-01-12 18:10:00</td>\n",
       "      <td>2025-01-17 19:14:00</td>\n",
       "      <td>2025-01-18 12:35:00</td>\n",
       "      <td>2025-01-23 23:25:00</td>\n",
       "    </tr>\n",
       "    <tr>\n",
       "      <th>window_length_in_minutes</th>\n",
       "      <td>275.0</td>\n",
       "      <td>250.0</td>\n",
       "      <td>420.0</td>\n",
       "      <td>545.0</td>\n",
       "      <td>385.0</td>\n",
       "    </tr>\n",
       "    <tr>\n",
       "      <th>final_charge_time</th>\n",
       "      <td>2025-01-10 01:49:00</td>\n",
       "      <td>2025-01-12 18:10:00</td>\n",
       "      <td>2025-01-17 19:14:00</td>\n",
       "      <td>2025-01-18 12:35:00</td>\n",
       "      <td>2025-01-23 23:25:00</td>\n",
       "    </tr>\n",
       "    <tr>\n",
       "      <th>total_capacity</th>\n",
       "      <td>97</td>\n",
       "      <td>97</td>\n",
       "      <td>97</td>\n",
       "      <td>97</td>\n",
       "      <td>97</td>\n",
       "    </tr>\n",
       "    <tr>\n",
       "      <th>usage_power_kw</th>\n",
       "      <td>42.048</td>\n",
       "      <td>42.048</td>\n",
       "      <td>42.048</td>\n",
       "      <td>42.048</td>\n",
       "      <td>42.048</td>\n",
       "    </tr>\n",
       "    <tr>\n",
       "      <th>total_intervals_plugged_in</th>\n",
       "      <td>55.0</td>\n",
       "      <td>50.0</td>\n",
       "      <td>84.0</td>\n",
       "      <td>109.0</td>\n",
       "      <td>77.0</td>\n",
       "    </tr>\n",
       "    <tr>\n",
       "      <th>MWh_fraction</th>\n",
       "      <td>0.003504</td>\n",
       "      <td>0.003504</td>\n",
       "      <td>0.003504</td>\n",
       "      <td>0.003504</td>\n",
       "      <td>0.003504</td>\n",
       "    </tr>\n",
       "    <tr>\n",
       "      <th>early_session_stop</th>\n",
       "      <td>False</td>\n",
       "      <td>False</td>\n",
       "      <td>False</td>\n",
       "      <td>False</td>\n",
       "      <td>False</td>\n",
       "    </tr>\n",
       "  </tbody>\n",
       "</table>\n",
       "</div>"
      ],
      "text/plain": [
       "                                                                            0  \\\n",
       "index                                                                       0   \n",
       "distinct_dates                                                     2025-01-10   \n",
       "user_type                                    r42.048_tc97_avglc23328_sdlc6978   \n",
       "usage_window_start                                        2025-01-10 01:10:00   \n",
       "usage_window_end                                          2025-01-10 05:45:00   \n",
       "initial_charge                                                       0.713798   \n",
       "time_needed                                                                39   \n",
       "expected_baseline_charge_complete_timestamp               2025-01-10 01:49:00   \n",
       "window_length_in_minutes                                                275.0   \n",
       "final_charge_time                                         2025-01-10 01:49:00   \n",
       "total_capacity                                                             97   \n",
       "usage_power_kw                                                         42.048   \n",
       "total_intervals_plugged_in                                               55.0   \n",
       "MWh_fraction                                                         0.003504   \n",
       "early_session_stop                                                      False   \n",
       "\n",
       "                                                                            1  \\\n",
       "index                                                                       1   \n",
       "distinct_dates                                                     2025-01-12   \n",
       "user_type                                    r42.048_tc97_avglc23328_sdlc6978   \n",
       "usage_window_start                                        2025-01-12 16:50:00   \n",
       "usage_window_end                                          2025-01-12 21:00:00   \n",
       "initial_charge                                                       0.421567   \n",
       "time_needed                                                                80   \n",
       "expected_baseline_charge_complete_timestamp               2025-01-12 18:10:00   \n",
       "window_length_in_minutes                                                250.0   \n",
       "final_charge_time                                         2025-01-12 18:10:00   \n",
       "total_capacity                                                             97   \n",
       "usage_power_kw                                                         42.048   \n",
       "total_intervals_plugged_in                                               50.0   \n",
       "MWh_fraction                                                         0.003504   \n",
       "early_session_stop                                                      False   \n",
       "\n",
       "                                                                            2  \\\n",
       "index                                                                       2   \n",
       "distinct_dates                                                     2025-01-17   \n",
       "user_type                                    r42.048_tc97_avglc23328_sdlc6978   \n",
       "usage_window_start                                        2025-01-17 17:35:00   \n",
       "usage_window_end                                          2025-01-18 00:35:00   \n",
       "initial_charge                                                        0.28111   \n",
       "time_needed                                                                99   \n",
       "expected_baseline_charge_complete_timestamp               2025-01-17 19:14:00   \n",
       "window_length_in_minutes                                                420.0   \n",
       "final_charge_time                                         2025-01-17 19:14:00   \n",
       "total_capacity                                                             97   \n",
       "usage_power_kw                                                         42.048   \n",
       "total_intervals_plugged_in                                               84.0   \n",
       "MWh_fraction                                                         0.003504   \n",
       "early_session_stop                                                      False   \n",
       "\n",
       "                                                                            3  \\\n",
       "index                                                                       3   \n",
       "distinct_dates                                                     2025-01-18   \n",
       "user_type                                    r42.048_tc97_avglc23328_sdlc6978   \n",
       "usage_window_start                                        2025-01-18 11:35:00   \n",
       "usage_window_end                                          2025-01-18 20:40:00   \n",
       "initial_charge                                                       0.561354   \n",
       "time_needed                                                                60   \n",
       "expected_baseline_charge_complete_timestamp               2025-01-18 12:35:00   \n",
       "window_length_in_minutes                                                545.0   \n",
       "final_charge_time                                         2025-01-18 12:35:00   \n",
       "total_capacity                                                             97   \n",
       "usage_power_kw                                                         42.048   \n",
       "total_intervals_plugged_in                                              109.0   \n",
       "MWh_fraction                                                         0.003504   \n",
       "early_session_stop                                                      False   \n",
       "\n",
       "                                                                            4  \n",
       "index                                                                       4  \n",
       "distinct_dates                                                     2025-01-23  \n",
       "user_type                                    r42.048_tc97_avglc23328_sdlc6978  \n",
       "usage_window_start                                        2025-01-23 22:45:00  \n",
       "usage_window_end                                          2025-01-24 05:10:00  \n",
       "initial_charge                                                       0.706594  \n",
       "time_needed                                                                40  \n",
       "expected_baseline_charge_complete_timestamp               2025-01-23 23:25:00  \n",
       "window_length_in_minutes                                                385.0  \n",
       "final_charge_time                                         2025-01-23 23:25:00  \n",
       "total_capacity                                                             97  \n",
       "usage_power_kw                                                         42.048  \n",
       "total_intervals_plugged_in                                               77.0  \n",
       "MWh_fraction                                                         0.003504  \n",
       "early_session_stop                                                      False  "
      ]
     },
     "execution_count": 11,
     "metadata": {},
     "output_type": "execute_result"
    }
   ],
   "source": [
    "df_ai.head().T"
   ]
  },
  {
   "cell_type": "markdown",
   "metadata": {},
   "source": [
    "# Optimization"
   ]
  },
  {
   "cell_type": "code",
   "execution_count": 12,
   "metadata": {},
   "outputs": [],
   "source": [
    "import pandas as pd\n",
    "from watttime_optimizer.evaluator.evaluator import OptChargeEvaluator\n",
    "from watttime_optimizer.evaluator.evaluator import ImpactEvaluator"
   ]
  },
  {
   "cell_type": "markdown",
   "metadata": {},
   "source": [
    "### The WattTimeOptimizer class requires 4 things:\n",
    "\n",
    "- Watttime’s forecast of marginal emissions (MOER) - be ready to provide your username and password\n",
    "- device capacity and energy needs\n",
    "- region\n",
    "- window start\n",
    "- window end"
   ]
  },
  {
   "cell_type": "code",
   "execution_count": 13,
   "metadata": {},
   "outputs": [],
   "source": [
    "username = os.getenv(\"WATTTIME_USER\")\n",
    "password = os.getenv(\"WATTTIME_PASSWORD\")\n",
    "region = \"PJM_CHICAGO\"\n",
    "oce = OptChargeEvaluator(username=username,password=password)"
   ]
  },
  {
   "cell_type": "code",
   "execution_count": 14,
   "metadata": {},
   "outputs": [],
   "source": [
    "# single instance\n",
    "df_ev_sample = s_ev.synthetic_user_data(distinct_date_list=[distinct_date_list[0]])"
   ]
  },
  {
   "cell_type": "code",
   "execution_count": 15,
   "metadata": {},
   "outputs": [],
   "source": [
    "input_dict = df_ev_sample[['usage_window_start',\n",
    "                    'usage_window_end',\n",
    "                    'time_needed',\n",
    "                    'usage_power_kw'\n",
    "                    ]].T.to_dict()\n",
    "\n",
    "value = input_dict[0]\n",
    "value.update({'region':region,'tz_convert':True, \"verbose\":False})"
   ]
  },
  {
   "cell_type": "code",
   "execution_count": 16,
   "metadata": {},
   "outputs": [],
   "source": [
    "df = oce.get_schedule_and_cost_api(**value)\n",
    "rr = ImpactEvaluator(username,password,df).get_all_emissions_values(region=region)"
   ]
  },
  {
   "cell_type": "code",
   "execution_count": 17,
   "metadata": {},
   "outputs": [
    {
     "data": {
      "text/plain": [
       "<Axes: xlabel='point_time'>"
      ]
     },
     "execution_count": 17,
     "metadata": {},
     "output_type": "execute_result"
    },
    {
     "data": {
      "image/png": "[encoded data removed]",
      "text/plain": [
       "<Figure size 640x480 with 1 Axes>"
      ]
     },
     "metadata": {},
     "output_type": "display_data"
    }
   ],
   "source": [
    "rr.cumsum().plot()"
   ]
  },
  {
   "cell_type": "code",
   "execution_count": 18,
   "metadata": {},
   "outputs": [],
   "source": [
    "rr_metrics = ImpactEvaluator(username,password,df).get_all_emissions_metrics(region=region)"
   ]
  },
  {
   "cell_type": "code",
   "execution_count": 19,
   "metadata": {},
   "outputs": [
    {
     "data": {
      "text/plain": [
       "{'baseline': 26.349219416666664,\n",
       " 'forecast': 22.1546754,\n",
       " 'actual': 22.807821208333333}"
      ]
     },
     "execution_count": 19,
     "metadata": {},
     "output_type": "execute_result"
    }
   ],
   "source": [
    "rr_metrics"
   ]
  },
  {
   "cell_type": "code",
   "execution_count": 20,
   "metadata": {},
   "outputs": [
    {
     "data": {
      "text/plain": [
       "pred_moer           97714.900000\n",
       "usage                  44.000000\n",
       "emissions_co2_lb       22.154675\n",
       "energy_usage_mwh        0.020913\n",
       "dtype: float64"
      ]
     },
     "execution_count": 20,
     "metadata": {},
     "output_type": "execute_result"
    }
   ],
   "source": [
    "df.sum()"
   ]
  },
  {
   "cell_type": "markdown",
   "metadata": {},
   "source": [
    "# Requery\n",
    "\n",
    "- The intuition behind requerying is that more recent forecasts more accurately reflect what is likely to happen on the grid within the session window. \n",
    "- An extension of this assumption is that the higher the update frequency, the greater the improvement in overall results. "
   ]
  },
  {
   "cell_type": "code",
   "execution_count": 21,
   "metadata": {},
   "outputs": [],
   "source": [
    "from watttime_optimizer.evaluator.evaluator import RecalculationOptChargeEvaluator"
   ]
  },
  {
   "cell_type": "code",
   "execution_count": 22,
   "metadata": {},
   "outputs": [],
   "source": [
    "roce = RecalculationOptChargeEvaluator(username,password)"
   ]
  },
  {
   "cell_type": "code",
   "execution_count": 23,
   "metadata": {},
   "outputs": [],
   "source": [
    "value.update({\"optimization_method\": \"simple\", \"interval\":15, \"charge_per_segment\":None})"
   ]
  },
  {
   "cell_type": "code",
   "execution_count": 24,
   "metadata": {},
   "outputs": [
    {
     "name": "stdout",
     "output_type": "stream",
     "text": [
      "3.39 s ± 368 ms per loop (mean ± std. dev. of 7 runs, 1 loop each)\n"
     ]
    }
   ],
   "source": [
    "%%timeit\n",
    "%%capture\n",
    "df_requery = roce.fit_recalculator(**value).get_combined_schedule()"
   ]
  },
  {
   "cell_type": "code",
   "execution_count": 25,
   "metadata": {},
   "outputs": [
    {
     "data": {
      "text/plain": [
       "pred_moer           97714.900000\n",
       "usage                  44.000000\n",
       "emissions_co2_lb       22.154675\n",
       "energy_usage_mwh        0.020913\n",
       "dtype: float64"
      ]
     },
     "execution_count": 25,
     "metadata": {},
     "output_type": "execute_result"
    }
   ],
   "source": [
    "df_requery.sum()"
   ]
  },
  {
   "cell_type": "markdown",
   "metadata": {},
   "source": [
    "# Vizualizing Results"
   ]
  },
  {
   "cell_type": "code",
   "execution_count": 26,
   "metadata": {},
   "outputs": [],
   "source": [
    "impact_evaluator = ImpactEvaluator(username=username,password=password,obj=df)"
   ]
  },
  {
   "cell_type": "code",
   "execution_count": 27,
   "metadata": {},
   "outputs": [
    {
     "data": {
      "image/png": "[encoded data removed]",
      "text/plain": [
       "<Figure size 640x480 with 1 Axes>"
      ]
     },
     "metadata": {},
     "output_type": "display_data"
    }
   ],
   "source": [
    "impact_evaluator.plot_predicated_moer()"
   ]
  },
  {
   "cell_type": "code",
   "execution_count": 28,
   "metadata": {},
   "outputs": [
    {
     "data": {
      "image/png": "[encoded data removed]",
      "text/plain": [
       "<Figure size 640x480 with 1 Axes>"
      ]
     },
     "metadata": {},
     "output_type": "display_data"
    }
   ],
   "source": [
    "impact_evaluator.plot_usage_schedule()"
   ]
  },
  {
   "cell_type": "code",
   "execution_count": 29,
   "metadata": {},
   "outputs": [
    {
     "data": {
      "image/png": "[encoded data removed]",
      "text/plain": [
       "<Figure size 640x480 with 2 Axes>"
      ]
     },
     "metadata": {},
     "output_type": "display_data"
    }
   ],
   "source": [
    "impact_evaluator.plot_impact(region=region)"
   ]
  },
  {
   "cell_type": "markdown",
   "metadata": {},
   "source": [
    "Baseline, i.e. 'asap' is lower than optimized results"
   ]
  },
  {
   "cell_type": "code",
   "execution_count": 30,
   "metadata": {},
   "outputs": [
    {
     "data": {
      "text/plain": [
       "{'baseline': 26.349219416666664,\n",
       " 'forecast': 22.1546754,\n",
       " 'actual': 22.807821208333333}"
      ]
     },
     "execution_count": 30,
     "metadata": {},
     "output_type": "execute_result"
    }
   ],
   "source": [
    "impact_evaluator.get_all_emissions_metrics(region=region)"
   ]
  },
  {
   "cell_type": "markdown",
   "metadata": {},
   "source": [
    "# Iterate over multiple rows of data"
   ]
  },
  {
   "cell_type": "code",
   "execution_count": 31,
   "metadata": {},
   "outputs": [],
   "source": [
    "from watttime_optimizer.evaluator.analysis import analysis_loop"
   ]
  },
  {
   "cell_type": "code",
   "execution_count": 32,
   "metadata": {},
   "outputs": [
    {
     "name": "stderr",
     "output_type": "stream",
     "text": [
      "100%|██████████| 10/10 [00:00<00:00, 270.40it/s]\n"
     ]
    }
   ],
   "source": [
    "df_ev_samples = s_ev.generate_synthetic_dataset(distinct_date_list=distinct_date_list, number_of_users=10).sample(10)\n",
    "\n",
    "input_dict = df_ev_samples[['usage_window_start',\n",
    "                    'usage_window_end',\n",
    "                    'time_needed',\n",
    "                    'usage_power_kw'\n",
    "                    ]].T.to_dict()"
   ]
  },
  {
   "cell_type": "code",
   "execution_count": 33,
   "metadata": {},
   "outputs": [
    {
     "name": "stderr",
     "output_type": "stream",
     "text": [
      " 30%|███       | 3/10 [00:24<00:54,  7.77s/it]/Users/jen/watttime-python-client/watttime_optimizer/api_opt.py:195: UserWarning: Could not infer format, so each element will be parsed individually, falling back to `dateutil`. To ensure parsing is consistent and as-expected, please specify a format.\n",
      "  forecast_df.index = pd.to_datetime(forecast_df.index)\n",
      "/Users/jen/watttime-python-client/watttime/api.py:274: UserWarning: Could not infer format, so each element will be parsed individually, falling back to `dateutil`. To ensure parsing is consistent and as-expected, please specify a format.\n",
      "  df[\"point_time\"] = pd.to_datetime(df[\"point_time\"])\n",
      "/Users/jen/watttime-python-client/watttime/api.py:274: UserWarning: Could not infer format, so each element will be parsed individually, falling back to `dateutil`. To ensure parsing is consistent and as-expected, please specify a format.\n",
      "  df[\"point_time\"] = pd.to_datetime(df[\"point_time\"])\n",
      "100%|██████████| 10/10 [01:01<00:00,  6.20s/it]\n"
     ]
    }
   ],
   "source": [
    "results = analysis_loop(\n",
    "    region = \"PJM_CHICAGO\",\n",
    "    input_dict = input_dict,\n",
    "    username=username,\n",
    "    password=password\n",
    ")"
   ]
  },
  {
   "cell_type": "code",
   "execution_count": 34,
   "metadata": {},
   "outputs": [],
   "source": [
    "results_loop = pd.DataFrame.from_dict(\n",
    "    results,\n",
    "    orient=\"index\"\n",
    "    )"
   ]
  },
  {
   "cell_type": "code",
   "execution_count": 40,
   "metadata": {},
   "outputs": [
    {
     "data": {
      "text/html": [
       "<div>\n",
       "<style scoped>\n",
       "    .dataframe tbody tr th:only-of-type {\n",
       "        vertical-align: middle;\n",
       "    }\n",
       "\n",
       "    .dataframe tbody tr th {\n",
       "        vertical-align: top;\n",
       "    }\n",
       "\n",
       "    .dataframe thead th {\n",
       "        text-align: right;\n",
       "    }\n",
       "</style>\n",
       "<table border=\"1\" class=\"dataframe\">\n",
       "  <thead>\n",
       "    <tr style=\"text-align: right;\">\n",
       "      <th></th>\n",
       "      <th>baseline</th>\n",
       "      <th>forecast</th>\n",
       "      <th>actual</th>\n",
       "      <th>m</th>\n",
       "      <th>b</th>\n",
       "      <th>stddev</th>\n",
       "      <th>percent_difference</th>\n",
       "    </tr>\n",
       "  </thead>\n",
       "  <tbody>\n",
       "    <tr>\n",
       "      <th>335</th>\n",
       "      <td>19.374900</td>\n",
       "      <td>17.364438</td>\n",
       "      <td>5.772350</td>\n",
       "      <td>-0.965979</td>\n",
       "      <td>1221.491835</td>\n",
       "      <td>36.154509</td>\n",
       "      <td>0.702071</td>\n",
       "    </tr>\n",
       "    <tr>\n",
       "      <th>248</th>\n",
       "      <td>47.119410</td>\n",
       "      <td>45.362598</td>\n",
       "      <td>46.858906</td>\n",
       "      <td>1.127139</td>\n",
       "      <td>1209.010418</td>\n",
       "      <td>35.813855</td>\n",
       "      <td>0.005529</td>\n",
       "    </tr>\n",
       "    <tr>\n",
       "      <th>187</th>\n",
       "      <td>99.036054</td>\n",
       "      <td>97.043829</td>\n",
       "      <td>97.403682</td>\n",
       "      <td>-0.960845</td>\n",
       "      <td>1377.716438</td>\n",
       "      <td>23.558332</td>\n",
       "      <td>0.016483</td>\n",
       "    </tr>\n",
       "    <tr>\n",
       "      <th>129</th>\n",
       "      <td>44.891362</td>\n",
       "      <td>43.965281</td>\n",
       "      <td>44.818082</td>\n",
       "      <td>-0.170719</td>\n",
       "      <td>1227.373027</td>\n",
       "      <td>10.085330</td>\n",
       "      <td>0.001632</td>\n",
       "    </tr>\n",
       "    <tr>\n",
       "      <th>347</th>\n",
       "      <td>40.716275</td>\n",
       "      <td>34.589730</td>\n",
       "      <td>30.394725</td>\n",
       "      <td>-2.414455</td>\n",
       "      <td>1241.087671</td>\n",
       "      <td>78.058167</td>\n",
       "      <td>0.253499</td>\n",
       "    </tr>\n",
       "    <tr>\n",
       "      <th>144</th>\n",
       "      <td>36.702892</td>\n",
       "      <td>31.103672</td>\n",
       "      <td>18.732846</td>\n",
       "      <td>-2.841039</td>\n",
       "      <td>1251.382335</td>\n",
       "      <td>65.568697</td>\n",
       "      <td>0.489608</td>\n",
       "    </tr>\n",
       "    <tr>\n",
       "      <th>250</th>\n",
       "      <td>72.399710</td>\n",
       "      <td>69.995388</td>\n",
       "      <td>30.788366</td>\n",
       "      <td>0.228903</td>\n",
       "      <td>1195.549966</td>\n",
       "      <td>38.837257</td>\n",
       "      <td>0.574745</td>\n",
       "    </tr>\n",
       "    <tr>\n",
       "      <th>99</th>\n",
       "      <td>50.243337</td>\n",
       "      <td>45.002552</td>\n",
       "      <td>46.479799</td>\n",
       "      <td>-0.546100</td>\n",
       "      <td>1247.550698</td>\n",
       "      <td>65.546905</td>\n",
       "      <td>0.074906</td>\n",
       "    </tr>\n",
       "    <tr>\n",
       "      <th>400</th>\n",
       "      <td>67.923815</td>\n",
       "      <td>61.153951</td>\n",
       "      <td>65.680911</td>\n",
       "      <td>-0.430136</td>\n",
       "      <td>1206.433224</td>\n",
       "      <td>38.390573</td>\n",
       "      <td>0.033021</td>\n",
       "    </tr>\n",
       "    <tr>\n",
       "      <th>87</th>\n",
       "      <td>19.178195</td>\n",
       "      <td>17.085137</td>\n",
       "      <td>17.947542</td>\n",
       "      <td>-1.261463</td>\n",
       "      <td>1271.073983</td>\n",
       "      <td>49.779445</td>\n",
       "      <td>0.064169</td>\n",
       "    </tr>\n",
       "  </tbody>\n",
       "</table>\n",
       "</div>"
      ],
      "text/plain": [
       "      baseline   forecast     actual         m            b     stddev  \\\n",
       "335  19.374900  17.364438   5.772350 -0.965979  1221.491835  36.154509   \n",
       "248  47.119410  45.362598  46.858906  1.127139  1209.010418  35.813855   \n",
       "187  99.036054  97.043829  97.403682 -0.960845  1377.716438  23.558332   \n",
       "129  44.891362  43.965281  44.818082 -0.170719  1227.373027  10.085330   \n",
       "347  40.716275  34.589730  30.394725 -2.414455  1241.087671  78.058167   \n",
       "144  36.702892  31.103672  18.732846 -2.841039  1251.382335  65.568697   \n",
       "250  72.399710  69.995388  30.788366  0.228903  1195.549966  38.837257   \n",
       "99   50.243337  45.002552  46.479799 -0.546100  1247.550698  65.546905   \n",
       "400  67.923815  61.153951  65.680911 -0.430136  1206.433224  38.390573   \n",
       "87   19.178195  17.085137  17.947542 -1.261463  1271.073983  49.779445   \n",
       "\n",
       "     percent_difference  \n",
       "335            0.702071  \n",
       "248            0.005529  \n",
       "187            0.016483  \n",
       "129            0.001632  \n",
       "347            0.253499  \n",
       "144            0.489608  \n",
       "250            0.574745  \n",
       "99             0.074906  \n",
       "400            0.033021  \n",
       "87             0.064169  "
      ]
     },
     "execution_count": 40,
     "metadata": {},
     "output_type": "execute_result"
    }
   ],
   "source": [
    "results_loop"
   ]
  },
  {
   "cell_type": "code",
   "execution_count": 41,
   "metadata": {},
   "outputs": [],
   "source": [
    "results_loop[\"percent_difference\"] = (results_loop[\"actual\"] - results_loop[\"baseline\"]) / results_loop[\"baseline\"]"
   ]
  },
  {
   "cell_type": "code",
   "execution_count": null,
   "metadata": {},
   "outputs": [
    {
     "data": {
      "text/plain": [
       "<Axes: >"
      ]
     },
     "execution_count": 42,
     "metadata": {},
     "output_type": "execute_result"
    },
    {
     "data": {
      "image/png": "[encoded data removed]",
      "text/plain": [
       "<Figure size 640x480 with 1 Axes>"
      ]
     },
     "metadata": {},
     "output_type": "display_data"
    }
   ],
   "source": [
    "# larger negative is better\n",
    "results_loop[\"percent_difference\"].sort_index().plot()"
   ]
  },
  {
   "cell_type": "markdown",
   "metadata": {},
   "source": [
    "## Requery"
   ]
  },
  {
   "cell_type": "code",
   "execution_count": 43,
   "metadata": {},
   "outputs": [],
   "source": [
    "from watttime_optimizer.evaluator.analysis import analysis_loop_requery"
   ]
  },
  {
   "cell_type": "code",
   "execution_count": 44,
   "metadata": {},
   "outputs": [],
   "source": [
    "interval = 15\n",
    "region = \"PJM_CHICAGO\""
   ]
  },
  {
   "cell_type": "code",
   "execution_count": 45,
   "metadata": {},
   "outputs": [],
   "source": [
    "%%capture\n",
    "results_requery = analysis_loop_requery(region=region, interval=interval, input_dict=input_dict, username=username, password=password)"
   ]
  },
  {
   "cell_type": "code",
   "execution_count": 47,
   "metadata": {},
   "outputs": [],
   "source": [
    "results_loop_requery = pd.DataFrame.from_dict(\n",
    "    results_requery,\n",
    "    orient=\"index\"\n",
    "    )"
   ]
  },
  {
   "cell_type": "markdown",
   "metadata": {},
   "source": [
    "# Requery Contiguous"
   ]
  },
  {
   "cell_type": "code",
   "execution_count": 48,
   "metadata": {},
   "outputs": [],
   "source": [
    "from watttime_optimizer.evaluator.analysis import analysis_loop_requery_contiguous"
   ]
  },
  {
   "cell_type": "code",
   "execution_count": 49,
   "metadata": {},
   "outputs": [
    {
     "name": "stderr",
     "output_type": "stream",
     "text": [
      "  0%|          | 0/10 [00:00<?, ?it/s]"
     ]
    },
    {
     "name": "stdout",
     "output_type": "stream",
     "text": [
      "tz converting...\n"
     ]
    },
    {
     "name": "stderr",
     "output_type": "stream",
     "text": [
      " 10%|█         | 1/10 [00:04<00:41,  4.67s/it]"
     ]
    },
    {
     "name": "stdout",
     "output_type": "stream",
     "text": [
      "tz converting...\n"
     ]
    },
    {
     "name": "stderr",
     "output_type": "stream",
     "text": [
      " 20%|██        | 2/10 [00:10<00:41,  5.13s/it]"
     ]
    },
    {
     "name": "stdout",
     "output_type": "stream",
     "text": [
      "tz converting...\n"
     ]
    },
    {
     "name": "stderr",
     "output_type": "stream",
     "text": [
      " 30%|███       | 3/10 [00:15<00:36,  5.17s/it]"
     ]
    },
    {
     "name": "stdout",
     "output_type": "stream",
     "text": [
      "tz converting...\n"
     ]
    },
    {
     "name": "stderr",
     "output_type": "stream",
     "text": [
      "/Users/jen/watttime-python-client/watttime_optimizer/api_opt.py:195: UserWarning: Could not infer format, so each element will be parsed individually, falling back to `dateutil`. To ensure parsing is consistent and as-expected, please specify a format.\n",
      "  forecast_df.index = pd.to_datetime(forecast_df.index)\n",
      "/Users/jen/watttime-python-client/watttime/api.py:274: UserWarning: Could not infer format, so each element will be parsed individually, falling back to `dateutil`. To ensure parsing is consistent and as-expected, please specify a format.\n",
      "  df[\"point_time\"] = pd.to_datetime(df[\"point_time\"])\n",
      "/Users/jen/watttime-python-client/watttime/api.py:274: UserWarning: Could not infer format, so each element will be parsed individually, falling back to `dateutil`. To ensure parsing is consistent and as-expected, please specify a format.\n",
      "  df[\"point_time\"] = pd.to_datetime(df[\"point_time\"])\n",
      " 40%|████      | 4/10 [00:21<00:34,  5.67s/it]"
     ]
    },
    {
     "name": "stdout",
     "output_type": "stream",
     "text": [
      "tz converting...\n"
     ]
    },
    {
     "name": "stderr",
     "output_type": "stream",
     "text": [
      " 50%|█████     | 5/10 [00:27<00:27,  5.59s/it]"
     ]
    },
    {
     "name": "stdout",
     "output_type": "stream",
     "text": [
      "tz converting...\n"
     ]
    },
    {
     "name": "stderr",
     "output_type": "stream",
     "text": [
      " 60%|██████    | 6/10 [00:32<00:21,  5.37s/it]"
     ]
    },
    {
     "name": "stdout",
     "output_type": "stream",
     "text": [
      "tz converting...\n"
     ]
    },
    {
     "name": "stderr",
     "output_type": "stream",
     "text": [
      " 70%|███████   | 7/10 [00:37<00:15,  5.22s/it]"
     ]
    },
    {
     "name": "stdout",
     "output_type": "stream",
     "text": [
      "tz converting...\n"
     ]
    },
    {
     "name": "stderr",
     "output_type": "stream",
     "text": [
      " 80%|████████  | 8/10 [00:41<00:10,  5.09s/it]"
     ]
    },
    {
     "name": "stdout",
     "output_type": "stream",
     "text": [
      "tz converting...\n"
     ]
    },
    {
     "name": "stderr",
     "output_type": "stream",
     "text": [
      " 90%|█████████ | 9/10 [00:46<00:05,  5.07s/it]"
     ]
    },
    {
     "name": "stdout",
     "output_type": "stream",
     "text": [
      "tz converting...\n"
     ]
    },
    {
     "name": "stderr",
     "output_type": "stream",
     "text": [
      "100%|██████████| 10/10 [00:51<00:00,  5.19s/it]\n"
     ]
    }
   ],
   "source": [
    "results_requery_c = analysis_loop_requery_contiguous(\n",
    "    region=region,\n",
    "    interval=interval,\n",
    "    input_dict=input_dict,\n",
    "    username=username,\n",
    "    password=password\n",
    "    )"
   ]
  },
  {
   "cell_type": "code",
   "execution_count": 52,
   "metadata": {},
   "outputs": [],
   "source": [
    "results_loop_requery_c = pd.DataFrame.from_dict(\n",
    "    results_requery_c,\n",
    "    orient=\"index\"\n",
    "    )"
   ]
  },
  {
   "cell_type": "markdown",
   "metadata": {},
   "source": [
    "# Comparing Single Query vs Requery vs Requery Contigous"
   ]
  },
  {
   "cell_type": "code",
   "execution_count": 53,
   "metadata": {},
   "outputs": [
    {
     "data": {
      "text/html": [
       "<div>\n",
       "<style scoped>\n",
       "    .dataframe tbody tr th:only-of-type {\n",
       "        vertical-align: middle;\n",
       "    }\n",
       "\n",
       "    .dataframe tbody tr th {\n",
       "        vertical-align: top;\n",
       "    }\n",
       "\n",
       "    .dataframe thead th {\n",
       "        text-align: right;\n",
       "    }\n",
       "</style>\n",
       "<table border=\"1\" class=\"dataframe\">\n",
       "  <thead>\n",
       "    <tr style=\"text-align: right;\">\n",
       "      <th></th>\n",
       "      <th>baseline</th>\n",
       "      <th>forecast</th>\n",
       "      <th>actual</th>\n",
       "      <th>m</th>\n",
       "      <th>b</th>\n",
       "      <th>stddev</th>\n",
       "      <th>percent_difference</th>\n",
       "    </tr>\n",
       "  </thead>\n",
       "  <tbody>\n",
       "    <tr>\n",
       "      <th>335</th>\n",
       "      <td>19.374900</td>\n",
       "      <td>17.364438</td>\n",
       "      <td>5.772350</td>\n",
       "      <td>-0.965979</td>\n",
       "      <td>1221.491835</td>\n",
       "      <td>36.154509</td>\n",
       "      <td>-0.702071</td>\n",
       "    </tr>\n",
       "    <tr>\n",
       "      <th>248</th>\n",
       "      <td>47.119410</td>\n",
       "      <td>45.362598</td>\n",
       "      <td>46.858906</td>\n",
       "      <td>1.127139</td>\n",
       "      <td>1209.010418</td>\n",
       "      <td>35.813855</td>\n",
       "      <td>-0.005529</td>\n",
       "    </tr>\n",
       "    <tr>\n",
       "      <th>187</th>\n",
       "      <td>99.036054</td>\n",
       "      <td>97.043829</td>\n",
       "      <td>97.403682</td>\n",
       "      <td>-0.960845</td>\n",
       "      <td>1377.716438</td>\n",
       "      <td>23.558332</td>\n",
       "      <td>-0.016483</td>\n",
       "    </tr>\n",
       "    <tr>\n",
       "      <th>129</th>\n",
       "      <td>44.891362</td>\n",
       "      <td>43.965281</td>\n",
       "      <td>44.818082</td>\n",
       "      <td>-0.170719</td>\n",
       "      <td>1227.373027</td>\n",
       "      <td>10.085330</td>\n",
       "      <td>-0.001632</td>\n",
       "    </tr>\n",
       "    <tr>\n",
       "      <th>347</th>\n",
       "      <td>40.716275</td>\n",
       "      <td>34.589730</td>\n",
       "      <td>30.394725</td>\n",
       "      <td>-2.414455</td>\n",
       "      <td>1241.087671</td>\n",
       "      <td>78.058167</td>\n",
       "      <td>-0.253499</td>\n",
       "    </tr>\n",
       "  </tbody>\n",
       "</table>\n",
       "</div>"
      ],
      "text/plain": [
       "      baseline   forecast     actual         m            b     stddev  \\\n",
       "335  19.374900  17.364438   5.772350 -0.965979  1221.491835  36.154509   \n",
       "248  47.119410  45.362598  46.858906  1.127139  1209.010418  35.813855   \n",
       "187  99.036054  97.043829  97.403682 -0.960845  1377.716438  23.558332   \n",
       "129  44.891362  43.965281  44.818082 -0.170719  1227.373027  10.085330   \n",
       "347  40.716275  34.589730  30.394725 -2.414455  1241.087671  78.058167   \n",
       "\n",
       "     percent_difference  \n",
       "335           -0.702071  \n",
       "248           -0.005529  \n",
       "187           -0.016483  \n",
       "129           -0.001632  \n",
       "347           -0.253499  "
      ]
     },
     "execution_count": 53,
     "metadata": {},
     "output_type": "execute_result"
    }
   ],
   "source": [
    "results_loop.head()"
   ]
  },
  {
   "cell_type": "code",
   "execution_count": 64,
   "metadata": {},
   "outputs": [],
   "source": [
    "results_all = results_loop_requery[[\"baseline\",\"actual\"]].merge(results_loop_requery_c[\"actual\"], suffixes = ['_requery','_requery_c'], left_index=True, right_index=True).merge(results_loop[\"actual\"], left_index=True, right_index=True)"
   ]
  },
  {
   "cell_type": "code",
   "execution_count": 67,
   "metadata": {},
   "outputs": [
    {
     "data": {
      "text/plain": [
       "<Axes: >"
      ]
     },
     "execution_count": 67,
     "metadata": {},
     "output_type": "execute_result"
    },
    {
     "data": {
      "image/png": "[encoded data removed]",
      "text/plain": [
       "<Figure size 640x480 with 1 Axes>"
      ]
     },
     "metadata": {},
     "output_type": "display_data"
    }
   ],
   "source": [
    "results_all.sort_index().plot(kind=\"bar\")"
   ]
  }
 ],
 "metadata": {
  "kernelspec": {
   "display_name": "watttime",
   "language": "python",
   "name": "python3"
  },
  "language_info": {
   "codemirror_mode": {
    "name": "ipython",
    "version": 3
   },
   "file_extension": ".py",
   "mimetype": "text/x-python",
   "name": "python",
   "nbconvert_exporter": "python",
   "pygments_lexer": "ipython3",
   "version": "3.9.21"
  }
 },
 "nbformat": 4,
 "nbformat_minor": 2
}
